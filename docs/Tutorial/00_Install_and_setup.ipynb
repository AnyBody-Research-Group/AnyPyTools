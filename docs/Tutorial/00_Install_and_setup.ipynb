{
 "cells": [
  {
   "cell_type": "markdown",
   "metadata": {},
   "source": [
    "# Install and setup\n",
    "****\n",
    "\n",
    "[AnyPyTools](https://github.com/AnyBody-Research-Group/AnyPyTools) is an open source python library for working with the AnyBody Modeling System.\n",
    "\n",
    "#### Requirements:\n",
    "\n",
    "* The [AnyBody Modeling System](http://www.anybodytech.com)\n",
    "* A Scientific Python distribution\n",
    "\n",
    "\n",
    "#### Easy Installation: \n",
    "\n",
    "- Download and install the [Anaconda Python distribution](https://www.continuum.io/downloads)\n",
    "\n",
    "- After installation, open the Anaconda command prompt and type:\n",
    "\n",
    "> ```bash\n",
    "> conda config --add channels conda-forge\n",
    "> conda install anypytools\n",
    "> ```\n",
    " \n",
    "This will install the newest version of AnyPyTools. Note: If Anaconda is 'Installed for all users' it may be necessary to run the command with admin rights. \n",
    "\n",
    "To update the package in case of newer versions run\n",
    "\n",
    ">```bash\n",
    "> conda update anypytools\n",
    "> ```\n",
    "\n",
    "<img src=\"Tutorial files/relax.png\" alt=\"\" align=\"left\"  style=\"height: 150px;\"/>"
   ]
  },
  {
   "cell_type": "code",
   "execution_count": null,
   "metadata": {
    "collapsed": true,
    "jupyter": {
     "outputs_hidden": true
    }
   },
   "outputs": [],
   "source": []
  }
 ],
 "metadata": {
  "kernelspec": {
   "display_name": "Python 3",
   "language": "python",
   "name": "python3"
  },
  "language_info": {
   "codemirror_mode": {
    "name": "ipython",
    "version": 3
   },
   "file_extension": ".py",
   "mimetype": "text/x-python",
   "name": "python",
   "nbconvert_exporter": "python",
   "pygments_lexer": "ipython3",
   "version": "3.7.4"
  },
  "nbsphinx": {
   "orphan": true
  },
  "widgets": {
   "state": {},
   "version": "1.1.2"
  }
 },
 "nbformat": 4,
 "nbformat_minor": 4
}
