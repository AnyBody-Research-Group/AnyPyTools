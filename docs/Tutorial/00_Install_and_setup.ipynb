{
 "cells": [
  {
   "cell_type": "markdown",
   "metadata": {},
   "source": [
    "# Install and setup\n",
    "****\n",
    "\n",
    "[AnyPyTools](https://github.com/AnyBody-Research-Group/AnyPyTools) is an open source python library for working with the AnyBody Modeling System.\n",
    "\n",
    "#### Requirements:\n",
    "\n",
    "* The [AnyBody Modeling System](http://www.anybodytech.com)\n",
    "* Python\n",
    "\n",
    "\n",
    "#### Easy Installation: \n",
    "\n",
    "The best way to get started is using the pixi package manager. It will automatically install python and all needed depencies for you. \n",
    "\n",
    "Install the [pixi](https://pixi.sh/) package manager for Python.\n",
    "\n",
    "> ```bash\n",
    "> powershell -ExecutionPolicy ByPass -c \"irm -useb https://pixi.sh/install.ps1 | ie\n",
    "> ```\n",
    "\n",
    "After installation, open your working directory in the terminal and run the following command:\n",
    "\n",
    "> ```bash\n",
    "> pixi init\n",
    "> pixi add anypytools\n",
    "> pixi install\n",
    "> ```\n",
    " \n",
    "This will create a virtual python environment in that folder and install the AnyPyTools package. Likwise, you can add other depedencies to the virtual environment (e.g. `pixi add jupyter pandas`). All dependencies are tracked in the `pixi.yaml` file which can also be edited manually. \n",
    "\n",
    "You can now activate the virtual environment with `pixi shell` and run your scripts. Otherwise, you can prefix your commands with `pixi run` to run them in the virtual environment. \n",
    "\n",
    "e.g.: \n",
    "```bash \n",
    "pixi run python my_script.py\n",
    "```\n",
    "\n",
    "### Controling the version of AnyBody used by AnyPyTools\n",
    "\n",
    "The clever part of using a package manger like pixi is that you can also control which version of the AnyBody console application is used by AnyPyTools.\n",
    "\n",
    "A light weight headless version of AnyBody exists as [conda-packages](https://anaconda.org/anybody/anybodycon). Hence, we can install a specific version of AnyBody into our virtual environment. \n",
    "\n",
    "To do this we first need to add the `anybody` channel to our project. \n",
    "\n",
    "```bash\n",
    "pixi project channel add anybody` \n",
    "```\n",
    "\n",
    "Then we can install a specific version of AnyBody console application. \n",
    "\n",
    "```bash\n",
    "pixi add anybodycon=8.0.4\n",
    "```\n",
    "\n",
    "Now all simulations in this project will use the specified version of AnyBody, regardsless of what is installed on the host system."
   ]
  },
  {
   "cell_type": "markdown",
   "metadata": {},
   "source": []
  }
 ],
 "metadata": {
  "kernelspec": {
   "display_name": "Python 3 (ipykernel)",
   "language": "python",
   "name": "python3"
  },
  "language_info": {
   "codemirror_mode": {
    "name": "ipython",
    "version": 3
   },
   "file_extension": ".py",
   "mimetype": "text/x-python",
   "name": "python",
   "nbconvert_exporter": "python",
   "pygments_lexer": "ipython3",
   "version": "3.9.2"
  },
  "nbsphinx": {
   "orphan": true
  },
  "widgets": {
   "application/vnd.jupyter.widget-state+json": {
    "state": {},
    "version_major": 2,
    "version_minor": 0
   }
  }
 },
 "nbformat": 4,
 "nbformat_minor": 4
}
