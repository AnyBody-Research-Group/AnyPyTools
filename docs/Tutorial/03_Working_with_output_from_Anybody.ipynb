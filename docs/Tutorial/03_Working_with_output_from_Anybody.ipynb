{
 "cells": [
  {
   "cell_type": "markdown",
   "metadata": {},
   "source": [
    "# Working with data from AnyBody"
   ]
  },
  {
   "cell_type": "markdown",
   "metadata": {},
   "source": [
    "There are several ways to output data from AnyBody. The previous tutorials used the 'Dump' class operation to export specific variables. Another option is to have AnyBody write specific variables to a file by adding the 'AnyOutputFile' class to the AnyBody model."
   ]
  },
  {
   "cell_type": "markdown",
   "metadata": {},
   "source": [
    "## Working with AnyOutputFiles"
   ]
  },
  {
   "cell_type": "markdown",
   "metadata": {},
   "source": [
    "The `AnyOutputFile` class in the AnyBody Modeling System produces text files with data. These text files are very similar to comma seperated files with some additional header information. \n",
    "\n",
    "Here is an example below:"
   ]
  },
  {
   "cell_type": "code",
   "execution_count": null,
   "metadata": {},
   "outputs": [],
   "source": [
    "# %load TestOutput.csv\n",
    "---- AnyBody Output File ---------------------------------\n",
    "Study: Main.MyStudy\n",
    "Operation: Main.MyStudy.InverseDynamics\n",
    "----------------------------------------------------------\n",
    "Constants (Name = Value): \n",
    "Main.MyStudy.FileOutput.ConstName = \"HelloWorld\"\n",
    "Main.MyStudy.nStep = 5\n",
    "Main.MyModel.Femur.Knee.sRel = { 0.000000000000000e+000, -3.000000000000000e-001,  0.000000000000000e+000}\n",
    "----------------------------------------------------------\n",
    "Variables (Column# Name): \n",
    "col0  Main.MyStudy.t\n",
    "col1  Main.MyStudy.MomentArm\n",
    "----------------------------------------------------------\n",
    "Main.MyStudy.t,Main.MyStudy.MomentArm\n",
    " 0.000000000000000e+000, 3.517106754087954e-002\n",
    " 6.000000000000000e-001, 4.256597756479537e-002\n",
    " 1.200000000000000e+000,-2.495531558514929e-004\n",
    " 1.800000000000000e+000, 4.256603812471121e-002\n",
    " 2.400000000000000e+000, 3.517106649790244e-002\n"
   ]
  },
  {
   "cell_type": "markdown",
   "metadata": {},
   "source": [
    "It is not particular difficult to read. You could write you own custom Python, Matlab code to parse the values. But **`anypytools`**  has a few convinience functions that makes it very easy to load the files. \n",
    "\n",
    "This is especially usefull for the header information which can be annoying to parse manually. "
   ]
  },
  {
   "cell_type": "code",
   "execution_count": 2,
   "metadata": {},
   "outputs": [],
   "source": [
    "from anypytools.datautils import read_anyoutputfile\n",
    "\n",
    "data, header, constants = read_anyoutputfile(\"TestOutput.csv\")"
   ]
  },
  {
   "cell_type": "markdown",
   "metadata": {},
   "source": [
    "The function returns three outputs. An array with the time dependent data, and a list of header names:"
   ]
  },
  {
   "cell_type": "code",
   "execution_count": 3,
   "metadata": {},
   "outputs": [
    {
     "data": {
      "text/plain": [
       "(['Main.MyStudy.t', 'Main.MyStudy.MomentArm'],\n",
       " array([[ 0.00000000e+00,  3.51710675e-02],\n",
       "        [ 6.00000000e-01,  4.25659776e-02],\n",
       "        [ 1.20000000e+00, -2.49553156e-04],\n",
       "        [ 1.80000000e+00,  4.25660381e-02],\n",
       "        [ 2.40000000e+00,  3.51710665e-02]]))"
      ]
     },
     "execution_count": 3,
     "metadata": {},
     "output_type": "execute_result"
    }
   ],
   "source": [
    "header, data"
   ]
  },
  {
   "cell_type": "markdown",
   "metadata": {},
   "source": [
    "and python dictonary with constant values:"
   ]
  },
  {
   "cell_type": "code",
   "execution_count": 4,
   "metadata": {},
   "outputs": [
    {
     "data": {
      "text/plain": [
       "{'Main.MyStudy.FileOutput.ConstName': 'HelloWorld',\n",
       " 'Main.MyStudy.nStep': 5.0,\n",
       " 'Main.MyModel.Femur.Knee.sRel': array([ 0. , -0.3,  0. ])}"
      ]
     },
     "execution_count": 4,
     "metadata": {},
     "output_type": "execute_result"
    }
   ],
   "source": [
    "constants"
   ]
  },
  {
   "cell_type": "markdown",
   "metadata": {},
   "source": [
    "## Working with HDF5 files"
   ]
  },
  {
   "cell_type": "markdown",
   "metadata": {},
   "source": [
    "Sometimes, it can be convenient to save the entire model along with all its data (although this can be several hundred megabytes). It is useful if we later want to analyze other output variables from the model. It can also be useful if we want to load the data in the AnyBody graphical user application and replay the result.\n",
    "\n",
    "AnyBody has a feature to save the output of a study to an HDF5 file. And like most things in AnyBody, this can also be done with a macro command. \n",
    "\n",
    "Let us try this with the model from the previous tutorials."
   ]
  },
  {
   "cell_type": "code",
   "execution_count": 5,
   "metadata": {},
   "outputs": [
    {
     "data": {
      "text/plain": [
       "[load \"Knee.any\", operation Main.MyStudy.Kinematics\n",
       " run, classoperation Main.MyStudy.Output \"Save data\" --type=\"Deep\" --file=\"output.anydata.h5\"]"
      ]
     },
     "execution_count": 5,
     "metadata": {},
     "output_type": "execute_result"
    }
   ],
   "source": [
    "from anypytools.macro_commands import Load, OperationRun, SaveData\n",
    "\n",
    "macrolist = [\n",
    "  Load('Knee.any'),\n",
    "  OperationRun('Main.MyStudy.Kinematics'),\n",
    "  SaveData('Main.MyStudy', 'output.anydata.h5'),\n",
    "]\n",
    "macrolist"
   ]
  },
  {
   "cell_type": "markdown",
   "metadata": {},
   "source": [
    " Here we have added a \"`Save data`\" classoperation to the macro. "
   ]
  },
  {
   "cell_type": "code",
   "execution_count": null,
   "metadata": {},
   "outputs": [],
   "source": [
    "from anypytools import AnyPyProcess \n",
    "app = AnyPyProcess()\n",
    "\n",
    "app.start_macro(macrolist);"
   ]
  },
  {
   "cell_type": "markdown",
   "metadata": {},
   "source": [
    "The data stored in the file **output.anydata.h5** can be re-loaded in the AnyBody GUI application. \n",
    "\n",
    "To do this; load the model, and then right click the `Main.MyStudy.Output` folder and select \"Load data\". \n",
    "\n",
    "These files can also be loaded into Matlab or Python. In python this is done using the *`h5py`* module\n",
    "\n"
   ]
  },
  {
   "cell_type": "code",
   "execution_count": 7,
   "metadata": {},
   "outputs": [
    {
     "name": "stdout",
     "output_type": "stream",
     "text": [
      "[0.03517107 0.03518544 0.03522538 0.03529129 0.03538355 0.03550231\n",
      " 0.03564761 0.03581929 0.03601707 0.03624048 0.03648895 0.03676178\n",
      " 0.03705816 0.03737724 0.03771812 0.03807991 0.03846173 0.03886281\n",
      " 0.03928244 0.03972002 0.0401751  0.04064731 0.04113638 0.04164206\n",
      " 0.04216406 0.04270195 0.04325503 0.04382223 0.04440197 0.04499208\n",
      " 0.04558969 0.04619126 0.04679259 0.04738895 0.04797527 0.04854637\n",
      " 0.0490972  0.04962319 0.05012044 0.0505859  0.051017   0.0514114\n",
      " 0.05176698 0.0520819  0.05235456 0.05258365 0.05276812 0.05290715\n",
      " 0.05300015 0.05304675 0.05304675 0.05300015 0.05290715 0.05276812\n",
      " 0.05258365 0.05235456 0.0520819  0.05176698 0.0514114  0.051017\n",
      " 0.0505859  0.05012044 0.04962319 0.0490972  0.04854637 0.04797527\n",
      " 0.04738895 0.04679259 0.04619126 0.04558969 0.04499208 0.04440197\n",
      " 0.04382223 0.04325503 0.04270195 0.04216406 0.04164206 0.04113638\n",
      " 0.04064731 0.0401751  0.03972002 0.03928244 0.03886281 0.03846173\n",
      " 0.03807991 0.03771812 0.03737724 0.03705816 0.03676178 0.03648895\n",
      " 0.03624048 0.03601707 0.03581929 0.03564761 0.03550231 0.03538355\n",
      " 0.03529129 0.03522538 0.03518546 0.03517104]\n"
     ]
    }
   ],
   "source": [
    "import numpy as np\n",
    "import h5py\n",
    "\n",
    "h5file = h5py.File('output.anydata.h5')\n",
    "data = np.array( h5file['/Output/MomentArm'] )\n",
    "h5file.close()\n",
    "print(data)"
   ]
  },
  {
   "cell_type": "markdown",
   "metadata": {},
   "source": [
    "The data structure of the HDF5 files can, unfortunately, be very confusing. AnyBody does not save duplicate copies of the same data. If there are multiple references to the same folder, only one will be present in the HDF5 file. \n",
    "In our model `Knee.any` we have a reference to the **`Knee`** joint folder just before the **`Model`** folder in the study section. Thus, all variables inside the **`Knee`** folder cannot be accessed with the path '/Output/Model/Knee/...', but only through the path of the reference '/Output/kneeref/...'.\n",
    "\n",
    "We can see the problem in the following code snippet:"
   ]
  },
  {
   "cell_type": "code",
   "execution_count": 8,
   "metadata": {},
   "outputs": [
    {
     "name": "stdout",
     "output_type": "stream",
     "text": [
      "False\n",
      "True\n"
     ]
    }
   ],
   "source": [
    "with h5py.File('output.anydata.h5') as f:\n",
    "    print('/Output/Model/Knee/Pos' in f)\n",
    "    print('/Output/kneeref/Pos' in f)\n"
   ]
  },
  {
   "cell_type": "markdown",
   "metadata": {},
   "source": [
    "This makes it difficult to find the correct path in large models with many references. AnyPyTools contains a wrapper for the h5py module, which automatically locates the right data, no matter what path is used. Using this module, we can easily locate the data. "
   ]
  },
  {
   "cell_type": "code",
   "execution_count": 9,
   "metadata": {},
   "outputs": [
    {
     "name": "stdout",
     "output_type": "stream",
     "text": [
      "True\n",
      "True\n"
     ]
    }
   ],
   "source": [
    "import anypytools.h5py_wrapper as h5py2\n",
    "with h5py2.File('output.anydata.h5') as f:\n",
    "    print('/Output/Model/Knee/Pos' in f)\n",
    "    print('/Output/kneeref/Pos' in f)"
   ]
  },
  {
   "cell_type": "markdown",
   "metadata": {},
   "source": [
    "The h5py wrapper will also let us use the AnyScript variable names directly, so we don't have to replace every . (dot) with a / (slash), and remove the stuff before the Output folder. "
   ]
  },
  {
   "cell_type": "code",
   "execution_count": 10,
   "metadata": {},
   "outputs": [],
   "source": [
    "with h5py2.File('output.anydata.h5') as f:\n",
    "    momentarm = np.array(f['/Output/MomentArm']) # Standard h5py notation\n",
    "    momentarm = np.array(f['Output.MomentArm'])  # dot notation\n",
    "    kneeangle = np.array(f['Main.MyStudy.Output.Model.Knee.Pos']) # dot notation with full path\n",
    "    "
   ]
  },
  {
   "cell_type": "code",
   "execution_count": 11,
   "metadata": {},
   "outputs": [
    {
     "data": {
      "image/png": "[encoded data removed]",
      "text/plain": [
       "<Figure size 432x288 with 1 Axes>"
      ]
     },
     "metadata": {
      "needs_background": "light"
     },
     "output_type": "display_data"
    }
   ],
   "source": [
    "%matplotlib inline\n",
    "from numpy import degrees\n",
    "import matplotlib.pyplot as plt\n",
    "from matplotlib.ticker import FuncFormatter\n",
    "\n",
    "plt.plot(degrees(kneeangle), 100*momentarm)\n",
    "\n",
    "plt.xlabel('Knee flexion (deg)')\n",
    "plt.ylabel('Moment arm (cm)');"
   ]
  },
  {
   "cell_type": "code",
   "execution_count": null,
   "metadata": {},
   "outputs": [],
   "source": []
  }
 ],
 "metadata": {
  "kernelspec": {
   "display_name": "Python 3",
   "language": "python",
   "name": "python3"
  },
  "language_info": {
   "codemirror_mode": {
    "name": "ipython",
    "version": 3
   },
   "file_extension": ".py",
   "mimetype": "text/x-python",
   "name": "python",
   "nbconvert_exporter": "python",
   "pygments_lexer": "ipython3",
   "version": "3.7.4"
  },
  "widgets": {
   "state": {
    "2e65788ea5d0449ea6773edaeef12923": {
     "views": []
    },
    "4a056ce1aaa3423097fe34bd87a497aa": {
     "views": []
    },
    "51206d446ca140ee805ac130579e754b": {
     "views": [
      {
       "cell_index": 8
      }
     ]
    },
    "750152ac021b4b5b80d6f408e2402a03": {
     "views": []
    },
    "8863d80b4a3b46f88dd77846157bbf1f": {
     "views": [
      {
       "cell_index": 8
      }
     ]
    },
    "bc798391dcce4288a7cc34ff7a64f9a7": {
     "views": []
    },
    "c2dc258cb215425d896f4e1ae38f82c2": {
     "views": []
    },
    "e94ff8e77ae542e8afaff2539e20cf73": {
     "views": []
    }
   },
   "version": "1.1.2"
  }
 },
 "nbformat": 4,
 "nbformat_minor": 1
}
