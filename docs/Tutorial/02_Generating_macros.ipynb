{
 "cells": [
  {
   "cell_type": "markdown",
   "metadata": {},
   "source": [
    "# Creating AnyScript Macros"
   ]
  },
  {
   "cell_type": "markdown",
   "metadata": {},
   "source": [
    "AnyPyTools can create AnyScript macros automatically. Doing so simplifies the process of writing complex macros and makes it easier to do things like parameter studies, Monte Carlo simulation, etc.  \n",
    "\n",
    "There is a class for every macro command:"
   ]
  },
  {
   "cell_type": "code",
   "execution_count": 1,
   "metadata": {
    "collapsed": false
   },
   "outputs": [],
   "source": [
    "from anypytools.macro_commands import ( MacroCommand, Load, SetValue, SetValue_random,  Dump, SaveDesign,\n",
    "                                        LoadDesign, SaveValues, LoadValues, UpdateValues, OperationRun)"
   ]
  },
  {
   "cell_type": "markdown",
   "metadata": {},
   "source": [
    "### A quick example"
   ]
  },
  {
   "cell_type": "markdown",
   "metadata": {},
   "source": [
    "The following shows how the to generate a simple macro."
   ]
  },
  {
   "cell_type": "code",
   "execution_count": 2,
   "metadata": {
    "collapsed": false
   },
   "outputs": [
    {
     "data": {
      "text/plain": [
       "[load \"Knee.any\" -def SUBJECT=---\"\\\"S02\\\"\" -def TRIAL=---\"\\\"T04\\\"\",\n",
       " operation Main.MyStudy.InverseDynamics\n",
       " run,\n",
       " classoperation Main.MyStudy.Output.MaxMuscleActivity \"Dump\"]"
      ]
     },
     "execution_count": 2,
     "metadata": {},
     "output_type": "execute_result"
    }
   ],
   "source": [
    "macrolist = [ Load('Knee.any', defs = {'SUBJECT':'\"S02\"','TRIAL':'\"T04\"' }),\n",
    "              OperationRun('Main.MyStudy.InverseDynamics'),\n",
    "              Dump('Main.MyStudy.Output.MaxMuscleActivity')] \n",
    "macrolist "
   ]
  },
  {
   "cell_type": "markdown",
   "metadata": {},
   "source": [
    "Each macro object will generate the macro commands with the correct syntax.\n",
    "The macro can be launched using the `start_macro()` method of  the `AnyPyProcess`  object.\n"
   ]
  },
  {
   "cell_type": "code",
   "execution_count": 3,
   "metadata": {
    "collapsed": false
   },
   "outputs": [],
   "source": [
    "from anypytools import AnyPyProcess\n",
    "app = AnyPyProcess()\n",
    "app.start_macro(macrolist);"
   ]
  },
  {
   "cell_type": "markdown",
   "metadata": {},
   "source": [
    "### Overview of macro commands\n",
    "The `macro_commands` module have classes for generating many of the standard AnyScipt macro commands.\n",
    "\n",
    "- `Load(mainfile, defines, paths)`: load command\n",
    "- `OperationRun(var)`: select operation and run  \n",
    "- `Dump(var)`: classoperation \"Dump\"\n",
    "- `LoadDesign(var, filename)`: classoperation \"Load design\" \n",
    "- `SaveDesign(var, filename)`: classoperation \"Save design\" \n",
    "- `LoadValues(filename)`: classoperation Main \"Load Values\" \n",
    "- `SaveValues(filename)`: classoperation Main \"Save Values\"\n",
    "- `UpdateValues()`: classoperation \"Update Values\"\n",
    "- `SetValue(var,value)`: classoperation \"Set Value\" \n",
    "- `MacroCommand(macro_string)`: Add abitrary macro string"
   ]
  },
  {
   "cell_type": "markdown",
   "metadata": {},
   "source": [
    "### Creating many macros"
   ]
  },
  {
   "cell_type": "markdown",
   "metadata": {},
   "source": [
    "The macro in the previous example would have been easy to write manually. However, in some cases we want to create many macros. Then it is a big advantage to generate them programmatically. \n",
    "\n",
    "To generate many macros we need an extra class `AnyMacro` to wrap our macro list.\n"
   ]
  },
  {
   "cell_type": "code",
   "execution_count": 5,
   "metadata": {
    "collapsed": false
   },
   "outputs": [
    {
     "data": {
      "text/plain": [
       "[['load \"Knee.any\"', 'operation Main.MyStudy.InverseDynamics', 'run']]"
      ]
     },
     "execution_count": 5,
     "metadata": {},
     "output_type": "execute_result"
    }
   ],
   "source": [
    "from anypytools import AnyMacro\n",
    "\n",
    "macrolist = [ Load('Knee.any' ),\n",
    "              OperationRun('Main.MyStudy.InverseDynamics') ] \n",
    "\n",
    "mg = AnyMacro(macrolist)\n",
    "mg"
   ]
  },
  {
   "cell_type": "markdown",
   "metadata": {},
   "source": [
    "By default `AnyMacro` just behaves as a container for our macro. But has additional attributes that specify how many macros we want. "
   ]
  },
  {
   "cell_type": "code",
   "execution_count": 6,
   "metadata": {
    "collapsed": false
   },
   "outputs": [
    {
     "data": {
      "text/plain": [
       "[['load \"Knee.any\"', 'operation Main.MyStudy.InverseDynamics', 'run'],\n",
       " ['load \"Knee.any\"', 'operation Main.MyStudy.InverseDynamics', 'run'],\n",
       " ['load \"Knee.any\"', 'operation Main.MyStudy.InverseDynamics', 'run'],\n",
       " ['load \"Knee.any\"', 'operation Main.MyStudy.InverseDynamics', 'run'],\n",
       " ['load \"Knee.any\"', 'operation Main.MyStudy.InverseDynamics', 'run']]"
      ]
     },
     "execution_count": 6,
     "metadata": {},
     "output_type": "execute_result"
    }
   ],
   "source": [
    "mg = AnyMacro(macrolist, number_of_macros = 5)\n",
    "mg"
   ]
  },
  {
   "cell_type": "markdown",
   "metadata": {},
   "source": [
    "This can also be overidden when calling its `create_macros()` function"
   ]
  },
  {
   "cell_type": "code",
   "execution_count": 7,
   "metadata": {
    "collapsed": false
   },
   "outputs": [
    {
     "data": {
      "text/plain": [
       "[['load \"Knee.any\"', 'operation Main.MyStudy.InverseDynamics', 'run'],\n",
       " ['load \"Knee.any\"', 'operation Main.MyStudy.InverseDynamics', 'run']]"
      ]
     },
     "execution_count": 7,
     "metadata": {},
     "output_type": "execute_result"
    }
   ],
   "source": [
    "mg.create_macros(2)"
   ]
  },
  {
   "cell_type": "markdown",
   "metadata": {},
   "source": [
    "This list of macros can also be passed to the 'start_macro' function to executed in parallel. "
   ]
  },
  {
   "cell_type": "code",
   "execution_count": 8,
   "metadata": {
    "collapsed": false
   },
   "outputs": [],
   "source": [
    "from anypytools import AnyPyProcess\n",
    "app = AnyPyProcess(anybodycon_path=\"C:/Program Files/AnyBody Technology/AnyBody.6.0/anybodycon.exe\")\n",
    "output = app.start_macro( mg.create_macros(100) )"
   ]
  },
  {
   "cell_type": "markdown",
   "metadata": {},
   "source": [
    "Running many macros is only really useful if the macros are different. Some macros classes, like `SetValue()`, accepts lists of values which it distributes across the generated macros. \n",
    "\n",
    "Imagine a list of 5 parameters. We want to create five macros that use these values:"
   ]
  },
  {
   "cell_type": "code",
   "execution_count": 9,
   "metadata": {
    "collapsed": false
   },
   "outputs": [
    {
     "data": {
      "text/plain": [
       "[['classoperation Main.MyParameter \"Set Value\" --value=\"2.2\"'],\n",
       " ['classoperation Main.MyParameter \"Set Value\" --value=\"2.5\"'],\n",
       " ['classoperation Main.MyParameter \"Set Value\" --value=\"2.7\"'],\n",
       " ['classoperation Main.MyParameter \"Set Value\" --value=\"2.9\"'],\n",
       " ['classoperation Main.MyParameter \"Set Value\" --value=\"3.1\"']]"
      ]
     },
     "execution_count": 9,
     "metadata": {},
     "output_type": "execute_result"
    }
   ],
   "source": [
    "parameter_list = [2.2, 2.5, 2.7, 2.9, 3.1]\n",
    "\n",
    "mg = AnyMacro(SetValue('Main.MyParameter', parameter_list ))\n",
    "mg.create_macros(5)"
   ]
  },
  {
   "cell_type": "markdown",
   "metadata": {},
   "source": [
    "## A simple parameter study"
   ]
  },
  {
   "cell_type": "markdown",
   "metadata": {},
   "source": [
    "Let us combine the previous to create a parameter study. We will continue with the simplified knee model where we left off in the [previous tutorial](01 - Getting started with anypytools.ipynb#Getting-data-from-the-AnyBody-Model). The parameter study will vary the patella tendon length from 2.0cm to 8.0cm, and observe the effect on maximum muscle activity.\n",
    "\n",
    "First we create a list of patella length parameters. "
   ]
  },
  {
   "cell_type": "code",
   "execution_count": 10,
   "metadata": {
    "collapsed": false
   },
   "outputs": [
    {
     "name": "stdout",
     "output_type": "stream",
     "text": [
      "[0.02, 0.03, 0.04, 0.05, 0.06, 0.07, 0.08]\n"
     ]
    }
   ],
   "source": [
    "patella_tendon_lengths = [0.02 + i*0.01 for i in range(7)]\n",
    "print(patella_tendon_lengths)"
   ]
  },
  {
   "cell_type": "markdown",
   "metadata": {},
   "source": [
    "This list of values is added to the macros with the `SetValue` class. "
   ]
  },
  {
   "cell_type": "code",
   "execution_count": 11,
   "metadata": {
    "collapsed": false
   },
   "outputs": [],
   "source": [
    "macro = [Load('Knee.any'),\n",
    "         SetValue('Main.MyModel.PatellaLigament.DriverPos', patella_tendon_lengths ),\n",
    "         OperationRun('Main.MyStudy.InverseDynamics'),\n",
    "         Dump('Main.MyStudy.Output.Abscissa.t'),\n",
    "         Dump('Main.MyStudy.Output.MaxMuscleActivity'),\n",
    "         Dump('Main.MyModel.PatellaLigament.DriverPos')]\n",
    "\n",
    "parameter_study_macro = AnyMacro(macro, number_of_macros= len(patella_tendon_lengths) )"
   ]
  },
  {
   "cell_type": "markdown",
   "metadata": {},
   "source": [
    "We can now run the model and analyze the resulting maximum muscle activity by plotting the data in the `output` variable:"
   ]
  },
  {
   "cell_type": "code",
   "execution_count": 12,
   "metadata": {
    "collapsed": false
   },
   "outputs": [],
   "source": [
    "output = app.start_macro(parameter_study_macro)"
   ]
  },
  {
   "cell_type": "code",
   "execution_count": 13,
   "metadata": {
    "collapsed": false
   },
   "outputs": [
    {
     "data": {
      "image/png": "[encoded data removed]",
      "text/plain": [
       "<matplotlib.figure.Figure at 0x2aeb8f3c860>"
      ]
     },
     "metadata": {},
     "output_type": "display_data"
    }
   ],
   "source": [
    "%matplotlib inline\n",
    "import matplotlib.pyplot as plt\n",
    "\n",
    "for data in output:\n",
    "    maxact = data['Main.MyStudy.Output.MaxMuscleActivity']\n",
    "    time = data['Main.MyStudy.Output.Abscissa.t']\n",
    "    patella_ligament_length = data['Main.MyModel.PatellaLigament.DriverPos'][0]\n",
    "    plt.plot(time, maxact, label='{:.1f} cm'.format(100* patella_ligament_length) )\n",
    "\n",
    "plt.title('Effect of changing patella tendon length')    \n",
    "plt.xlabel('Time steps')\n",
    "plt.ylabel('Max muscle activity')\n",
    "plt.legend(bbox_to_anchor=(1.05, 1), loc=2);"
   ]
  }
 ],
 "metadata": {
  "kernelspec": {
   "display_name": "Python 3",
   "language": "python",
   "name": "python3"
  },
  "language_info": {
   "codemirror_mode": {
    "name": "ipython",
    "version": 3
   },
   "file_extension": ".py",
   "mimetype": "text/x-python",
   "name": "python",
   "nbconvert_exporter": "python",
   "pygments_lexer": "ipython3",
   "version": "3.5.2"
  },
  "widgets": {
   "state": {
    "04e14fadb7d1456a9181a97daeb6b9e7": {
     "views": [
      {
       "cell_index": 26
      }
     ]
    },
    "08b1e15c8d714fd5aef313104a64a088": {
     "views": []
    },
    "18c2838f2e024c1d8a4a6155dae422c1": {
     "views": []
    },
    "1db001dc61234c4d8f915547d1f41da8": {
     "views": []
    },
    "263279b23cd14dcd9d07fa609c704f24": {
     "views": [
      {
       "cell_index": 26
      }
     ]
    },
    "3652768cb3db4ae9ac5cf31332571f08": {
     "views": []
    },
    "448ba9ce8453476ebea77b7677158722": {
     "views": []
    },
    "540fb7c22ab04ec7b6bcb92b38e98c6f": {
     "views": [
      {
       "cell_index": 17
      }
     ]
    },
    "5e8e6753498e414e8f5c0723fa1bb0c8": {
     "views": []
    },
    "6b56158592c144c383ce63e3a880bfcd": {
     "views": []
    },
    "6b90b832319e45f7944a279793dc684c": {
     "views": [
      {
       "cell_index": 7
      }
     ]
    },
    "7baabc22d8834906b9d34ae9bdcf99a8": {
     "views": []
    },
    "84f652c4eb5b447883a630af864d8277": {
     "views": []
    },
    "8d29c71fbbd64b7ebfad3c036dc6d71e": {
     "views": []
    },
    "8fa9fffec8ef4bfca213fcda85600f96": {
     "views": []
    },
    "99870b7c74ba48c0a13bfb43e536cf7e": {
     "views": []
    },
    "9aafb906a5534f948a6df7ce8ad7bd7d": {
     "views": []
    },
    "a19c90b0b726431aa2ed524c08c1d0ce": {
     "views": []
    },
    "a7156a2931ad426fbf4f244fa4e7cc2c": {
     "views": []
    },
    "ab8e3586896647a48c0f6829c7787733": {
     "views": []
    },
    "ad3b93e92ae747d8a24d9760c3f1d3b5": {
     "views": []
    },
    "ade0717192154e2e8a81270dea0f1346": {
     "views": [
      {
       "cell_index": 7
      }
     ]
    },
    "b010c5d738de41a683c61262c22c550b": {
     "views": []
    },
    "b75308fc94784915a73a98c09aa8f017": {
     "views": [
      {
       "cell_index": 17
      }
     ]
    },
    "bdefbcb7b00c4781ab6f71947ed3b5b1": {
     "views": []
    },
    "d10a085f737e4a62adeace6f4329f3fc": {
     "views": []
    },
    "d78a5b74d27d4d65a2611015aac8ec18": {
     "views": []
    },
    "d9f5b15c01134a648ee9975af6a7e42a": {
     "views": []
    },
    "db7b93cd40fc4a0b95f6070264054d98": {
     "views": []
    },
    "e1f58bb5625f4ef58b9088f2f8ec2e87": {
     "views": []
    },
    "ecca03f087d04143aac769adc6fec377": {
     "views": []
    },
    "f638a90756d34b4ca95ef6c9f31cd6de": {
     "views": []
    }
   },
   "version": "1.1.2"
  }
 },
 "nbformat": 4,
 "nbformat_minor": 0
}
