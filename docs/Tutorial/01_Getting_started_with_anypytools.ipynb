{
 "cells": [
  {
   "cell_type": "markdown",
   "metadata": {},
   "source": [
    "# Getting Started with AnyPyTools"
   ]
  },
  {
   "cell_type": "markdown",
   "metadata": {},
   "source": [
    "## Running a simple macro"
   ]
  },
  {
   "cell_type": "markdown",
   "metadata": {},
   "source": [
    "<img src=\"Tutorial files/knee.gif\" alt=\"Drawing\" align=\"Right\" style=\"height: 120px;\"/>\n",
    "\n",
    "For the sake of the tutorial we will use a small 'toy' model of a simplified knee joint (see the figure.) The model is defined in the file [Knee.any](Knee.any), which is placed in the current working directory.\n",
    "\n",
    "Next, let us run the model from python. First, we import the `AnyPyProcess` class and create an instance of the class.\n",
    " "
   ]
  },
  {
   "cell_type": "code",
   "execution_count": 1,
   "metadata": {
    "collapsed": true
   },
   "outputs": [],
   "source": [
    "from anypytools import AnyPyProcess \n",
    "app = AnyPyProcess()"
   ]
  },
  {
   "cell_type": "markdown",
   "metadata": {},
   "source": [
    "Next, we need to instruct the AnyBody Modelling System to load the and run the model. We do this using _AnyScript_ macro commands. These are short commands that can automate operations in the AnyBody Modeling System (AMS). Operation that are normally done by pointing and clicking in the AMS graphical user interface. \n",
    "\n",
    "You can read more on _AnyScript_ macros in the \"User Interface Features\" tutorial that accompanies the AnyBody Modeling System.\n",
    "\n",
    "Now we define an _AnyScript_ macro that we want to run on the model.\n",
    "\n",
    "```\n",
    "load \"Knee.any\"\n",
    "operation Main.MyStudy.Kinematics\n",
    "run\n",
    "```\n",
    "\n",
    "The macro will command AnyBody to load the model and run the Kinematics operation. \n",
    "\n",
    "The macro is executed by parsing it to the `start_macro()` method of the `AnyPyProcess` object."
   ]
  },
  {
   "cell_type": "code",
   "execution_count": 2,
   "metadata": {},
   "outputs": [
    {
     "data": {
      "application/vnd.jupyter.widget-view+json": {
       "model_id": "c46070d879c84de89e24876f44bb6f5f"
      }
     },
     "metadata": {},
     "output_type": "display_data"
    },
    {
     "data": {
      "application/vnd.jupyter.widget-view+json": {
       "model_id": "6e99fc898d914f0395ddc0f413791c31"
      }
     },
     "metadata": {},
     "output_type": "display_data"
    }
   ],
   "source": [
    "macrolist = [\n",
    "    'load \"Knee.any\"',\n",
    "    'operation Main.MyStudy.Kinematics',\n",
    "    'run',\n",
    "]\n",
    "\n",
    "app.start_macro(macrolist);"
   ]
  },
  {
   "cell_type": "markdown",
   "metadata": {},
   "source": [
    "## Running multiple macros"
   ]
  },
  {
   "cell_type": "markdown",
   "metadata": {},
   "source": [
    "It is easy to run multiple macros by adding an extra set of macro commands to the macro list."
   ]
  },
  {
   "cell_type": "code",
   "execution_count": 4,
   "metadata": {},
   "outputs": [
    {
     "data": {
      "application/vnd.jupyter.widget-view+json": {
       "model_id": "3da4471285534226be9adb769baf6913"
      }
     },
     "metadata": {},
     "output_type": "display_data"
    },
    {
     "data": {
      "application/vnd.jupyter.widget-view+json": {
       "model_id": "0125a2762960479097f50f88e94dd875"
      }
     },
     "metadata": {},
     "output_type": "display_data"
    }
   ],
   "source": [
    "macrolist = [\n",
    "    ['load \"Knee.any\"',\n",
    "     'operation Main.MyStudy.Kinematics',\n",
    "     'run'],\n",
    "    ['load \"Knee.any\"',\n",
    "     'operation Main.MyStudy.InverseDynamics',\n",
    "     'run'],\n",
    "]\n",
    "app.start_macro(macrolist);"
   ]
  },
  {
   "cell_type": "markdown",
   "metadata": {},
   "source": [
    "## Parallel execution"
   ]
  },
  {
   "cell_type": "markdown",
   "metadata": {},
   "source": [
    "Notice that AnyPyProcess will run the anyscript macros in parallel. Modern computers have multiple cores, but a single AnyBody instance can only utilize a single core, leaving us with a great potential for speeding things up through parallelization.\n",
    "\n",
    "To test this, let us create ten macros in a for-loop. "
   ]
  },
  {
   "cell_type": "code",
   "execution_count": 5,
   "metadata": {
    "collapsed": true
   },
   "outputs": [],
   "source": [
    "macrolist = []\n",
    "for i in range(40):\n",
    "    macro = [\n",
    "        'load \"Knee.any\"',              \n",
    "        'operation Main.MyStudy.InverseDynamics',\n",
    "        'run',\n",
    "    ]\n",
    "    macrolist.append(macro)"
   ]
  },
  {
   "cell_type": "markdown",
   "metadata": {},
   "source": [
    "AnyPyProcess has a parameter 'num_processes' that controls the number of parallel processes. Let us try a small example to see the difference in speed:"
   ]
  },
  {
   "cell_type": "code",
   "execution_count": 5,
   "metadata": {
    "collapsed": true
   },
   "outputs": [],
   "source": [
    "# First sequentially\n",
    "app = AnyPyProcess(num_processes = 1)\n",
    "app.start_macro(macrolist);"
   ]
  },
  {
   "cell_type": "code",
   "execution_count": 6,
   "metadata": {
    "collapsed": true
   },
   "outputs": [],
   "source": [
    "# Then with parallization\n",
    "app = AnyPyProcess(num_processes = 4)\n",
    "app.start_macro(macrolist);"
   ]
  },
  {
   "cell_type": "markdown",
   "metadata": {},
   "source": [
    "*Note*: In general you should not user a `num_processes` larger than the number of cores in your computer."
   ]
  },
  {
   "cell_type": "markdown",
   "metadata": {},
   "source": [
    "## Getting data from the AnyBody Model"
   ]
  },
  {
   "cell_type": "markdown",
   "metadata": {},
   "source": [
    "In the following macro, we have added a new class operation to 'Dump' the result of the maximum muscle activity. The `start_macro` method will return all the dumped variables:"
   ]
  },
  {
   "cell_type": "code",
   "execution_count": 6,
   "metadata": {},
   "outputs": [
    {
     "data": {
      "application/vnd.jupyter.widget-view+json": {
       "model_id": "b29bd748490a4a49a7c1cb3d03364025"
      }
     },
     "metadata": {},
     "output_type": "display_data"
    },
    {
     "data": {
      "application/vnd.jupyter.widget-view+json": {
       "model_id": "2048280c4bf0462f9f6eb6abb3abbaf5"
      }
     },
     "metadata": {},
     "output_type": "display_data"
    },
    {
     "data": {
      "text/plain": [
       "[{'Main.MyStudy.Output.MaxMuscleActivity': \n",
       "    array([ 0.00890538,  0.00927552,  0.00986515,  0.01067729,  0.01171374,\n",
       "            0.01297502,  0.01446022,  0.0161669 ,  0.01809102,  0.02022675,\n",
       "            0.02256637,  0.02510015,  0.0278161 ,  0.03069982,  0.03373426,\n",
       "            0.0368995 ,  0.0401725 ,  0.04352691,  0.04693299,  0.05035756,\n",
       "            0.05376422,  0.05711384,  0.06036528,  0.06347664,  0.06640681,\n",
       "            0.0691175 ,  0.07157552,  0.07375524,  0.07564093,  0.07722862,\n",
       "            0.07852727,  0.0795589 ,  0.08035747,  0.08096676,  0.0814373 ,\n",
       "            0.08182288,  0.0821771 ,  0.08255065,  0.08298457,  0.08333915,\n",
       "            0.08355467,  0.08365939,  0.08367977,  0.08364023,  0.08356287,\n",
       "            0.08346721,  0.08336996,  0.08328478,  0.08322211,  0.083189  ,\n",
       "            0.083189  ,  0.08322211,  0.08328478,  0.08336996,  0.08346721,\n",
       "            0.08356287,  0.08364023,  0.08367977,  0.08365939,  0.08355467,\n",
       "            0.08333915,  0.08298458,  0.08255065,  0.0821771 ,  0.08182288,\n",
       "            0.0814373 ,  0.08096676,  0.08035746,  0.07955889,  0.07852727,\n",
       "            0.07722861,  0.07564092,  0.07375524,  0.07157551,  0.06911749,\n",
       "            0.06640681,  0.06347664,  0.06036528,  0.05711384,  0.05376422,\n",
       "            0.05035756,  0.04693299,  0.04352691,  0.0401725 ,  0.0368995 ,\n",
       "            0.03373426,  0.03069982,  0.0278161 ,  0.02510015,  0.02256637,\n",
       "            0.02022675,  0.01809102,  0.0161669 ,  0.01446022,  0.01297502,\n",
       "            0.01171374,  0.01067729,  0.00986515,  0.00927552,  0.00890538])}]"
      ]
     },
     "execution_count": 6,
     "metadata": {},
     "output_type": "execute_result"
    }
   ],
   "source": [
    "macrolist = [\n",
    "    'load \"Knee.any\"',\n",
    "    'operation Main.MyStudy.InverseDynamics',\n",
    "    'run',\n",
    "    'classoperation Main.MyStudy.Output.MaxMuscleActivity \"Dump\"',\n",
    "] \n",
    "\n",
    "results = app.start_macro(macrolist)\n",
    "results"
   ]
  },
  {
   "cell_type": "markdown",
   "metadata": {},
   "source": [
    "We can export more variables by adding more `classoperation`. But there is a better way of doing this, as we shall see in the next tutorials. \n",
    "\n",
    "Finally, to make a plot we import the `matplotlib` library, and enable inline figures."
   ]
  },
  {
   "cell_type": "code",
   "execution_count": 8,
   "metadata": {
    "collapsed": true
   },
   "outputs": [],
   "source": [
    "max_muscle_act = results[0]['Main.MyStudy.Output.MaxMuscleActivity']"
   ]
  },
  {
   "cell_type": "code",
   "execution_count": 9,
   "metadata": {},
   "outputs": [
    {
     "data": {
      "image/png": "[encoded data removed]",
      "text/plain": [
       "<matplotlib.figure.Figure at 0x29ce17e8160>"
      ]
     },
     "metadata": {},
     "output_type": "display_data"
    }
   ],
   "source": [
    "import numpy as np\n",
    "import matplotlib.pyplot as plt\n",
    "%matplotlib inline\n",
    "\n",
    "plt.plot(max_muscle_act );"
   ]
  }
 ],
 "metadata": {
  "anaconda-cloud": {},
  "kernelspec": {
   "display_name": "Python 3",
   "language": "python",
   "name": "python3"
  },
  "language_info": {
   "codemirror_mode": {
    "name": "ipython",
    "version": 3
   },
   "file_extension": ".py",
   "mimetype": "text/x-python",
   "name": "python",
   "nbconvert_exporter": "python",
   "pygments_lexer": "ipython3",
   "version": "3.6.1"
  },
  "widgets": {
   "state": {
    "15e4633743cd489aa3fc874d83d04021": {
     "views": [
      {
       "cell_index": 6
      }
     ]
    },
    "1b80f856278b44d9ad9468d79730536a": {
     "views": []
    },
    "1c2582e288f9423db9dbe73cc94cfa54": {
     "views": [
      {
       "cell_index": 15
      }
     ]
    },
    "1c84d9a006b748979dcc650a0eeac836": {
     "views": []
    },
    "1d74dd4b9bfa4c23858d89e1992dd26f": {
     "views": []
    },
    "2f1b4ab212684661bf48940c49bd13b1": {
     "views": []
    },
    "3001978c68cf4e1b9dbed1d2cc8ca6f0": {
     "views": []
    },
    "353700f7a2294bc6a07c3361ee93f497": {
     "views": []
    },
    "380f68e480bc4bcfbb4513dd778253f1": {
     "views": []
    },
    "38bade13236a4d13a16fbcf3c04f2452": {
     "views": []
    },
    "3de9608bfe004a92a03fb6fc0bd98aed": {
     "views": []
    },
    "43bc3e490fe84e0a87c336130cdd2b00": {
     "views": [
      {
       "cell_index": 6
      }
     ]
    },
    "47f6ee210c22423c8a081dc6a1e518d7": {
     "views": [
      {
       "cell_index": 19
      }
     ]
    },
    "4c78ec463d2b48f6ad9e83982056c673": {
     "views": []
    },
    "4e2a4366ac8444d59fc5ff13e229617c": {
     "views": []
    },
    "4e48979f58484b06990c66c91d5ef035": {
     "views": []
    },
    "52b3c8189cb64ae4bfbb3056a752c714": {
     "views": []
    },
    "59df77552bcb493e9199fbacabe2d313": {
     "views": []
    },
    "5c8d4ced42ff4eeb8718b59b4ce98063": {
     "views": []
    },
    "5d506457b0124b81b79c1fe859031306": {
     "views": []
    },
    "5e31296995f94ebc922bb8df083ee30b": {
     "views": []
    },
    "5e91cc9e5e864f8bb89294d69c3c5a96": {
     "views": []
    },
    "6021743736874efc8f73e0249baa6002": {
     "views": []
    },
    "604e09f9d337474480545fa18382fa2a": {
     "views": [
      {
       "cell_index": 14
      }
     ]
    },
    "60c090daff4d47d7a31d69f35cafbdd6": {
     "views": []
    },
    "611d0b54830f468498cb8a5cc8dfaeb7": {
     "views": []
    },
    "6313e71cd31d4f969f725f328e40a811": {
     "views": []
    },
    "63c2aa95068e472eb0ec4b76e6de1fa8": {
     "views": []
    },
    "6b32dfe6201b495e8f16c5f17161eb10": {
     "views": []
    },
    "6d0c19aa6a664b698cd514c687769d2a": {
     "views": []
    },
    "6e5d1274554248e9b9af6ffa1b32d6cb": {
     "views": []
    },
    "6f5b18d4b2e24480ad8485cd2e2196af": {
     "views": []
    },
    "70acf272688b466a9caa056d2ae0cd3d": {
     "views": []
    },
    "70e198fa3ec647b9a3fef93077df056c": {
     "views": []
    },
    "7187b805a2ad4750b18313e0c27dee6f": {
     "views": []
    },
    "71ce2401b2f94b18af9f0a3e8b996f56": {
     "views": []
    },
    "72a07062f5bd447cbe5db8fa41ecee35": {
     "views": []
    },
    "7504b8c64e31486d9d854f0b98d612e3": {
     "views": []
    },
    "77aa9b9b65714647825bbec35715f34d": {
     "views": []
    },
    "790bea3e996549c3b972bc5da58c6f86": {
     "views": []
    },
    "7ac158e474ce44fcb92ad51db4edf0f8": {
     "views": [
      {
       "cell_index": 9
      }
     ]
    },
    "7df9763bf2a746098e44172a3aac21dc": {
     "views": []
    },
    "7e1fa33ffcbc4c4cb045b0a39c191a16": {
     "views": []
    },
    "86729ee4a2324d7f8e7d938b4eb94545": {
     "views": []
    },
    "8b05dc0a7cd746e8871daaeee4f15ac1": {
     "views": []
    },
    "8d9647bc84c948f8a5e966395908ae9d": {
     "views": [
      {
       "cell_index": 19
      }
     ]
    },
    "95ada1385e46460b97e219cf6b55acf0": {
     "views": [
      {
       "cell_index": 14
      }
     ]
    },
    "97bfdf1a619048fb97a7eec9bb85c859": {
     "views": []
    },
    "98783a6a3bfe40a6a96387b8daaf1f15": {
     "views": [
      {
       "cell_index": 9
      }
     ]
    },
    "98f5663627d44f44804e05feca20c43b": {
     "views": []
    },
    "9a82b4e7af8d4ad7b1f8e6473291ff4d": {
     "views": []
    },
    "9c80565d7c244262851eb8fc3b455bd8": {
     "views": []
    },
    "9d4efb23809f408981432389093bd404": {
     "views": []
    },
    "9d820bd3211f412c9d1b0125b53cc997": {
     "views": []
    },
    "a0bb4c74d4f74142aa4eed5e1d530945": {
     "views": []
    },
    "a17b447504694c15937ef655f8dc63ab": {
     "views": []
    },
    "a19d28b5f13b44bba578c30fe818c6bb": {
     "views": []
    },
    "a3f2db03c3004b0ab09e65fd7730bdf1": {
     "views": []
    },
    "a5d4bc84e4a14368a29c15a409354691": {
     "views": []
    },
    "b147cf6827864b36b9c127256e3247b6": {
     "views": []
    },
    "b855edbfd0ad4496b69f33b49ddd18f3": {
     "views": []
    },
    "b9ac93e6172d42f8a9a8b5cdc5ac50a6": {
     "views": []
    },
    "bee6974083414fbfa5b2395d73cafa87": {
     "views": [
      {
       "cell_index": 9
      }
     ]
    },
    "c2dcc149c3184b9589a15c55b260650b": {
     "views": []
    },
    "c3dd866b217f422b89b281ac376a33e9": {
     "views": []
    },
    "c753e764f11f49839c4ecb4b47b0cf1e": {
     "views": [
      {
       "cell_index": 14
      }
     ]
    },
    "c87c48c630fd4a428f522b4a3f1a6f1f": {
     "views": []
    },
    "cc21c0cc941141cf93c43a95ebd80266": {
     "views": []
    },
    "cfa8c4f4488845f7a86e768e04bd096d": {
     "views": [
      {
       "cell_index": 15
      }
     ]
    },
    "d1ccc08e84e54eefb55869aad2d5104d": {
     "views": []
    },
    "d29eb7b68596462a85dca7d8496aa8e1": {
     "views": []
    },
    "d3e376572d0e46d0ba19a65f1caabbd7": {
     "views": [
      {
       "cell_index": 6
      }
     ]
    },
    "d5fd93ab7a3344949722e607546fbf40": {
     "views": []
    },
    "d64e1a60eba348c8a8460650365d8178": {
     "views": []
    },
    "d9029156747d40cca09a521a203f83b4": {
     "views": []
    },
    "d9c437a9c4e740049b5c2aac84337af4": {
     "views": []
    },
    "df6867b3a64240a7836d8bb4b488d91c": {
     "views": []
    },
    "e009dc0c760549e5a63ae25220a6a517": {
     "views": []
    },
    "e05a9098b11e4ddda780002d49b4681c": {
     "views": []
    },
    "e113f2293b664877a61f486252be41dc": {
     "views": []
    },
    "e2c30980d0534cb2a81566eb3a8493ad": {
     "views": [
      {
       "cell_index": 6
      }
     ]
    },
    "e4210e953f724b6bb83d738ca2c72921": {
     "views": []
    },
    "e572f55a8315480cb1cbef71becd3e68": {
     "views": []
    },
    "e6d76c8988dc4932bc8dd72fa37ab4fa": {
     "views": []
    },
    "e773d636f0c647f7922281a1a4b31b97": {
     "views": []
    },
    "e7ec52f3f6ee48bbbfbf45475ceee76c": {
     "views": []
    },
    "eb2d8589e2014f14aa1fe5d57f768d0b": {
     "views": [
      {
       "cell_index": 9
      }
     ]
    },
    "eb417aa9019446e7b2a11272d4707701": {
     "views": []
    },
    "ec2aaa9708504c8a8e1736485759988a": {
     "views": []
    },
    "ec86dec968b546ebb0c8afed1db7133c": {
     "views": []
    },
    "f538a2b896ed4cdbb596daa014fda37f": {
     "views": []
    },
    "f5ff0655a28b4b48a39e3c3af33e66d0": {
     "views": []
    },
    "f8318527148749608761d1b9b539d0d4": {
     "views": [
      {
       "cell_index": 14
      }
     ]
    },
    "fb74e6070c0749fe90e2ea6264025b41": {
     "views": []
    },
    "fbd1b4153b2d4d5e94c9a00cc08bc9a0": {
     "views": []
    },
    "fbe6f124aeac44f89636a2b5372cc4db": {
     "views": []
    }
   },
   "version": "1.1.2"
  }
 },
 "nbformat": 4,
 "nbformat_minor": 2
}
