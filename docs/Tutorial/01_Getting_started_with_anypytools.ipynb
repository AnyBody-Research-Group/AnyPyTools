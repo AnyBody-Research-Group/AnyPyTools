{
 "cells": [
  {
   "cell_type": "markdown",
   "source": [
    "# Getting Started with AnyPyTools"
   ],
   "metadata": {}
  },
  {
   "cell_type": "markdown",
   "source": [
    "## Running a simple macro"
   ],
   "metadata": {}
  },
  {
   "cell_type": "markdown",
   "source": [
    "<img src=\"Tutorial_files/knee.gif\" alt=\"Drawing\" align=\"Right\" style=\"height: 120px;\"/>\r\n",
    "\r\n",
    "For the sake of the tutorial we will use a small 'toy' model of a simplified knee joint (see the figure.) The model is defined in the file [Knee.any](Knee.any), which is placed in the current working directory.\r\n",
    "\r\n",
    "Next, let us run the model from python. First, we import the `AnyPyProcess` class and create an instance of the class.\r\n",
    " "
   ],
   "metadata": {}
  },
  {
   "cell_type": "code",
   "execution_count": 2,
   "source": [
    "from anypytools import AnyPyProcess \r\n",
    "app = AnyPyProcess()"
   ],
   "outputs": [],
   "metadata": {}
  },
  {
   "cell_type": "markdown",
   "source": [
    "Next, we need to instruct the AnyBody Modelling System to load the and run the model. We do this using _AnyScript_ macro commands. These are short commands that can automate operations in the AnyBody Modeling System (AMS). Operation that are normally done by pointing and clicking in the AMS graphical user interface. \n",
    "\n",
    "You can read more on _AnyScript_ macros in the \"User Interface Features\" tutorial that accompanies the AnyBody Modeling System.\n",
    "\n",
    "Now we define an _AnyScript_ macro that we want to run on the model.\n",
    "\n",
    "```\n",
    "load \"Knee.any\"\n",
    "operation Main.MyStudy.Kinematics\n",
    "run\n",
    "```\n",
    "\n",
    "The macro will command AnyBody to load the model and run the Kinematics operation. \n",
    "\n",
    "The macro is executed by parsing it to the `start_macro()` method of the `AnyPyProcess` object."
   ],
   "metadata": {}
  },
  {
   "cell_type": "code",
   "execution_count": 2,
   "source": [
    "macrolist = [\n",
    "    'load \"Knee.any\"',\n",
    "    'operation Main.MyStudy.Kinematics',\n",
    "    'run',\n",
    "]\n",
    "\n",
    "app.start_macro(macrolist);"
   ],
   "outputs": [
    {
     "output_type": "display_data",
     "data": {
      "text/plain": [
       "HBox(children=(FloatProgress(value=0.0, max=1.0), HTML(value='')))"
      ],
      "application/vnd.jupyter.widget-view+json": {
       "model_id": "80cf6d94fd3f4c6fb140500c4897212d",
       "version_major": 2,
       "version_minor": 0
      }
     },
     "metadata": {}
    },
    {
     "output_type": "stream",
     "name": "stdout",
     "text": [
      "\n",
      "Completed: 1\n"
     ]
    }
   ],
   "metadata": {}
  },
  {
   "cell_type": "markdown",
   "source": [
    "## Running multiple macros"
   ],
   "metadata": {}
  },
  {
   "cell_type": "markdown",
   "source": [
    "It is easy to run multiple macros by adding an extra set of macro commands to the macro list."
   ],
   "metadata": {}
  },
  {
   "cell_type": "code",
   "execution_count": 3,
   "source": [
    "macrolist = [\n",
    "    ['load \"Knee.any\"',\n",
    "     'operation Main.MyStudy.Kinematics',\n",
    "     'run'],\n",
    "    ['load \"Knee.any\"',\n",
    "     'operation Main.MyStudy.InverseDynamics',\n",
    "     'run'],\n",
    "]\n",
    "app.start_macro(macrolist);"
   ],
   "outputs": [
    {
     "output_type": "display_data",
     "data": {
      "text/plain": [
       "HBox(children=(FloatProgress(value=0.0, max=2.0), HTML(value='')))"
      ],
      "application/vnd.jupyter.widget-view+json": {
       "model_id": "3ae2b6c918b04effafba4b068957f58a",
       "version_major": 2,
       "version_minor": 0
      }
     },
     "metadata": {}
    },
    {
     "output_type": "stream",
     "name": "stdout",
     "text": [
      "\n",
      "Completed: 2\n"
     ]
    }
   ],
   "metadata": {}
  },
  {
   "cell_type": "markdown",
   "source": [
    "## Parallel execution"
   ],
   "metadata": {}
  },
  {
   "cell_type": "markdown",
   "source": [
    "Notice that AnyPyProcess will run the anyscript macros in parallel. Modern computers have multiple cores, but a single AnyBody instance can only utilize a single core, leaving us with a great potential for speeding things up through parallelization.\n",
    "\n",
    "To test this, let us create ten macros in a for-loop. "
   ],
   "metadata": {}
  },
  {
   "cell_type": "code",
   "execution_count": 4,
   "source": [
    "macrolist = []\n",
    "for i in range(40):\n",
    "    macro = [\n",
    "        'load \"Knee.any\"',              \n",
    "        'operation Main.MyStudy.InverseDynamics',\n",
    "        'run',\n",
    "    ]\n",
    "    macrolist.append(macro)"
   ],
   "outputs": [],
   "metadata": {}
  },
  {
   "cell_type": "markdown",
   "source": [
    "AnyPyProcess has a parameter 'num_processes' that controls the number of parallel processes. Let us try a small example to see the difference in speed:"
   ],
   "metadata": {}
  },
  {
   "cell_type": "code",
   "execution_count": 5,
   "source": [
    "# First sequentially\n",
    "app = AnyPyProcess(num_processes = 1)\n",
    "app.start_macro(macrolist);"
   ],
   "outputs": [
    {
     "output_type": "display_data",
     "data": {
      "text/plain": [
       "HBox(children=(FloatProgress(value=0.0, max=40.0), HTML(value='')))"
      ],
      "application/vnd.jupyter.widget-view+json": {
       "model_id": "6cc9a9b3566240bba2008101d5a1dbcc",
       "version_major": 2,
       "version_minor": 0
      }
     },
     "metadata": {}
    },
    {
     "output_type": "stream",
     "name": "stdout",
     "text": [
      "\n",
      "Completed: 40\n"
     ]
    }
   ],
   "metadata": {}
  },
  {
   "cell_type": "code",
   "execution_count": 6,
   "source": [
    "# Then with parallization\n",
    "app = AnyPyProcess(num_processes = 4)\n",
    "app.start_macro(macrolist);"
   ],
   "outputs": [
    {
     "output_type": "display_data",
     "data": {
      "text/plain": [
       "HBox(children=(FloatProgress(value=0.0, max=40.0), HTML(value='')))"
      ],
      "application/vnd.jupyter.widget-view+json": {
       "model_id": "b373fb6fac094cdeb71c8b7756e70eb3",
       "version_major": 2,
       "version_minor": 0
      }
     },
     "metadata": {}
    },
    {
     "output_type": "stream",
     "name": "stdout",
     "text": [
      "\n",
      "Completed: 40\n"
     ]
    }
   ],
   "metadata": {}
  },
  {
   "cell_type": "markdown",
   "source": [
    "*Note*: In general you should not user a `num_processes` larger than the number of cores in your computer."
   ],
   "metadata": {}
  },
  {
   "cell_type": "markdown",
   "source": [
    "## Getting data from the AnyBody Model"
   ],
   "metadata": {}
  },
  {
   "cell_type": "markdown",
   "source": [
    "In the following macro, we have added a new class operation to 'Dump' the result of the maximum muscle activity. The `start_macro` method will return all the dumped variables:"
   ],
   "metadata": {}
  },
  {
   "cell_type": "code",
   "execution_count": 26,
   "source": [
    "import numpy as np\n",
    "macrolist = [\n",
    "    'load \"Knee.any\"',\n",
    "    'operation Main.MyStudy.InverseDynamics',\n",
    "    'run',\n",
    "    'classoperation Main.MyStudy.Output.MaxMuscleActivity \"Dump\"',\n",
    "    'classoperation Main.MyModel.Tibia \"Dump\"',\n",
    "] \n",
    "\n",
    "results = app.start_macro(macrolist)\n",
    "results1 = []\n",
    "\n",
    "for elem in results:\n",
    "    new_elem = {}\n",
    "    for k,v in elem.items():\n",
    "        if isinstance(v, np.ndarray):\n",
    "            new_elem[k] = v.tolist()\n",
    "        elif v != \"...\":\n",
    "            new_elem[k]=v\n",
    "    results1.append(new_elem)\n",
    "\n",
    "results1"
   ],
   "outputs": [
    {
     "output_type": "display_data",
     "data": {
      "text/plain": [
       "  0%|          | 0/1 [00:00<?, ?it/s]"
      ],
      "application/vnd.jupyter.widget-view+json": {
       "model_id": "ec4be6c92fa34fd1ad38d39fefee50df",
       "version_major": 2,
       "version_minor": 0
      }
     },
     "metadata": {}
    },
    {
     "output_type": "stream",
     "name": "stdout",
     "text": [
      "Completed: 1\n"
     ]
    },
    {
     "output_type": "execute_result",
     "data": {
      "text/plain": [
       "[{'Main.MyStudy.Output.MaxMuscleActivity': [0.00890537685811586,\n",
       "   0.009275521240854068,\n",
       "   0.0098651489542327,\n",
       "   0.010677286343402835,\n",
       "   0.011713740808526458,\n",
       "   0.012975019697189408,\n",
       "   0.014460216788446991,\n",
       "   0.016166904110465678,\n",
       "   0.01809101958081664,\n",
       "   0.020226745727016545,\n",
       "   0.022566374242747086,\n",
       "   0.02510015137751265,\n",
       "   0.027816100436605616,\n",
       "   0.030699820293466386,\n",
       "   0.03373426309333659,\n",
       "   0.036899500519027656,\n",
       "   0.040172496256445235,\n",
       "   0.04352691257398801,\n",
       "   0.04693299082566136,\n",
       "   0.05035755818163959,\n",
       "   0.05376422425292393,\n",
       "   0.05711383872610847,\n",
       "   0.060365280878784795,\n",
       "   0.06347663932640446,\n",
       "   0.06640681096534648,\n",
       "   0.06911749866137286,\n",
       "   0.07157551816348959,\n",
       "   0.07375524230309546,\n",
       "   0.075640928740546,\n",
       "   0.07722861768679244,\n",
       "   0.07852727310000794,\n",
       "   0.07955889570270758,\n",
       "   0.08035746555593093,\n",
       "   0.08096676035072023,\n",
       "   0.08143730401285965,\n",
       "   0.08182287561475614,\n",
       "   0.08217710215121132,\n",
       "   0.08255064578462462,\n",
       "   0.08298457448053206,\n",
       "   0.08333914769539472,\n",
       "   0.0835546726350888,\n",
       "   0.08365938932543779,\n",
       "   0.08367976831189666,\n",
       "   0.0836402284150894,\n",
       "   0.08356286808665049,\n",
       "   0.08346720946857597,\n",
       "   0.0833699573733607,\n",
       "   0.08328477850337415,\n",
       "   0.08322210869525054,\n",
       "   0.08318899726196018,\n",
       "   0.08318899726195904,\n",
       "   0.08322210870055047,\n",
       "   0.08328477852582042,\n",
       "   0.08336995743174003,\n",
       "   0.08346720958601664,\n",
       "   0.08356286828767047,\n",
       "   0.083640228722125,\n",
       "   0.0836797687415612,\n",
       "   0.08365938988479506,\n",
       "   0.08355467331825708,\n",
       "   0.08333914848077721,\n",
       "   0.0829845753282241,\n",
       "   0.08255064661980102,\n",
       "   0.08217710284388245,\n",
       "   0.08182287599692983,\n",
       "   0.08143730390026285,\n",
       "   0.08096675956953987,\n",
       "   0.08035746397235287,\n",
       "   0.07955889324834932,\n",
       "   0.07852726978694258,\n",
       "   0.07722861360849255,\n",
       "   0.07564092405945923,\n",
       "   0.07375523722725012,\n",
       "   0.07157551291937762,\n",
       "   0.06911749346752614,\n",
       "   0.06640680601137683,\n",
       "   0.06347663475963725,\n",
       "   0.0603652767987172,\n",
       "   0.0571138351855017,\n",
       "   0.05376422126361895,\n",
       "   0.05035755572304603,\n",
       "   0.046932988854147414,\n",
       "   0.0435269110318407,\n",
       "   0.040172495079571435,\n",
       "   0.036899499642984536,\n",
       "   0.03373426245727907,\n",
       "   0.030699819843817214,\n",
       "   0.027816100127439267,\n",
       "   0.025100151171172983,\n",
       "   0.022566374109442983,\n",
       "   0.020226745643970784,\n",
       "   0.01809101953119417,\n",
       "   0.016166904082245363,\n",
       "   0.014460216773349778,\n",
       "   0.012975019689731448,\n",
       "   0.0117137408052313,\n",
       "   0.010677286342176604,\n",
       "   0.009865148953895536,\n",
       "   0.009275515489529177,\n",
       "   0.008905382404646507],\n",
       "  'Main.MyModel.Tibia.UpdConfig': 1,\n",
       "  'Main.MyModel.Tibia.UpdDesign': 0,\n",
       "  'Main.MyModel.Tibia.UpdOutput': 0,\n",
       "  'Main.MyModel.Tibia.t': 2.4,\n",
       "  'Main.MyModel.Tibia.viewRefFrame.UpdConfig': 1,\n",
       "  'Main.MyModel.Tibia.viewRefFrame.UpdDesign': 2,\n",
       "  'Main.MyModel.Tibia.viewRefFrame.UpdOutput': 102,\n",
       "  'Main.MyModel.Tibia.viewRefFrame.Visible': 'Off',\n",
       "  'Main.MyModel.Tibia.viewRefFrame.Opacity': 1.0,\n",
       "  'Main.MyModel.Tibia.viewRefFrame.Pickable': 'On',\n",
       "  'Main.MyModel.Tibia.viewRefFrame.PickableZOrdering': 0,\n",
       "  'Main.MyModel.Tibia.viewRefFrame.RGB': [0.751171875,\n",
       "   0.676953125,\n",
       "   0.325390625],\n",
       "  'Main.MyModel.Tibia.viewRefFrame.ScaleXYZ': [1.0, 1.0, 1.0],\n",
       "  'Main.MyModel.Tibia.viewRefFrame.Transparency': 1.0,\n",
       "  'Main.MyModel.Tibia.viewRefFrame.Face': 2.0,\n",
       "  'Main.MyModel.Tibia.viewRefFrame.TextFont.RGB': [0.0, 0.0, 0.0],\n",
       "  'Main.MyModel.Tibia.viewRefFrame.TextFont.FontName': 'Times New Roman',\n",
       "  'Main.MyModel.Tibia.viewRefFrame.TextFont.Height': 50,\n",
       "  'Main.MyModel.Tibia.viewRefFrame.TextFont.Width': 50,\n",
       "  'Main.MyModel.Tibia.viewRefFrame.TextFont.Bold': 'Off',\n",
       "  'Main.MyModel.Tibia.viewRefFrame.TextFont.Italic': 'Off',\n",
       "  'Main.MyModel.Tibia.viewRefFrame.TextFont.BillBoardView': 'On',\n",
       "  'Main.MyModel.Tibia.viewRefFrame.TextFont.ModelSized': 'On',\n",
       "  'Main.MyModel.Tibia.viewRefFrame.TextFont.ModelScaleHeight': 1.0,\n",
       "  'Main.MyModel.Tibia.viewRefFrame.TextFont.ModelScaleWidth': 1.0,\n",
       "  'Main.MyModel.Tibia.viewRefFrame.TextFont.Rotation': 0.0,\n",
       "  'Main.MyModel.Tibia.viewRefFrame.TextFont.Overlay': 'Off',\n",
       "  'Main.MyModel.Tibia.viewNodes.UpdConfig': 1,\n",
       "  'Main.MyModel.Tibia.viewNodes.UpdDesign': 2,\n",
       "  'Main.MyModel.Tibia.viewNodes.UpdOutput': 102,\n",
       "  'Main.MyModel.Tibia.viewNodes.Visible': 'Off',\n",
       "  'Main.MyModel.Tibia.viewNodes.Opacity': 1.0,\n",
       "  'Main.MyModel.Tibia.viewNodes.Pickable': 'On',\n",
       "  'Main.MyModel.Tibia.viewNodes.PickableZOrdering': 0,\n",
       "  'Main.MyModel.Tibia.viewNodes.RGB': [0.91796875, 0.76953125, 0.06640625],\n",
       "  'Main.MyModel.Tibia.viewNodes.ScaleXYZ': [1.0, 1.0, 1.0],\n",
       "  'Main.MyModel.Tibia.viewNodes.Transparency': 1.0,\n",
       "  'Main.MyModel.Tibia.viewNodes.Face': 2.0,\n",
       "  'Main.MyModel.Tibia.viewNodes.TextFont.RGB': [0.0, 0.0, 0.0],\n",
       "  'Main.MyModel.Tibia.viewNodes.TextFont.FontName': 'Times New Roman',\n",
       "  'Main.MyModel.Tibia.viewNodes.TextFont.Height': 50,\n",
       "  'Main.MyModel.Tibia.viewNodes.TextFont.Width': 50,\n",
       "  'Main.MyModel.Tibia.viewNodes.TextFont.Bold': 'Off',\n",
       "  'Main.MyModel.Tibia.viewNodes.TextFont.Italic': 'Off',\n",
       "  'Main.MyModel.Tibia.viewNodes.TextFont.BillBoardView': 'On',\n",
       "  'Main.MyModel.Tibia.viewNodes.TextFont.ModelSized': 'On',\n",
       "  'Main.MyModel.Tibia.viewNodes.TextFont.ModelScaleHeight': 1.0,\n",
       "  'Main.MyModel.Tibia.viewNodes.TextFont.ModelScaleWidth': 1.0,\n",
       "  'Main.MyModel.Tibia.viewNodes.TextFont.Rotation': 0.0,\n",
       "  'Main.MyModel.Tibia.viewNodes.TextFont.Overlay': 'Off',\n",
       "  'Main.MyModel.Tibia.r': [0.4996858408198948, -0.17999978821708656, 0.0],\n",
       "  'Main.MyModel.Tibia.rDot': [-0.0007853969678737719,\n",
       "   1.3707776565676575e-06,\n",
       "   0.0],\n",
       "  'Main.MyModel.Tibia.rDDot': [0.4410494903572383,\n",
       "   -0.0007663503863167334,\n",
       "   0.0],\n",
       "  'Main.MyModel.Tibia.Axes': [[0.9999984769133712, 0.0017453283178130773, 0.0],\n",
       "   [-0.0017453283178130773, 0.9999984769133712, 0.0],\n",
       "   [0.0, 0.0, 0.9999999999999996]],\n",
       "  'Main.MyModel.Tibia.omega': [0.0, 0.0, -0.004363323133906745],\n",
       "  'Main.MyModel.Tibia.omegaDot': [0.0, 0.0, 2.450278645187155],\n",
       "  'Main.MyModel.Tibia.r0': [0.3, -0.25, 0.0],\n",
       "  'Main.MyModel.Tibia.rDot0': [0.0, 0.0, 0.0],\n",
       "  'Main.MyModel.Tibia.Axes0': [[1.0, 0.0, 0.0],\n",
       "   [0.0, 1.0, 0.0],\n",
       "   [0.0, 0.0, 1.0]],\n",
       "  'Main.MyModel.Tibia.omega0': [0.0, 0.0, 0.0],\n",
       "  'Main.MyModel.Tibia.Mass': 3.0,\n",
       "  'Main.MyModel.Tibia.Jii': [0.03, 0.0009, 0.03],\n",
       "  'Main.MyModel.Tibia.Jij': [0.0, 0.0, 0.0],\n",
       "  'Main.MyModel.Tibia.sCoM': [0.0, 0.0, 0.0],\n",
       "  'Main.MyModel.Tibia.JaboutCoMOnOff': 'Off',\n",
       "  'Main.MyModel.Tibia.Jmatrix': [[0.03, 0.0, 0.0],\n",
       "   [0.0, 0.0009, 0.0],\n",
       "   [0.0, 0.0, 0.03]],\n",
       "  'Main.MyModel.Tibia.Ekin': 1.2108542458283343e-06,\n",
       "  'Main.MyModel.Tibia.Epot': -5.297393767228858,\n",
       "  'Main.MyModel.Tibia.viewInertia.UpdConfig': 1,\n",
       "  'Main.MyModel.Tibia.viewInertia.UpdDesign': 2,\n",
       "  'Main.MyModel.Tibia.viewInertia.UpdOutput': 102,\n",
       "  'Main.MyModel.Tibia.viewInertia.Visible': 'Off',\n",
       "  'Main.MyModel.Tibia.viewInertia.Opacity': 1.0,\n",
       "  'Main.MyModel.Tibia.viewInertia.Pickable': 'On',\n",
       "  'Main.MyModel.Tibia.viewInertia.PickableZOrdering': 0,\n",
       "  'Main.MyModel.Tibia.viewInertia.RGB': [0.751171875,\n",
       "   0.676953125,\n",
       "   0.325390625],\n",
       "  'Main.MyModel.Tibia.viewInertia.ScaleXYZ': [1.0, 1.0, 1.0],\n",
       "  'Main.MyModel.Tibia.viewInertia.Transparency': 1.0,\n",
       "  'Main.MyModel.Tibia.viewInertia.Face': 2.0,\n",
       "  'Main.MyModel.Tibia.viewInertia.TextFont.RGB': [0.0, 0.0, 0.0],\n",
       "  'Main.MyModel.Tibia.viewInertia.TextFont.FontName': 'Times New Roman',\n",
       "  'Main.MyModel.Tibia.viewInertia.TextFont.Height': 50,\n",
       "  'Main.MyModel.Tibia.viewInertia.TextFont.Width': 50,\n",
       "  'Main.MyModel.Tibia.viewInertia.TextFont.Bold': 'Off',\n",
       "  'Main.MyModel.Tibia.viewInertia.TextFont.Italic': 'Off',\n",
       "  'Main.MyModel.Tibia.viewInertia.TextFont.BillBoardView': 'On',\n",
       "  'Main.MyModel.Tibia.viewInertia.TextFont.ModelSized': 'On',\n",
       "  'Main.MyModel.Tibia.viewInertia.TextFont.ModelScaleHeight': 1.0,\n",
       "  'Main.MyModel.Tibia.viewInertia.TextFont.ModelScaleWidth': 1.0,\n",
       "  'Main.MyModel.Tibia.viewInertia.TextFont.Rotation': 0.0,\n",
       "  'Main.MyModel.Tibia.viewInertia.TextFont.Overlay': 'Off',\n",
       "  'Main.MyModel.Tibia.viewInertia.InertiaScale': 1.0,\n",
       "  'Main.MyModel.Tibia.Knee.UpdConfig': 1,\n",
       "  'Main.MyModel.Tibia.Knee.UpdDesign': 0,\n",
       "  'Main.MyModel.Tibia.Knee.UpdOutput': 102,\n",
       "  'Main.MyModel.Tibia.Knee.t': 2.4,\n",
       "  'Main.MyModel.Tibia.Knee.viewRefFrame.UpdConfig': 1,\n",
       "  'Main.MyModel.Tibia.Knee.viewRefFrame.UpdDesign': 2,\n",
       "  'Main.MyModel.Tibia.Knee.viewRefFrame.UpdOutput': 102,\n",
       "  'Main.MyModel.Tibia.Knee.viewRefFrame.Visible': 'Off',\n",
       "  'Main.MyModel.Tibia.Knee.viewRefFrame.Opacity': 1.0,\n",
       "  'Main.MyModel.Tibia.Knee.viewRefFrame.Pickable': 'On',\n",
       "  'Main.MyModel.Tibia.Knee.viewRefFrame.PickableZOrdering': 0,\n",
       "  'Main.MyModel.Tibia.Knee.viewRefFrame.RGB': [0.4, 0.4, 0.95],\n",
       "  'Main.MyModel.Tibia.Knee.viewRefFrame.ScaleXYZ': [1.0, 1.0, 1.0],\n",
       "  'Main.MyModel.Tibia.Knee.viewRefFrame.Transparency': 1.0,\n",
       "  'Main.MyModel.Tibia.Knee.viewRefFrame.Face': 2.0,\n",
       "  'Main.MyModel.Tibia.Knee.viewRefFrame.TextFont.RGB': [0.0, 0.0, 0.0],\n",
       "  'Main.MyModel.Tibia.Knee.viewRefFrame.TextFont.FontName': 'Times New Roman',\n",
       "  'Main.MyModel.Tibia.Knee.viewRefFrame.TextFont.Height': 50,\n",
       "  'Main.MyModel.Tibia.Knee.viewRefFrame.TextFont.Width': 50,\n",
       "  'Main.MyModel.Tibia.Knee.viewRefFrame.TextFont.Bold': 'Off',\n",
       "  'Main.MyModel.Tibia.Knee.viewRefFrame.TextFont.Italic': 'Off',\n",
       "  'Main.MyModel.Tibia.Knee.viewRefFrame.TextFont.BillBoardView': 'On',\n",
       "  'Main.MyModel.Tibia.Knee.viewRefFrame.TextFont.ModelSized': 'On',\n",
       "  'Main.MyModel.Tibia.Knee.viewRefFrame.TextFont.ModelScaleHeight': 1.0,\n",
       "  'Main.MyModel.Tibia.Knee.viewRefFrame.TextFont.ModelScaleWidth': 1.0,\n",
       "  'Main.MyModel.Tibia.Knee.viewRefFrame.TextFont.Rotation': 0.0,\n",
       "  'Main.MyModel.Tibia.Knee.viewRefFrame.TextFont.Overlay': 'Off',\n",
       "  'Main.MyModel.Tibia.Knee.viewNodes.UpdConfig': 1,\n",
       "  'Main.MyModel.Tibia.Knee.viewNodes.UpdDesign': 2,\n",
       "  'Main.MyModel.Tibia.Knee.viewNodes.UpdOutput': 102,\n",
       "  'Main.MyModel.Tibia.Knee.viewNodes.Visible': 'Off',\n",
       "  'Main.MyModel.Tibia.Knee.viewNodes.Opacity': 1.0,\n",
       "  'Main.MyModel.Tibia.Knee.viewNodes.Pickable': 'On',\n",
       "  'Main.MyModel.Tibia.Knee.viewNodes.PickableZOrdering': 0,\n",
       "  'Main.MyModel.Tibia.Knee.viewNodes.RGB': [0.4, 0.4, 0.95],\n",
       "  'Main.MyModel.Tibia.Knee.viewNodes.ScaleXYZ': [1.0, 1.0, 1.0],\n",
       "  'Main.MyModel.Tibia.Knee.viewNodes.Transparency': 1.0,\n",
       "  'Main.MyModel.Tibia.Knee.viewNodes.Face': 2.0,\n",
       "  'Main.MyModel.Tibia.Knee.viewNodes.TextFont.RGB': [0.0, 0.0, 0.0],\n",
       "  'Main.MyModel.Tibia.Knee.viewNodes.TextFont.FontName': 'Times New Roman',\n",
       "  'Main.MyModel.Tibia.Knee.viewNodes.TextFont.Height': 50,\n",
       "  'Main.MyModel.Tibia.Knee.viewNodes.TextFont.Width': 50,\n",
       "  'Main.MyModel.Tibia.Knee.viewNodes.TextFont.Bold': 'Off',\n",
       "  'Main.MyModel.Tibia.Knee.viewNodes.TextFont.Italic': 'Off',\n",
       "  'Main.MyModel.Tibia.Knee.viewNodes.TextFont.BillBoardView': 'On',\n",
       "  'Main.MyModel.Tibia.Knee.viewNodes.TextFont.ModelSized': 'On',\n",
       "  'Main.MyModel.Tibia.Knee.viewNodes.TextFont.ModelScaleHeight': 1.0,\n",
       "  'Main.MyModel.Tibia.Knee.viewNodes.TextFont.ModelScaleWidth': 1.0,\n",
       "  'Main.MyModel.Tibia.Knee.viewNodes.TextFont.Rotation': 0.0,\n",
       "  'Main.MyModel.Tibia.Knee.viewNodes.TextFont.Overlay': 'Off',\n",
       "  'Main.MyModel.Tibia.Knee.r': [0.49999999991710115,\n",
       "   -6.237267977104999e-08,\n",
       "   0.0],\n",
       "  'Main.MyModel.Tibia.Knee.rDot': [1.0842021724855044e-19,\n",
       "   -8.427977825180288e-20,\n",
       "   0.0],\n",
       "  'Main.MyModel.Tibia.Knee.rDDot': [-3.973729340590442e-18,\n",
       "   4.7373705706985764e-17,\n",
       "   0.0],\n",
       "  'Main.MyModel.Tibia.Knee.sRel': [0.0, 0.18, 0.0],\n",
       "  'Main.MyModel.Tibia.Knee.ARel': [[-1.0, 0.0, 1.2246467991473532e-16],\n",
       "   [0.0, 1.0, 0.0],\n",
       "   [-1.2246467991473532e-16, 0.0, -1.0]],\n",
       "  'Main.MyModel.Tibia.Knee.Axes': [[-0.9999984769133716,\n",
       "    0.0017453283178130773,\n",
       "    0.0],\n",
       "   [0.0017453283178130773, 0.9999984769133712, 0.0],\n",
       "   [0.0, 0.0, -1.0]],\n",
       "  'Main.MyModel.Tibia.Ankle.UpdConfig': 1,\n",
       "  'Main.MyModel.Tibia.Ankle.UpdDesign': 0,\n",
       "  'Main.MyModel.Tibia.Ankle.UpdOutput': 102,\n",
       "  'Main.MyModel.Tibia.Ankle.t': 2.4,\n",
       "  'Main.MyModel.Tibia.Ankle.viewRefFrame.UpdConfig': 1,\n",
       "  'Main.MyModel.Tibia.Ankle.viewRefFrame.UpdDesign': 2,\n",
       "  'Main.MyModel.Tibia.Ankle.viewRefFrame.UpdOutput': 102,\n",
       "  'Main.MyModel.Tibia.Ankle.viewRefFrame.Visible': 'Off',\n",
       "  'Main.MyModel.Tibia.Ankle.viewRefFrame.Opacity': 1.0,\n",
       "  'Main.MyModel.Tibia.Ankle.viewRefFrame.Pickable': 'On',\n",
       "  'Main.MyModel.Tibia.Ankle.viewRefFrame.PickableZOrdering': 0,\n",
       "  'Main.MyModel.Tibia.Ankle.viewRefFrame.RGB': [0.4, 0.4, 0.95],\n",
       "  'Main.MyModel.Tibia.Ankle.viewRefFrame.ScaleXYZ': [1.0, 1.0, 1.0],\n",
       "  'Main.MyModel.Tibia.Ankle.viewRefFrame.Transparency': 1.0,\n",
       "  'Main.MyModel.Tibia.Ankle.viewRefFrame.Face': 2.0,\n",
       "  'Main.MyModel.Tibia.Ankle.viewRefFrame.TextFont.RGB': [0.0, 0.0, 0.0],\n",
       "  'Main.MyModel.Tibia.Ankle.viewRefFrame.TextFont.FontName': 'Times New Roman',\n",
       "  'Main.MyModel.Tibia.Ankle.viewRefFrame.TextFont.Height': 50,\n",
       "  'Main.MyModel.Tibia.Ankle.viewRefFrame.TextFont.Width': 50,\n",
       "  'Main.MyModel.Tibia.Ankle.viewRefFrame.TextFont.Bold': 'Off',\n",
       "  'Main.MyModel.Tibia.Ankle.viewRefFrame.TextFont.Italic': 'Off',\n",
       "  'Main.MyModel.Tibia.Ankle.viewRefFrame.TextFont.BillBoardView': 'On',\n",
       "  'Main.MyModel.Tibia.Ankle.viewRefFrame.TextFont.ModelSized': 'On',\n",
       "  'Main.MyModel.Tibia.Ankle.viewRefFrame.TextFont.ModelScaleHeight': 1.0,\n",
       "  'Main.MyModel.Tibia.Ankle.viewRefFrame.TextFont.ModelScaleWidth': 1.0,\n",
       "  'Main.MyModel.Tibia.Ankle.viewRefFrame.TextFont.Rotation': 0.0,\n",
       "  'Main.MyModel.Tibia.Ankle.viewRefFrame.TextFont.Overlay': 'Off',\n",
       "  'Main.MyModel.Tibia.Ankle.viewNodes.UpdConfig': 1,\n",
       "  'Main.MyModel.Tibia.Ankle.viewNodes.UpdDesign': 2,\n",
       "  'Main.MyModel.Tibia.Ankle.viewNodes.UpdOutput': 102,\n",
       "  'Main.MyModel.Tibia.Ankle.viewNodes.Visible': 'Off',\n",
       "  'Main.MyModel.Tibia.Ankle.viewNodes.Opacity': 1.0,\n",
       "  'Main.MyModel.Tibia.Ankle.viewNodes.Pickable': 'On',\n",
       "  'Main.MyModel.Tibia.Ankle.viewNodes.PickableZOrdering': 0,\n",
       "  'Main.MyModel.Tibia.Ankle.viewNodes.RGB': [0.4, 0.4, 0.95],\n",
       "  'Main.MyModel.Tibia.Ankle.viewNodes.ScaleXYZ': [1.0, 1.0, 1.0],\n",
       "  'Main.MyModel.Tibia.Ankle.viewNodes.Transparency': 1.0,\n",
       "  'Main.MyModel.Tibia.Ankle.viewNodes.Face': 2.0,\n",
       "  'Main.MyModel.Tibia.Ankle.viewNodes.TextFont.RGB': [0.0, 0.0, 0.0],\n",
       "  'Main.MyModel.Tibia.Ankle.viewNodes.TextFont.FontName': 'Times New Roman',\n",
       "  'Main.MyModel.Tibia.Ankle.viewNodes.TextFont.Height': 50,\n",
       "  'Main.MyModel.Tibia.Ankle.viewNodes.TextFont.Width': 50,\n",
       "  'Main.MyModel.Tibia.Ankle.viewNodes.TextFont.Bold': 'Off',\n",
       "  'Main.MyModel.Tibia.Ankle.viewNodes.TextFont.Italic': 'Off',\n",
       "  'Main.MyModel.Tibia.Ankle.viewNodes.TextFont.BillBoardView': 'On',\n",
       "  'Main.MyModel.Tibia.Ankle.viewNodes.TextFont.ModelSized': 'On',\n",
       "  'Main.MyModel.Tibia.Ankle.viewNodes.TextFont.ModelScaleHeight': 1.0,\n",
       "  'Main.MyModel.Tibia.Ankle.viewNodes.TextFont.ModelScaleWidth': 1.0,\n",
       "  'Main.MyModel.Tibia.Ankle.viewNodes.TextFont.Rotation': 0.0,\n",
       "  'Main.MyModel.Tibia.Ankle.viewNodes.TextFont.Overlay': 'Off',\n",
       "  'Main.MyModel.Tibia.Ankle.r': [0.49924950874044155,\n",
       "   -0.42999940744542936,\n",
       "   0.0],\n",
       "  'Main.MyModel.Tibia.Ankle.rDot': [-0.0018762260899206774,\n",
       "   3.2746355129117433e-06,\n",
       "   0.0],\n",
       "  'Main.MyModel.Tibia.Ankle.rDDot': [1.0536182269645136,\n",
       "   -0.0018307259228678178,\n",
       "   0.0],\n",
       "  'Main.MyModel.Tibia.Ankle.sRel': [0.0, -0.25, 0.0],\n",
       "  'Main.MyModel.Tibia.Ankle.ARel': [[1.0, 0.0, 0.0],\n",
       "   [0.0, 1.0, 0.0],\n",
       "   [0.0, 0.0, 1.0]],\n",
       "  'Main.MyModel.Tibia.Ankle.Axes': [[0.9999984769133712,\n",
       "    0.0017453283178130773,\n",
       "    0.0],\n",
       "   [-0.0017453283178130773, 0.9999984769133712, 0.0],\n",
       "   [0.0, 0.0, 0.9999999999999996]],\n",
       "  'Main.MyModel.Tibia.Patella2.UpdConfig': 1,\n",
       "  'Main.MyModel.Tibia.Patella2.UpdDesign': 0,\n",
       "  'Main.MyModel.Tibia.Patella2.UpdOutput': 102,\n",
       "  'Main.MyModel.Tibia.Patella2.t': 2.4,\n",
       "  'Main.MyModel.Tibia.Patella2.viewRefFrame.UpdConfig': 1,\n",
       "  'Main.MyModel.Tibia.Patella2.viewRefFrame.UpdDesign': 2,\n",
       "  'Main.MyModel.Tibia.Patella2.viewRefFrame.UpdOutput': 102,\n",
       "  'Main.MyModel.Tibia.Patella2.viewRefFrame.Visible': 'Off',\n",
       "  'Main.MyModel.Tibia.Patella2.viewRefFrame.Opacity': 1.0,\n",
       "  'Main.MyModel.Tibia.Patella2.viewRefFrame.Pickable': 'On',\n",
       "  'Main.MyModel.Tibia.Patella2.viewRefFrame.PickableZOrdering': 0,\n",
       "  'Main.MyModel.Tibia.Patella2.viewRefFrame.RGB': [0.4, 0.4, 0.95],\n",
       "  'Main.MyModel.Tibia.Patella2.viewRefFrame.ScaleXYZ': [1.0, 1.0, 1.0],\n",
       "  'Main.MyModel.Tibia.Patella2.viewRefFrame.Transparency': 1.0,\n",
       "  'Main.MyModel.Tibia.Patella2.viewRefFrame.Face': 2.0,\n",
       "  'Main.MyModel.Tibia.Patella2.viewRefFrame.TextFont.RGB': [0.0, 0.0, 0.0],\n",
       "  'Main.MyModel.Tibia.Patella2.viewRefFrame.TextFont.FontName': 'Times New Roman',\n",
       "  'Main.MyModel.Tibia.Patella2.viewRefFrame.TextFont.Height': 50,\n",
       "  'Main.MyModel.Tibia.Patella2.viewRefFrame.TextFont.Width': 50,\n",
       "  'Main.MyModel.Tibia.Patella2.viewRefFrame.TextFont.Bold': 'Off',\n",
       "  'Main.MyModel.Tibia.Patella2.viewRefFrame.TextFont.Italic': 'Off',\n",
       "  'Main.MyModel.Tibia.Patella2.viewRefFrame.TextFont.BillBoardView': 'On',\n",
       "  'Main.MyModel.Tibia.Patella2.viewRefFrame.TextFont.ModelSized': 'On',\n",
       "  'Main.MyModel.Tibia.Patella2.viewRefFrame.TextFont.ModelScaleHeight': 1.0,\n",
       "  'Main.MyModel.Tibia.Patella2.viewRefFrame.TextFont.ModelScaleWidth': 1.0,\n",
       "  'Main.MyModel.Tibia.Patella2.viewRefFrame.TextFont.Rotation': 0.0,\n",
       "  'Main.MyModel.Tibia.Patella2.viewRefFrame.TextFont.Overlay': 'Off',\n",
       "  'Main.MyModel.Tibia.Patella2.viewNodes.UpdConfig': 1,\n",
       "  'Main.MyModel.Tibia.Patella2.viewNodes.UpdDesign': 2,\n",
       "  'Main.MyModel.Tibia.Patella2.viewNodes.UpdOutput': 102,\n",
       "  'Main.MyModel.Tibia.Patella2.viewNodes.Visible': 'Off',\n",
       "  'Main.MyModel.Tibia.Patella2.viewNodes.Opacity': 1.0,\n",
       "  'Main.MyModel.Tibia.Patella2.viewNodes.Pickable': 'On',\n",
       "  'Main.MyModel.Tibia.Patella2.viewNodes.PickableZOrdering': 0,\n",
       "  'Main.MyModel.Tibia.Patella2.viewNodes.RGB': [0.4, 0.4, 0.95],\n",
       "  'Main.MyModel.Tibia.Patella2.viewNodes.ScaleXYZ': [1.0, 1.0, 1.0],\n",
       "  'Main.MyModel.Tibia.Patella2.viewNodes.Transparency': 1.0,\n",
       "  'Main.MyModel.Tibia.Patella2.viewNodes.Face': 2.0,\n",
       "  'Main.MyModel.Tibia.Patella2.viewNodes.TextFont.RGB': [0.0, 0.0, 0.0],\n",
       "  'Main.MyModel.Tibia.Patella2.viewNodes.TextFont.FontName': 'Times New Roman',\n",
       "  'Main.MyModel.Tibia.Patella2.viewNodes.TextFont.Height': 50,\n",
       "  'Main.MyModel.Tibia.Patella2.viewNodes.TextFont.Width': 50,\n",
       "  'Main.MyModel.Tibia.Patella2.viewNodes.TextFont.Bold': 'Off',\n",
       "  'Main.MyModel.Tibia.Patella2.viewNodes.TextFont.Italic': 'Off',\n",
       "  'Main.MyModel.Tibia.Patella2.viewNodes.TextFont.BillBoardView': 'On',\n",
       "  'Main.MyModel.Tibia.Patella2.viewNodes.TextFont.ModelSized': 'On',\n",
       "  'Main.MyModel.Tibia.Patella2.viewNodes.TextFont.ModelScaleHeight': 1.0,\n",
       "  'Main.MyModel.Tibia.Patella2.viewNodes.TextFont.ModelScaleWidth': 1.0,\n",
       "  'Main.MyModel.Tibia.Patella2.viewNodes.TextFont.Rotation': 0.0,\n",
       "  'Main.MyModel.Tibia.Patella2.viewNodes.TextFont.Overlay': 'Off',\n",
       "  'Main.MyModel.Tibia.Patella2.r': [0.5198952497562999,\n",
       "   -0.06003487755383828,\n",
       "   0.0],\n",
       "  'Main.MyModel.Tibia.Patella2.rDot': [-0.00026195129791976466,\n",
       "   -8.680940387822995e-05,\n",
       "   0.0],\n",
       "  'Main.MyModel.Tibia.Patella2.rDDot': [0.14710164682867014,\n",
       "   0.04875004879980983,\n",
       "   0.0],\n",
       "  'Main.MyModel.Tibia.Patella2.sRel': [0.02, 0.12, 0.0],\n",
       "  'Main.MyModel.Tibia.Patella2.ARel': [[1.0, 0.0, 0.0],\n",
       "   [0.0, 1.0, 0.0],\n",
       "   [0.0, 0.0, 1.0]],\n",
       "  'Main.MyModel.Tibia.Patella2.Axes': [[0.9999984769133712,\n",
       "    0.0017453283178130773,\n",
       "    0.0],\n",
       "   [-0.0017453283178130773, 0.9999984769133712, 0.0],\n",
       "   [0.0, 0.0, 0.9999999999999996]],\n",
       "  'Main.MyModel.Tibia.drw.UpdConfig': 1,\n",
       "  'Main.MyModel.Tibia.drw.UpdDesign': 2,\n",
       "  'Main.MyModel.Tibia.drw.UpdOutput': 102,\n",
       "  'Main.MyModel.Tibia.drw.Visible': 'On',\n",
       "  'Main.MyModel.Tibia.drw.Opacity': 0.5,\n",
       "  'Main.MyModel.Tibia.drw.Pickable': 'On',\n",
       "  'Main.MyModel.Tibia.drw.PickableZOrdering': 0,\n",
       "  'Main.MyModel.Tibia.drw.RGB': [0.91796875, 0.76953125, 0.06640625],\n",
       "  'Main.MyModel.Tibia.drw.ScaleXYZ': [1.0, 1.0, 1.0],\n",
       "  'Main.MyModel.Tibia.drw.Transparency': 1.0,\n",
       "  'Main.MyModel.Tibia.drw.Face': 2.0,\n",
       "  'Main.MyModel.Tibia.drw.TextFont.RGB': [0.0, 0.0, 0.0],\n",
       "  'Main.MyModel.Tibia.drw.TextFont.FontName': 'Times New Roman',\n",
       "  'Main.MyModel.Tibia.drw.TextFont.Height': 50,\n",
       "  'Main.MyModel.Tibia.drw.TextFont.Width': 50,\n",
       "  'Main.MyModel.Tibia.drw.TextFont.Bold': 'Off',\n",
       "  'Main.MyModel.Tibia.drw.TextFont.Italic': 'Off',\n",
       "  'Main.MyModel.Tibia.drw.TextFont.BillBoardView': 'On',\n",
       "  'Main.MyModel.Tibia.drw.TextFont.ModelSized': 'On',\n",
       "  'Main.MyModel.Tibia.drw.TextFont.ModelScaleHeight': 1.0,\n",
       "  'Main.MyModel.Tibia.drw.TextFont.ModelScaleWidth': 1.0,\n",
       "  'Main.MyModel.Tibia.drw.TextFont.Rotation': 0.0,\n",
       "  'Main.MyModel.Tibia.drw.TextFont.Overlay': 'Off',\n",
       "  'Main.MyModel.Tibia.drw.NodesVisible': 'On',\n",
       "  'Main.MyModel.Tibia.drw.InertiaScale': 1.0,\n",
       "  'task_macro_hash': '2ef1465aa130c571',\n",
       "  'task_id': 0,\n",
       "  'task_work_dir': 'C:\\\\Users\\\\mel\\\\Documents\\\\AnyBodySource\\\\AnyPyTools\\\\docs\\\\Tutorial',\n",
       "  'task_name': 'docs-Tutorial-0',\n",
       "  'task_processtime': 0.5681817531585693,\n",
       "  'task_macro': ['load \"Knee.any\"',\n",
       "   'operation Main.MyStudy.InverseDynamics',\n",
       "   'run',\n",
       "   'classoperation Main.MyStudy.Output.MaxMuscleActivity \"Dump\"',\n",
       "   'classoperation Main.MyModel.Tibia \"Dump\"',\n",
       "   'exit'],\n",
       "  'task_logfile': ''}]"
      ]
     },
     "metadata": {},
     "execution_count": 26
    }
   ],
   "metadata": {}
  },
  {
   "cell_type": "markdown",
   "source": [
    "We can export more variables by adding more `classoperation`. But there is a better way of doing this, as we shall see in the next tutorials. \n",
    "\n",
    "Finally, to make a plot we import the `matplotlib` library, and enable inline figures."
   ],
   "metadata": {}
  },
  {
   "cell_type": "code",
   "execution_count": 8,
   "source": [
    "max_muscle_act = results[0]['Main.MyStudy.Output.MaxMuscleActivity']"
   ],
   "outputs": [],
   "metadata": {}
  },
  {
   "cell_type": "code",
   "execution_count": 9,
   "source": [
    "import numpy as np\n",
    "import matplotlib.pyplot as plt\n",
    "%matplotlib inline\n",
    "\n",
    "plt.plot(max_muscle_act );"
   ],
   "outputs": [
    {
     "output_type": "display_data",
     "data": {
      "text/plain": [
       "<Figure size 432x288 with 1 Axes>"
      ],
      "image/png": "[encoded data removed]"
     },
     "metadata": {
      "needs_background": "light"
     }
    }
   ],
   "metadata": {}
  },
  {
   "cell_type": "code",
   "execution_count": null,
   "source": [],
   "outputs": [],
   "metadata": {}
  }
 ],
 "metadata": {
  "anaconda-cloud": {},
  "kernelspec": {
   "display_name": "Python 3",
   "language": "python",
   "name": "python3"
  },
  "language_info": {
   "codemirror_mode": {
    "name": "ipython",
    "version": 3
   },
   "file_extension": ".py",
   "mimetype": "text/x-python",
   "name": "python",
   "nbconvert_exporter": "python",
   "pygments_lexer": "ipython3",
   "version": "3.8.5"
  },
  "widgets": {
   "state": {
    "15e4633743cd489aa3fc874d83d04021": {
     "views": [
      {
       "cell_index": 6
      }
     ]
    },
    "1b80f856278b44d9ad9468d79730536a": {
     "views": []
    },
    "1c2582e288f9423db9dbe73cc94cfa54": {
     "views": [
      {
       "cell_index": 15
      }
     ]
    },
    "1c84d9a006b748979dcc650a0eeac836": {
     "views": []
    },
    "1d74dd4b9bfa4c23858d89e1992dd26f": {
     "views": []
    },
    "2f1b4ab212684661bf48940c49bd13b1": {
     "views": []
    },
    "3001978c68cf4e1b9dbed1d2cc8ca6f0": {
     "views": []
    },
    "353700f7a2294bc6a07c3361ee93f497": {
     "views": []
    },
    "380f68e480bc4bcfbb4513dd778253f1": {
     "views": []
    },
    "38bade13236a4d13a16fbcf3c04f2452": {
     "views": []
    },
    "3de9608bfe004a92a03fb6fc0bd98aed": {
     "views": []
    },
    "43bc3e490fe84e0a87c336130cdd2b00": {
     "views": [
      {
       "cell_index": 6
      }
     ]
    },
    "47f6ee210c22423c8a081dc6a1e518d7": {
     "views": [
      {
       "cell_index": 19
      }
     ]
    },
    "4c78ec463d2b48f6ad9e83982056c673": {
     "views": []
    },
    "4e2a4366ac8444d59fc5ff13e229617c": {
     "views": []
    },
    "4e48979f58484b06990c66c91d5ef035": {
     "views": []
    },
    "52b3c8189cb64ae4bfbb3056a752c714": {
     "views": []
    },
    "59df77552bcb493e9199fbacabe2d313": {
     "views": []
    },
    "5c8d4ced42ff4eeb8718b59b4ce98063": {
     "views": []
    },
    "5d506457b0124b81b79c1fe859031306": {
     "views": []
    },
    "5e31296995f94ebc922bb8df083ee30b": {
     "views": []
    },
    "5e91cc9e5e864f8bb89294d69c3c5a96": {
     "views": []
    },
    "6021743736874efc8f73e0249baa6002": {
     "views": []
    },
    "604e09f9d337474480545fa18382fa2a": {
     "views": [
      {
       "cell_index": 14
      }
     ]
    },
    "60c090daff4d47d7a31d69f35cafbdd6": {
     "views": []
    },
    "611d0b54830f468498cb8a5cc8dfaeb7": {
     "views": []
    },
    "6313e71cd31d4f969f725f328e40a811": {
     "views": []
    },
    "63c2aa95068e472eb0ec4b76e6de1fa8": {
     "views": []
    },
    "6b32dfe6201b495e8f16c5f17161eb10": {
     "views": []
    },
    "6d0c19aa6a664b698cd514c687769d2a": {
     "views": []
    },
    "6e5d1274554248e9b9af6ffa1b32d6cb": {
     "views": []
    },
    "6f5b18d4b2e24480ad8485cd2e2196af": {
     "views": []
    },
    "70acf272688b466a9caa056d2ae0cd3d": {
     "views": []
    },
    "70e198fa3ec647b9a3fef93077df056c": {
     "views": []
    },
    "7187b805a2ad4750b18313e0c27dee6f": {
     "views": []
    },
    "71ce2401b2f94b18af9f0a3e8b996f56": {
     "views": []
    },
    "72a07062f5bd447cbe5db8fa41ecee35": {
     "views": []
    },
    "7504b8c64e31486d9d854f0b98d612e3": {
     "views": []
    },
    "77aa9b9b65714647825bbec35715f34d": {
     "views": []
    },
    "790bea3e996549c3b972bc5da58c6f86": {
     "views": []
    },
    "7ac158e474ce44fcb92ad51db4edf0f8": {
     "views": [
      {
       "cell_index": 9
      }
     ]
    },
    "7df9763bf2a746098e44172a3aac21dc": {
     "views": []
    },
    "7e1fa33ffcbc4c4cb045b0a39c191a16": {
     "views": []
    },
    "86729ee4a2324d7f8e7d938b4eb94545": {
     "views": []
    },
    "8b05dc0a7cd746e8871daaeee4f15ac1": {
     "views": []
    },
    "8d9647bc84c948f8a5e966395908ae9d": {
     "views": [
      {
       "cell_index": 19
      }
     ]
    },
    "95ada1385e46460b97e219cf6b55acf0": {
     "views": [
      {
       "cell_index": 14
      }
     ]
    },
    "97bfdf1a619048fb97a7eec9bb85c859": {
     "views": []
    },
    "98783a6a3bfe40a6a96387b8daaf1f15": {
     "views": [
      {
       "cell_index": 9
      }
     ]
    },
    "98f5663627d44f44804e05feca20c43b": {
     "views": []
    },
    "9a82b4e7af8d4ad7b1f8e6473291ff4d": {
     "views": []
    },
    "9c80565d7c244262851eb8fc3b455bd8": {
     "views": []
    },
    "9d4efb23809f408981432389093bd404": {
     "views": []
    },
    "9d820bd3211f412c9d1b0125b53cc997": {
     "views": []
    },
    "a0bb4c74d4f74142aa4eed5e1d530945": {
     "views": []
    },
    "a17b447504694c15937ef655f8dc63ab": {
     "views": []
    },
    "a19d28b5f13b44bba578c30fe818c6bb": {
     "views": []
    },
    "a3f2db03c3004b0ab09e65fd7730bdf1": {
     "views": []
    },
    "a5d4bc84e4a14368a29c15a409354691": {
     "views": []
    },
    "b147cf6827864b36b9c127256e3247b6": {
     "views": []
    },
    "b855edbfd0ad4496b69f33b49ddd18f3": {
     "views": []
    },
    "b9ac93e6172d42f8a9a8b5cdc5ac50a6": {
     "views": []
    },
    "bee6974083414fbfa5b2395d73cafa87": {
     "views": [
      {
       "cell_index": 9
      }
     ]
    },
    "c2dcc149c3184b9589a15c55b260650b": {
     "views": []
    },
    "c3dd866b217f422b89b281ac376a33e9": {
     "views": []
    },
    "c753e764f11f49839c4ecb4b47b0cf1e": {
     "views": [
      {
       "cell_index": 14
      }
     ]
    },
    "c87c48c630fd4a428f522b4a3f1a6f1f": {
     "views": []
    },
    "cc21c0cc941141cf93c43a95ebd80266": {
     "views": []
    },
    "cfa8c4f4488845f7a86e768e04bd096d": {
     "views": [
      {
       "cell_index": 15
      }
     ]
    },
    "d1ccc08e84e54eefb55869aad2d5104d": {
     "views": []
    },
    "d29eb7b68596462a85dca7d8496aa8e1": {
     "views": []
    },
    "d3e376572d0e46d0ba19a65f1caabbd7": {
     "views": [
      {
       "cell_index": 6
      }
     ]
    },
    "d5fd93ab7a3344949722e607546fbf40": {
     "views": []
    },
    "d64e1a60eba348c8a8460650365d8178": {
     "views": []
    },
    "d9029156747d40cca09a521a203f83b4": {
     "views": []
    },
    "d9c437a9c4e740049b5c2aac84337af4": {
     "views": []
    },
    "df6867b3a64240a7836d8bb4b488d91c": {
     "views": []
    },
    "e009dc0c760549e5a63ae25220a6a517": {
     "views": []
    },
    "e05a9098b11e4ddda780002d49b4681c": {
     "views": []
    },
    "e113f2293b664877a61f486252be41dc": {
     "views": []
    },
    "e2c30980d0534cb2a81566eb3a8493ad": {
     "views": [
      {
       "cell_index": 6
      }
     ]
    },
    "e4210e953f724b6bb83d738ca2c72921": {
     "views": []
    },
    "e572f55a8315480cb1cbef71becd3e68": {
     "views": []
    },
    "e6d76c8988dc4932bc8dd72fa37ab4fa": {
     "views": []
    },
    "e773d636f0c647f7922281a1a4b31b97": {
     "views": []
    },
    "e7ec52f3f6ee48bbbfbf45475ceee76c": {
     "views": []
    },
    "eb2d8589e2014f14aa1fe5d57f768d0b": {
     "views": [
      {
       "cell_index": 9
      }
     ]
    },
    "eb417aa9019446e7b2a11272d4707701": {
     "views": []
    },
    "ec2aaa9708504c8a8e1736485759988a": {
     "views": []
    },
    "ec86dec968b546ebb0c8afed1db7133c": {
     "views": []
    },
    "f538a2b896ed4cdbb596daa014fda37f": {
     "views": []
    },
    "f5ff0655a28b4b48a39e3c3af33e66d0": {
     "views": []
    },
    "f8318527148749608761d1b9b539d0d4": {
     "views": [
      {
       "cell_index": 14
      }
     ]
    },
    "fb74e6070c0749fe90e2ea6264025b41": {
     "views": []
    },
    "fbd1b4153b2d4d5e94c9a00cc08bc9a0": {
     "views": []
    },
    "fbe6f124aeac44f89636a2b5372cc4db": {
     "views": []
    }
   },
   "version": "1.1.2"
  }
 },
 "nbformat": 4,
 "nbformat_minor": 4
}