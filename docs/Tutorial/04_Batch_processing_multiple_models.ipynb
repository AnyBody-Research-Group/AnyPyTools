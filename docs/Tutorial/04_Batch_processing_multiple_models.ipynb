{
 "cells": [
  {
   "cell_type": "markdown",
   "source": [
    "# Batch processing"
   ],
   "metadata": {}
  },
  {
   "cell_type": "markdown",
   "source": [
    "The approach to batch processing depends on the structure of the anybody model. A commonly used strategy is a single anyscript main file. The main file is then loaded with different define statements to set the trial name, subject id or other parameters. This strategy for batch processing is outlined on the [anyscript.org wiki page](http://wiki.anyscript.org/index.php/Running_several_files_as_batch).\n",
    "\n",
    "Another strategy is to have a separate main file for each trial. These individual main-files hold all trial-specific data and include a base model that is common to all trials and subjects. The approach makes it much easier to work with mocap models that have many subject or hundreds of trials. \n",
    "\n",
    "The following shows how to batch process models where each trials is its own main file. "
   ],
   "metadata": {}
  },
  {
   "cell_type": "markdown",
   "source": [
    "## Model with many main files"
   ],
   "metadata": {}
  },
  {
   "cell_type": "markdown",
   "source": [
    "This ([zip](Tutorial_files/BatchProcessExample.zip)) illustrates the concept of a single model with many main files. The model is based on the Arm2D demo from the AnyBody tutorials. The main files are located in subfolders (`model1`-`model9`). "
   ],
   "metadata": {}
  },
  {
   "cell_type": "code",
   "execution_count": 1,
   "source": [
    "!dir /d  \"Tutorial_files/BatchProcess\""
   ],
   "outputs": [
    {
     "output_type": "stream",
     "name": "stdout",
     "text": [
      " Volume in drive C has no label.\n",
      " Volume Serial Number is CE8A-96EC\n",
      "\n",
      " Directory of C:\\Users\\mel\\Documents\\AnyBodySource\\AnyPyTools\\docs\\Tutorial\\Tutorial_files\\BatchProcess\n",
      "\n",
      "[.]               [model1]          [model5]          [model9]\n",
      "[..]              [model2]          [model6]          [Output]\n",
      "batchprocess.py   [model3]          [model7]          RunExample.bat\n",
      "Demo.Arm2D.any    [model4]          [model8]          \n",
      "               3 File(s)         10'870 bytes\n",
      "              12 Dir(s)  111'300'411'392 bytes free\n"
     ]
    }
   ],
   "metadata": {}
  },
  {
   "cell_type": "code",
   "execution_count": 2,
   "source": [
    "!dir /s /b \"main.any\""
   ],
   "outputs": [
    {
     "output_type": "stream",
     "name": "stdout",
     "text": [
      "C:\\Users\\mel\\Documents\\AnyBodySource\\AnyPyTools\\docs\\Tutorial\\Tutorial_files\\BatchProcess\\model1\\main.any\n",
      "C:\\Users\\mel\\Documents\\AnyBodySource\\AnyPyTools\\docs\\Tutorial\\Tutorial_files\\BatchProcess\\model2\\main.any\n",
      "C:\\Users\\mel\\Documents\\AnyBodySource\\AnyPyTools\\docs\\Tutorial\\Tutorial_files\\BatchProcess\\model3\\main.any\n",
      "C:\\Users\\mel\\Documents\\AnyBodySource\\AnyPyTools\\docs\\Tutorial\\Tutorial_files\\BatchProcess\\model4\\main.any\n",
      "C:\\Users\\mel\\Documents\\AnyBodySource\\AnyPyTools\\docs\\Tutorial\\Tutorial_files\\BatchProcess\\model5\\main.any\n",
      "C:\\Users\\mel\\Documents\\AnyBodySource\\AnyPyTools\\docs\\Tutorial\\Tutorial_files\\BatchProcess\\model6\\main.any\n",
      "C:\\Users\\mel\\Documents\\AnyBodySource\\AnyPyTools\\docs\\Tutorial\\Tutorial_files\\BatchProcess\\model7\\main.any\n",
      "C:\\Users\\mel\\Documents\\AnyBodySource\\AnyPyTools\\docs\\Tutorial\\Tutorial_files\\BatchProcess\\model8\\main.any\n",
      "C:\\Users\\mel\\Documents\\AnyBodySource\\AnyPyTools\\docs\\Tutorial\\Tutorial_files\\BatchProcess\\model9\\main.any\n"
     ]
    }
   ],
   "metadata": {}
  },
  {
   "cell_type": "markdown",
   "source": [
    "Each of main files `main.any` has it own set of parameters, and they all include the same common fiile `Demo.Arm2D.any`. "
   ],
   "metadata": {}
  },
  {
   "cell_type": "code",
   "execution_count": 3,
   "source": [
    "from anypytools import AnyPyProcess\n",
    "\n",
    "folderlist = [\"Tutorial_files/BatchProcess\"]\n",
    "app = AnyPyProcess(num_processes = 3)\n",
    "macrolist = [\n",
    "    'load \"main.any\"',\n",
    "    'operation Main.Study.InverseDynamics',\n",
    "    'run'\n",
    "]\n",
    "\n",
    "app.start_macro(macrolist, folderlist, search_subdirs= \"model[1-9].*main.any\" );"
   ],
   "outputs": [
    {
     "output_type": "display_data",
     "data": {
      "text/plain": [
       "HBox(children=(FloatProgress(value=0.0, max=9.0), HTML(value='')))"
      ],
      "application/vnd.jupyter.widget-view+json": {
       "model_id": "4b89fc10dc8d4979ae860a8b0ecee01c",
       "version_major": 2,
       "version_minor": 0
      }
     },
     "metadata": {}
    },
    {
     "output_type": "stream",
     "name": "stdout",
     "text": [
      "\n",
      "Completed: 9\n"
     ]
    }
   ],
   "metadata": {}
  },
  {
   "cell_type": "code",
   "execution_count": null,
   "source": [],
   "outputs": [],
   "metadata": {
    "collapsed": true,
    "jupyter": {
     "outputs_hidden": true
    }
   }
  }
 ],
 "metadata": {
  "kernelspec": {
   "display_name": "Python 3",
   "language": "python",
   "name": "python3"
  },
  "language_info": {
   "codemirror_mode": {
    "name": "ipython",
    "version": 3
   },
   "file_extension": ".py",
   "mimetype": "text/x-python",
   "name": "python",
   "nbconvert_exporter": "python",
   "pygments_lexer": "ipython3",
   "version": "3.7.4"
  },
  "widgets": {
   "state": {
    "023bc90e45fe4a3f83e02ea43b092ae5": {
     "views": []
    },
    "4111fd094ae64f25a37b30a7c2d4cf8c": {
     "views": []
    },
    "4db284e854be4cb8b366eac292a6539d": {
     "views": []
    },
    "5fde7d7a528346d5bc4b492dc62c30f9": {
     "views": [
      {
       "cell_index": 9
      }
     ]
    },
    "9cd62918fb334748ae6f0e54174d3a7d": {
     "views": []
    },
    "aa184d0582524dc0a29d0d24e76df658": {
     "views": [
      {
       "cell_index": 9
      }
     ]
    },
    "cd72d8298a094b07ac2342acd7f5e5cb": {
     "views": []
    },
    "f98e895d639c44a08d4e42abfbffdca4": {
     "views": []
    }
   },
   "version": "1.1.2"
  }
 },
 "nbformat": 4,
 "nbformat_minor": 4
}