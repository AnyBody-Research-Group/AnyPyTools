{
 "cells": [
  {
   "cell_type": "markdown",
   "metadata": {},
   "source": [
    "# Tips & Trics for anypytools"
   ]
  },
  {
   "cell_type": "markdown",
   "metadata": {},
   "source": [
    "## Stopping and restarting simulations"
   ]
  },
  {
   "cell_type": "markdown",
   "metadata": {},
   "source": [
    "AnyPyProcess caches the simulation results. This allows us to stop the simulations, and then later restart them again."
   ]
  },
  {
   "cell_type": "code",
   "execution_count": 1,
   "metadata": {
    "collapsed": true
   },
   "outputs": [],
   "source": [
    "from anypytools import AnyPyProcess \n",
    "app = AnyPyProcess(num_processes=1, return_task_info = True )\n",
    "macro = [\n",
    "    'load \"Knee.any\"', \n",
    "    'operation Main.MyStudy.InverseDynamics',\n",
    "    'run',\n",
    "]\n",
    "\n",
    "macrolist = [macro]*20"
   ]
  },
  {
   "cell_type": "code",
   "execution_count": 2,
   "metadata": {},
   "outputs": [
    {
     "data": {
      "application/vnd.jupyter.widget-view+json": {
       "model_id": "4afad8bc36384eb1b9d9fca892c0d2ba"
      }
     },
     "metadata": {},
     "output_type": "display_data"
    },
    {
     "data": {
      "text/html": [
       "Processing interrupted"
      ],
      "text/plain": [
       "<IPython.core.display.HTML object>"
      ]
     },
     "metadata": {},
     "output_type": "display_data"
    },
    {
     "data": {
      "application/vnd.jupyter.widget-view+json": {
       "model_id": "91f2d7d49df94be6a2ec88593d7e95de"
      }
     },
     "metadata": {},
     "output_type": "display_data"
    }
   ],
   "source": [
    "app.start_macro(macrolist); "
   ]
  },
  {
   "cell_type": "markdown",
   "metadata": {},
   "source": [
    "Here we stopped the simulation using the Notebook interrupt button. Calling the `start_macro()` function again continues the processing and re-run any task that wasn't completed in the first run and any task that exited with errors. "
   ]
  },
  {
   "cell_type": "code",
   "execution_count": 3,
   "metadata": {},
   "outputs": [
    {
     "data": {
      "application/vnd.jupyter.widget-view+json": {
       "model_id": "1906cdfe25a94c0ebb705b33e2bd2233"
      }
     },
     "metadata": {},
     "output_type": "display_data"
    },
    {
     "data": {
      "application/vnd.jupyter.widget-view+json": {
       "model_id": "42b99c71060e45baa214744d2195d023"
      }
     },
     "metadata": {},
     "output_type": "display_data"
    }
   ],
   "source": [
    "app.start_macro(macrolist);"
   ]
  },
  {
   "cell_type": "markdown",
   "metadata": {},
   "source": [
    "Note: That changing the input arguments `start_macro` or re-instanciating the `app` object will erase the cache and re-run all processes. \n"
   ]
  },
  {
   "cell_type": "markdown",
   "metadata": {},
   "source": [
    "## Including meta-information in the output"
   ]
  },
  {
   "cell_type": "markdown",
   "metadata": {},
   "source": [
    "The typical behavior of `start_macro()` is only to return variables 'dump'ed by the macro commands. "
   ]
  },
  {
   "cell_type": "code",
   "execution_count": 6,
   "metadata": {},
   "outputs": [
    {
     "data": {
      "application/vnd.jupyter.widget-view+json": {
       "model_id": "986393a048f341808f85e70b351fd90d"
      }
     },
     "metadata": {},
     "output_type": "display_data"
    },
    {
     "data": {
      "application/vnd.jupyter.widget-view+json": {
       "model_id": "dc9d8008840240c9aadef229daaf2a37"
      }
     },
     "metadata": {},
     "output_type": "display_data"
    },
    {
     "data": {
      "text/plain": [
       "[{'Main.MyStudy.Output.MaxMuscleActivity': \n",
       "    array([ 0.00890538,  0.02510015,  0.06036529,  0.08096678,  0.08356285,\n",
       "            0.08356285,  0.08096678,  0.06036529,  0.02510015,  0.00890538])}]"
      ]
     },
     "execution_count": 6,
     "metadata": {},
     "output_type": "execute_result"
    }
   ],
   "source": [
    "from anypytools import AnyPyProcess\n",
    "from anypytools.macro_commands import Load, OperationRun, Dump\n",
    "\n",
    "app = AnyPyProcess()\n",
    "macro = [\n",
    "    Load('Knee.any', defs={'N_STEP':10}), \n",
    "    OperationRun('Main.MyStudy.InverseDynamics'),\n",
    "    Dump('Main.MyStudy.Output.MaxMuscleActivity'),\n",
    "]\n",
    "app.start_macro(macro)"
   ]
  },
  {
   "cell_type": "markdown",
   "metadata": {},
   "source": [
    "To get more information about the tasks, we can set `return_task_info` flag. "
   ]
  },
  {
   "cell_type": "code",
   "execution_count": 7,
   "metadata": {},
   "outputs": [
    {
     "data": {
      "application/vnd.jupyter.widget-view+json": {
       "model_id": "1ec04173a2a945458d62bb9a3b9a3589"
      }
     },
     "metadata": {},
     "output_type": "display_data"
    },
    {
     "data": {
      "application/vnd.jupyter.widget-view+json": {
       "model_id": "b6c8dbb1a1a64e34b7aee03c53bbd2be"
      }
     },
     "metadata": {},
     "output_type": "display_data"
    },
    {
     "data": {
      "text/plain": [
       "[{'Main.MyStudy.Output.MaxMuscleActivity': \n",
       "    array([ 0.,  0.,  0.,  0.,  0.,  0.,  0.,  0.,  0.,  0.]),\n",
       "  'task_macro_hash': -6717722978800203534,\n",
       "  'task_id': 0,\n",
       "  'task_work_dir': 'C:\\\\Users\\\\mel\\\\Documents\\\\AnyPyTools\\\\docs\\\\Tutorial',\n",
       "  'task_name': 'docs/Tutorial',\n",
       "  'task_processtime': 0.5640715567972734,\n",
       "  'task_macro': \n",
       "    ['load \"Knee.any\" -def N_STEP=\"10\"',\n",
       "     'operation Main.MyStudy.InverseDynamics',\n",
       "     'classoperation Main.MyStudy.Output.MaxMuscleActivity \"Dump\"',\n",
       "     'run'],\n",
       "  'task_logfile': ''}]"
      ]
     },
     "execution_count": 7,
     "metadata": {},
     "output_type": "execute_result"
    }
   ],
   "source": [
    "from anypytools import AnyPyProcess \n",
    "\n",
    "app = AnyPyProcess(return_task_info = True)\n",
    "macro = [\n",
    "    'load \"Knee.any\" -def N_STEP=\"10\"', \n",
    "    'operation Main.MyStudy.InverseDynamics',\n",
    "    'classoperation Main.MyStudy.Output.MaxMuscleActivity \"Dump\"',\n",
    "    'run'\n",
    "]\n",
    "app.start_macro(macro) "
   ]
  },
  {
   "cell_type": "markdown",
   "metadata": {},
   "source": [
    "That returns extra meta information about the processing and the macros."
   ]
  },
  {
   "cell_type": "markdown",
   "metadata": {},
   "source": [
    "## Saving output to re-process at a later time"
   ]
  },
  {
   "cell_type": "markdown",
   "metadata": {},
   "source": [
    "Saving data with 'extra' task information, gives some other posibilities. The results from running batch processin (i.e. output f `start_macro()` can be used as input to restart the same processing even if the AnyPyProcess have no cached results. "
   ]
  },
  {
   "cell_type": "code",
   "execution_count": 8,
   "metadata": {},
   "outputs": [
    {
     "data": {
      "application/vnd.jupyter.widget-view+json": {
       "model_id": "5588609213bf4d278e1482255a40176e"
      }
     },
     "metadata": {},
     "output_type": "display_data"
    },
    {
     "data": {
      "application/vnd.jupyter.widget-view+json": {
       "model_id": "98af5a11bc2d4350901b7da244c84a8c"
      }
     },
     "metadata": {},
     "output_type": "display_data"
    }
   ],
   "source": [
    "from anypytools import AnyPyProcess \n",
    "\n",
    "app = AnyPyProcess(return_task_info = True)\n",
    "macro = [\n",
    "    'load \"Knee.any\" -def N_STEP=\"10\"', \n",
    "    'operation Main.MyStudy.InverseDynamics',\n",
    "    'classoperation Main.MyStudy.Output.MaxMuscleActivity \"Dump\"',\n",
    "    'run'\n",
    "]\n",
    "output = app.start_macro(macro) "
   ]
  },
  {
   "cell_type": "code",
   "execution_count": 9,
   "metadata": {},
   "outputs": [
    {
     "data": {
      "application/vnd.jupyter.widget-view+json": {
       "model_id": "5e9aa08f5b7141b78f660f5880395751"
      }
     },
     "metadata": {},
     "output_type": "display_data"
    },
    {
     "data": {
      "application/vnd.jupyter.widget-view+json": {
       "model_id": "708e5fa303f649619f1333bf77a86bf1"
      }
     },
     "metadata": {},
     "output_type": "display_data"
    },
    {
     "data": {
      "text/plain": [
       "[{'Main.MyStudy.Output.MaxMuscleActivity': \n",
       "    array([ 0.,  0.,  0.,  0.,  0.,  0.,  0.,  0.,  0.,  0.]),\n",
       "  'task_macro_hash': -6717722978800203534,\n",
       "  'task_id': 0,\n",
       "  'task_work_dir': 'C:\\\\Users\\\\mel\\\\Documents\\\\AnyPyTools\\\\docs\\\\Tutorial',\n",
       "  'task_name': 'docs/Tutorial',\n",
       "  'task_processtime': 0.43872824788422804,\n",
       "  'task_macro': \n",
       "    ['load \"Knee.any\" -def N_STEP=\"10\"',\n",
       "     'operation Main.MyStudy.InverseDynamics',\n",
       "     'classoperation Main.MyStudy.Output.MaxMuscleActivity \"Dump\"',\n",
       "     'run'],\n",
       "  'task_logfile': ''}]"
      ]
     },
     "execution_count": 9,
     "metadata": {},
     "output_type": "execute_result"
    }
   ],
   "source": [
    "app = AnyPyProcess()\n",
    "app.start_macro(output)"
   ]
  },
  {
   "cell_type": "markdown",
   "metadata": {},
   "source": [
    "The effect is that the result of an analysis can be saved to files and later restarted.  The next example illustrates this."
   ]
  },
  {
   "cell_type": "markdown",
   "metadata": {},
   "source": [
    "## Example: Saving data to disk while running"
   ]
  },
  {
   "cell_type": "code",
   "execution_count": 8,
   "metadata": {
    "collapsed": true
   },
   "outputs": [],
   "source": [
    "import os\n",
    "from scipy.stats import distributions\n",
    "from anypytools import AnyPyProcess, AnyMacro\n",
    "from anypytools.macro_commands import Load, SetValue_random, OperationRun, Dump"
   ]
  },
  {
   "cell_type": "code",
   "execution_count": 9,
   "metadata": {},
   "outputs": [
    {
     "name": "stdout",
     "output_type": "stream",
     "text": [
      "Data saved\n",
      "Data saved\n",
      "Data saved\n",
      "Data saved\n",
      "Data saved\n",
      "Data saved\n",
      "Data saved\n",
      "Data saved\n",
      "Data saved\n",
      "Data saved\n",
      "Done\n"
     ]
    }
   ],
   "source": [
    "\n",
    "tibia_knee_srel = distributions.norm([0, 0.18, 0], [0.005, 0.005, 0.005] ) \n",
    "femur_knee_srel = distributions.norm([0, -0.3, 0], [0.005, 0.005, 0.005] ) \n",
    "\n",
    "app = AnyPyProcess(return_task_info=True, disp=False)\n",
    "mg = AnyMacro(number_of_macros = 500)\n",
    "mg.extend([\n",
    "    Load('knee.any', defs = {'N_STEP':20}),\n",
    "    SetValue_random('Main.MyModel.Tibia.Knee.sRel', tibia_knee_srel),\n",
    "    SetValue_random('Main.MyModel.Femur.Knee.sRel', femur_knee_srel),\n",
    "    OperationRun('Main.MyStudy.InverseDynamics'),\n",
    "    Dump('Main.MyStudy.Output.MaxMuscleActivity'),\n",
    "])\n",
    "\n",
    "try:\n",
    "    os.remove('data.db')\n",
    "except OSError:\n",
    "    pass\n",
    "\n",
    "for macros in mg.create_macros_MonteCarlo(batch_size=50):\n",
    "    app.start_macro(macros)\n",
    "    app.save_results('data.db', append=True)\n",
    "    print('Data saved')\n",
    "print('Done')"
   ]
  },
  {
   "cell_type": "markdown",
   "metadata": {},
   "source": [
    "All this stored data can be be reloaded "
   ]
  },
  {
   "cell_type": "code",
   "execution_count": 11,
   "metadata": {},
   "outputs": [
    {
     "name": "stdout",
     "output_type": "stream",
     "text": [
      "Entries in file: 500\n"
     ]
    }
   ],
   "source": [
    "reloaded_results = app.load_results('data.db')\n",
    "print('Entries in file: {}'.format(len(reloaded_results)))"
   ]
  },
  {
   "cell_type": "code",
   "execution_count": 11,
   "metadata": {},
   "outputs": [
    {
     "data": {
      "text/plain": [
       "[{'Main.MyStudy.Output.MaxMuscleActivity': \n",
       "    array([ 0.01336689,  0.01764261,  0.02762996,  0.04205546,  0.05797153,\n",
       "            0.07081998,  0.07692092,  0.07819499,  0.07874919,  0.07809371,\n",
       "            0.07809389,  0.07874896,  0.07819499,  0.07692092,  0.07081997,\n",
       "            0.05797153,  0.04205546,  0.02763004,  0.01764254,  0.01336688]),\n",
       "  'task_macro_hash': 603735322,\n",
       "  'task_id': 6,\n",
       "  'task_work_dir': 'E:\\\\Users\\\\MEL\\\\GitHub\\\\AnyPyTools\\\\Tutorial',\n",
       "  'task_name': 'AnyPyTools/Tutorial_6',\n",
       "  'task_processtime': 0.5581194122411262,\n",
       "  'task_macro': \n",
       "    [u'load \"knee.any\" -def N_STEP=\"20\"',\n",
       "     u'classoperation Main.MyModel.Tibia.Knee.sRel \"Set Value\" --value=\"{-0.00516931593303,0.172085097949,0.00140114268864}\"',\n",
       "     u'classoperation Main.MyModel.Femur.Knee.sRel \"Set Value\" --value=\"{-0.00306923441492,-0.298351381585,0.00230825833634}\"',\n",
       "     u'operation Main.MyStudy.InverseDynamics',\n",
       "     u'run',\n",
       "     u'classoperation Main.MyStudy.Output.MaxMuscleActivity \"Dump\"'],\n",
       "  'task_logfile': u''}]"
      ]
     },
     "execution_count": 11,
     "metadata": {},
     "output_type": "execute_result"
    }
   ],
   "source": [
    "reloaded_results[456:457]"
   ]
  },
  {
   "cell_type": "code",
   "execution_count": 12,
   "metadata": {},
   "outputs": [
    {
     "data": {
      "image/png": "[encoded data removed]",
      "text/plain": [
       "<matplotlib.figure.Figure at 0x13ff4240>"
      ]
     },
     "metadata": {},
     "output_type": "display_data"
    }
   ],
   "source": [
    "%matplotlib inline\n",
    "import matplotlib.pyplot as plt\n",
    "\n",
    "plt.plot(reloaded_results['MaxMuscleAct'].T, 'b', lw=0.2, alpha = 0.3);"
   ]
  }
 ],
 "metadata": {
  "kernelspec": {
   "display_name": "Python 3",
   "language": "python",
   "name": "python3"
  },
  "language_info": {
   "codemirror_mode": {
    "name": "ipython",
    "version": 3
   },
   "file_extension": ".py",
   "mimetype": "text/x-python",
   "name": "python",
   "nbconvert_exporter": "python",
   "pygments_lexer": "ipython3",
   "version": "3.6.1"
  },
  "widgets": {
   "state": {
    "000364615993404489eb8a036be1f7de": {
     "views": []
    },
    "047bed239b4a471db3e9c1a6dd952182": {
     "views": []
    },
    "04d588783d5c4e01a7fe600df7bcd4a7": {
     "views": []
    },
    "0921c9e2925f455dbf513b5dcaa29693": {
     "views": []
    },
    "0954da454c5648eaa848a467bffe1bf9": {
     "views": []
    },
    "0c67658af4e0413ab6c194df27ffa5c5": {
     "views": []
    },
    "0c82c2e85caf49fbbfa285284278c3c8": {
     "views": []
    },
    "14bd487774444ec2b8ab028f8b41b323": {
     "views": []
    },
    "16a3e9af74614cc9951a9dfb3cd92ef0": {
     "views": []
    },
    "1c14199005c54052bfd082ead48de0b8": {
     "views": []
    },
    "1e5632fb2a4c4f12b8c3105750a0cfe6": {
     "views": []
    },
    "1ed511a215b54b40bbf548319f5623ea": {
     "views": []
    },
    "1f2f16a80fd74854a7d833a64bee1e9f": {
     "views": []
    },
    "23199cd138bd43e8a34f3806d825240b": {
     "views": [
      {
       "cell_index": 6
      }
     ]
    },
    "2425f275775d49d5a4c6f729e9c504f5": {
     "views": []
    },
    "2471d8dadd794d36a4a93771c956eda5": {
     "views": [
      {
       "cell_index": 4
      }
     ]
    },
    "24a4fda8207b434b8b13087c1f0870cb": {
     "views": []
    },
    "2f811a07fdd542ca88edef18a643ef42": {
     "views": []
    },
    "2fd4651f2ad44515800d891d989d42cd": {
     "views": []
    },
    "3300bad720fd48338c905b7ecbf52855": {
     "views": []
    },
    "34a95e9d44924a7a98b6822a9f6af085": {
     "views": []
    },
    "3677687196284ce59445f36569ceeeac": {
     "views": []
    },
    "36eec123a50d4584b500dd095d82f39a": {
     "views": []
    },
    "36f9d48bdfe24533aa377f2010cf9908": {
     "views": []
    },
    "3b34c30dde4a4cfcbb65d89920de9ade": {
     "views": []
    },
    "3c647bc46ce64c3697244133167ab09e": {
     "views": [
      {
       "cell_index": 17
      }
     ]
    },
    "406203c3d2d843bba23d3c8a088a4191": {
     "views": []
    },
    "4093eb01c7884afa83b5841ff72ac6e9": {
     "views": [
      {
       "cell_index": 10
      }
     ]
    },
    "44d9b7fbaec44f00ba7c07c69bffca7c": {
     "views": [
      {
       "cell_index": 6
      }
     ]
    },
    "4636c9fb3bfa47bf955cdeecc4a2161f": {
     "views": []
    },
    "47e074804bb04f589aff8057c73d1844": {
     "views": [
      {
       "cell_index": 12
      }
     ]
    },
    "4bdab337a1b24ba288fd30df1e1bbd43": {
     "views": [
      {
       "cell_index": 12
      }
     ]
    },
    "4c76ce6173ca4678b075a1c95c539467": {
     "views": []
    },
    "4f29ad4cc2d74d4986f2a39608d110ab": {
     "views": [
      {
       "cell_index": 16
      }
     ]
    },
    "51d52773ef4d43d9a3da892a18bf0007": {
     "views": []
    },
    "5a2984a175c34502b58b6fd261b6967a": {
     "views": []
    },
    "5b062eec3991426c8b870ece77e8c090": {
     "views": []
    },
    "5ceba0e92c3d40b19cbe9e644557fdf1": {
     "views": []
    },
    "6007eb82ef39438da8017f8ac57262de": {
     "views": []
    },
    "649e53bf5da245be98d0e86041d0a323": {
     "views": []
    },
    "677dd463605f43bb8f6e734a90622761": {
     "views": []
    },
    "67b73d405c9542ef8625661d5a410b9b": {
     "views": [
      {
       "cell_index": 16
      }
     ]
    },
    "6e6a677db3e54366aa9b9170aafce485": {
     "views": []
    },
    "6fedb6c14f2b4067a37d1aac31ff4730": {
     "views": []
    },
    "70daf1f18f144d3d94f4bcb7d986c568": {
     "views": []
    },
    "73dece9661fd4655a5bb4cb31f9d4fa1": {
     "views": []
    },
    "775b4786d49d4011808c07f32210b3df": {
     "views": [
      {
       "cell_index": 12
      }
     ]
    },
    "7a9ffba8636f434a9efb956596c1e385": {
     "views": []
    },
    "7abd8d938d864450ad0a2a242e54b5c8": {
     "views": []
    },
    "7fc14be7b6394606a9aa51c634077dd0": {
     "views": []
    },
    "80327e7aa35e4a8790b38113a74a84ef": {
     "views": []
    },
    "8331e23bec6142c495d6e9283eef0a10": {
     "views": []
    },
    "8392f28ba1894005b96d0e8eee06554d": {
     "views": []
    },
    "8580d8c8c42340d8b5d24d57e0d7f37a": {
     "views": []
    },
    "85e091fff99842ab9bc39057c6697277": {
     "views": []
    },
    "8d47fd5927094d6db4a25fb7aa826c7c": {
     "views": [
      {
       "cell_index": 4
      }
     ]
    },
    "933bc8d7ddd64f8e98584e942924cf15": {
     "views": []
    },
    "97ae4c3a7e4149ebafdc656387ccfb5d": {
     "views": [
      {
       "cell_index": 6
      }
     ]
    },
    "9856640899a6484bbdd4fad12adc7d70": {
     "views": []
    },
    "9ce40ccc06cf4854ac554bfbd8f4cb54": {
     "views": [
      {
       "cell_index": 10
      }
     ]
    },
    "9e827b078ed64e05994db9b46aabb5be": {
     "views": []
    },
    "a01a7039236640b9ab74fe1926492a63": {
     "views": []
    },
    "a37b8d13079645759561aae7b47c8072": {
     "views": []
    },
    "a889a1dac4e94828bbbecdfb932e01fd": {
     "views": []
    },
    "a915b3f29299473bb8b7c3c8749221df": {
     "views": []
    },
    "b17d618581df42578c3c9e71884d921a": {
     "views": []
    },
    "b309a755d5eb4e968a93c2bf8dd25b17": {
     "views": []
    },
    "b4392ac01660483db162abb4cd4445f9": {
     "views": []
    },
    "b4c9c972781a42229c4480141966879c": {
     "views": [
      {
       "cell_index": 16
      }
     ]
    },
    "b5e81a625e1445799992136488161eb6": {
     "views": [
      {
       "cell_index": 17
      }
     ]
    },
    "b7a0587c5af1446fb80c8a53a54f3675": {
     "views": []
    },
    "be3aa58d7bac43f99095d8738ddbe3b4": {
     "views": []
    },
    "bf6e9255c1de491b9edf4ab604c836af": {
     "views": []
    },
    "bfa227b8759841359956529757a70b38": {
     "views": []
    },
    "c10a1e562c1c495c91a703b3e20b12cf": {
     "views": []
    },
    "c2d6aaf1c46a44818517af215f04f0fd": {
     "views": []
    },
    "c38818cae2fb4a018af358239fb05037": {
     "views": []
    },
    "c493cb43e5da44709dc5eba4c3e84e02": {
     "views": []
    },
    "cc19f10ba3884afe9a333343b05996b4": {
     "views": []
    },
    "ceb5c245c2724930be8109040f0b72f0": {
     "views": []
    },
    "d7623788b8ae4783b95ccfae4289d295": {
     "views": []
    },
    "d8d921bd4d6a4d27801f73d962bb2269": {
     "views": []
    },
    "d8db707c4d4d4451861abf85a9d9e142": {
     "views": [
      {
       "cell_index": 4
      }
     ]
    },
    "dab97ee17cda4255b0446302c8a3368f": {
     "views": []
    },
    "dc6b1fb02d844e1cb591949b6acc0023": {
     "views": []
    },
    "dd401ef320a340eab2ef1e683311b52b": {
     "views": []
    },
    "e5c041309a484963bc8e406576c66355": {
     "views": []
    },
    "e682ea0371554f31a04f375fad47400f": {
     "views": []
    },
    "ec6462b08c014837a98503a4630486bd": {
     "views": [
      {
       "cell_index": 10
      }
     ]
    },
    "ec8fd36e666f43819be8a204a3523466": {
     "views": []
    },
    "f2f0c7d075ab45ee926c58e6ac9e723f": {
     "views": []
    },
    "f8824437d8bc41f0ab9d2c629297665a": {
     "views": []
    },
    "fbe7b0949c1349978751f06ba49e092c": {
     "views": []
    },
    "fdc15e620d0d4640bc9e2d529a94d770": {
     "views": []
    },
    "fe94870e8c404803b6790ee44c4ac979": {
     "views": []
    },
    "ff8a358930874c9ab72dc587e721a212": {
     "views": []
    }
   },
   "version": "1.1.2"
  }
 },
 "nbformat": 4,
 "nbformat_minor": 1
}
