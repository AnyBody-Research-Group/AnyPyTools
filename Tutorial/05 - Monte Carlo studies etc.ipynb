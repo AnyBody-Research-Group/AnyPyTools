{
 "metadata": {
  "name": "",
  "signature": "sha256:8b3d64b571b044df467f08d1a716ca717842f63cd0aba3f2d690c8ed8c40d96a"
 },
 "nbformat": 3,
 "nbformat_minor": 0,
 "worksheets": [
  {
   "cells": [
    {
     "cell_type": "heading",
     "level": 1,
     "metadata": {},
     "source": [
      "Advanced Examples"
     ]
    },
    {
     "cell_type": "heading",
     "level": 2,
     "metadata": {},
     "source": [
      "Making a Monte Carlo parameter study"
     ]
    },
    {
     "cell_type": "markdown",
     "metadata": {},
     "source": [
      "Now let us make a Monte Carlo study. This is a case where the automatic generation of AnyBody macros shows it's advangtage. \n",
      "\n",
      "In this example we generate macro commands that change a `sRel` variable in an AnyBody model. In this case we chose the value from a uniform distribution, but any statisctical distribution can be used. "
     ]
    },
    {
     "cell_type": "code",
     "collapsed": false,
     "input": [
      "from scipy.stats import distributions\n",
      "patella_sRel = distributions.uniform([0.02, 0.12, 0], [0.03,0.03,0.03]) "
     ],
     "language": "python",
     "metadata": {},
     "outputs": [],
     "prompt_number": 1
    },
    {
     "cell_type": "code",
     "collapsed": false,
     "input": [
      "from anypytools.generate_macros import MonteCarloMacroGenerator\n",
      "\n",
      "mg = MonteCarloMacroGenerator(number_of_macros= 3)\n",
      "\n",
      "mg.add_set_value_random('Main.MyModel.Tibia.Patella2.sRel', patella_sRel ) \n",
      "macros  = mg.generate_macros()\n",
      "macros"
     ],
     "language": "python",
     "metadata": {},
     "outputs": [
      {
       "metadata": {},
       "output_type": "pyout",
       "prompt_number": 2,
       "text": [
        "[[u'classoperation Main.MyModel.Tibia.Patella2.sRel \"Set Value\" --value=\"{0.035,0.135,0.015}\"'],\n",
        " [u'classoperation Main.MyModel.Tibia.Patella2.sRel \"Set Value\" --value=\"{0.0405329809241,0.141585975966,0.00759768242285}\"'],\n",
        " [u'classoperation Main.MyModel.Tibia.Patella2.sRel \"Set Value\" --value=\"{0.042393709499,0.123039959379,0.00953419358005}\"']]"
       ]
      }
     ],
     "prompt_number": 2
    },
    {
     "cell_type": "markdown",
     "metadata": {},
     "source": [
      "We can expand the macro to also load and run the model. Let us also generate 100 of these macros:"
     ]
    },
    {
     "cell_type": "code",
     "collapsed": false,
     "input": [
      "mg = MonteCarloMacroGenerator(number_of_macros= 100)\n",
      "\n",
      "# Add commands to the macro\n",
      "mg.add_load('Knee.any')\n",
      "mg.add_set_value_random('Main.MyModel.Tibia.Patella2.sRel', patella_sRel ) \n",
      "mg.add_run_operation('Main.MyStudy.InverseDynamics')\n",
      "mg.add_dump('Main.MyStudy.Output.MaxMuscleActivity')\n",
      "mg.add_macro('exit')\n",
      "\n",
      "macros = mg.generate_macros()"
     ],
     "language": "python",
     "metadata": {},
     "outputs": [],
     "prompt_number": 3
    },
    {
     "cell_type": "markdown",
     "metadata": {},
     "source": [
      "The macro is passed to the AnyPyProcess object which excutes the macros"
     ]
    },
    {
     "cell_type": "code",
     "collapsed": false,
     "input": [
      "from anypytools.abcutils import AnyPyProcess \n",
      "\n",
      "app = AnyPyProcess()\n",
      "results = app.start_macro(macros)\n"
     ],
     "language": "python",
     "metadata": {},
     "outputs": [
      {
       "output_type": "stream",
       "stream": "stdout",
       "text": [
        "\r",
        " [****************100%******************]  100 of 100 complete"
       ]
      },
      {
       "output_type": "stream",
       "stream": "stdout",
       "text": [
        "\n"
       ]
      },
      {
       "html": [
        "Total time: 103 seconds"
       ],
       "metadata": {},
       "output_type": "display_data",
       "text": [
        "<IPython.core.display.HTML object>"
       ]
      }
     ],
     "prompt_number": 4
    },
    {
     "cell_type": "markdown",
     "metadata": {},
     "source": [
      "The result of the first macro in the Monte Carlo studies is always the mean result, i.e. without any random contributions. "
     ]
    },
    {
     "cell_type": "code",
     "collapsed": false,
     "input": [
      "activity = results[0]['Main.MyStudy.Output.MaxMuscleActivity']"
     ],
     "language": "python",
     "metadata": {},
     "outputs": [],
     "prompt_number": 5
    },
    {
     "cell_type": "markdown",
     "metadata": {},
     "source": [
      "The remaining elements contain the result of the Monte Carlo study. We can extract this data to calculate the minimum and maximum values.  "
     ]
    },
    {
     "cell_type": "code",
     "collapsed": false,
     "input": [
      "import numpy as np\n",
      "data = np.row_stack((elem['Main.MyStudy.Output.MaxMuscleActivity'] for elem in results[1:]))"
     ],
     "language": "python",
     "metadata": {},
     "outputs": [],
     "prompt_number": 6
    },
    {
     "cell_type": "markdown",
     "metadata": {},
     "source": [
      "Finaly we can plot the result of the Monte Carlo study"
     ]
    },
    {
     "cell_type": "code",
     "collapsed": false,
     "input": [
      "%matplotlib inline\n",
      "import matplotlib.pyplot as plt\n",
      "\n",
      "x = range(len(activity))\n",
      "plt.fill_between(x, data.min(axis=0), data.max(axis=0),alpha=0.4  )\n",
      "plt.plot(x, activity,'r--', lw = 2, ) \n"
     ],
     "language": "python",
     "metadata": {},
     "outputs": [
      {
       "metadata": {},
       "output_type": "pyout",
       "prompt_number": 7,
       "text": [
        "[<matplotlib.lines.Line2D at 0xfa64a90>]"
       ]
      },
      {
       "metadata": {},
       "output_type": "display_data",
       "png": "[encoded data removed]",
       "text": [
        "<matplotlib.figure.Figure at 0x4479e10>"
       ]
      }
     ],
     "prompt_number": 7
    },
    {
     "cell_type": "heading",
     "level": 2,
     "metadata": {},
     "source": [
      "Latin Hypercube sampling"
     ]
    },
    {
     "cell_type": "markdown",
     "metadata": {},
     "source": [
      "Monte carlo studies are not very efficient when investigating the effect of many parameters. It quickly becomes necessary to run the model tens of thousands of times. Not very convienient if the AnyBody model takes a long time to run. \n",
      "\n",
      "An other approach is to use Latin Hypercube sampling. From wikipedia\n",
      "> Latin hypercube sampling (LHS) is a statistical method for generating a sample of plausible collections of parameter values from a multidimensional distribution. The sampling method is often used to construct computer experiments.\n",
      "\n",
      "Using LHS we can genrate a sample which better spans the whole multidimensional space. Thus, a lot fever model evaluations are necessary. See [pyDOE](http://pythonhosted.org/pyDOE/randomized.html) for examples.\n",
      "\n",
      "To following uses LHS to do the same as in the previous example:"
     ]
    },
    {
     "cell_type": "code",
     "collapsed": false,
     "input": [
      "from anypytools.generate_macros import LatinHyperCubeMacroGenerator\n",
      "\n",
      "mg = LatinHyperCubeMacroGenerator(number_of_macros= 20)\n",
      "patella_sRel = distributions.uniform([0.02, 0.12, 0], [0.03,0.03,0.03]) \n",
      "\n",
      "# Add commands to the macro\n",
      "mg.add_load('Knee.any')\n",
      "mg.add_set_value_LHS('Main.MyModel.Tibia.Patella2.sRel', patella_sRel ) \n",
      "mg.add_run_operation('Main.MyStudy.InverseDynamics')\n",
      "mg.add_dump('Main.MyStudy.Output.MaxMuscleActivity')\n",
      "mg.add_macro('exit')\n",
      "\n",
      "macros = mg.generate_macros()"
     ],
     "language": "python",
     "metadata": {},
     "outputs": [],
     "prompt_number": 8
    },
    {
     "cell_type": "code",
     "collapsed": false,
     "input": [
      "from anypytools.abcutils import AnyPyProcess \n",
      "\n",
      "app = AnyPyProcess()\n",
      "results = app.start_macro(macros)"
     ],
     "language": "python",
     "metadata": {},
     "outputs": [
      {
       "output_type": "stream",
       "stream": "stdout",
       "text": [
        "\r",
        " [****************100%******************]  20 of 20 complete"
       ]
      },
      {
       "output_type": "stream",
       "stream": "stdout",
       "text": [
        "\n"
       ]
      },
      {
       "html": [
        "Total time: 22 seconds"
       ],
       "metadata": {},
       "output_type": "display_data",
       "text": [
        "<IPython.core.display.HTML object>"
       ]
      }
     ],
     "prompt_number": 9
    },
    {
     "cell_type": "code",
     "collapsed": false,
     "input": [
      "%matplotlib inline\n",
      "import matplotlib.pyplot as plt\n",
      "\n",
      "for elem in results[1:]:\n",
      "    plt.plot( elem[u'Main.MyStudy.Output.MaxMuscleActivity'],'b', lw=0.5 )\n",
      "plt.plot(results[0][u'Main.MyStudy.Output.MaxMuscleActivity'],'r--', lw = 2)\n"
     ],
     "language": "python",
     "metadata": {},
     "outputs": [
      {
       "metadata": {},
       "output_type": "pyout",
       "prompt_number": 10,
       "text": [
        "[<matplotlib.lines.Line2D at 0x3829860>]"
       ]
      },
      {
       "metadata": {},
       "output_type": "display_data",
       "png": "[encoded data removed]",
       "text": [
        "<matplotlib.figure.Figure at 0x4460eb8>"
       ]
      }
     ],
     "prompt_number": 10
    },
    {
     "cell_type": "code",
     "collapsed": false,
     "input": [],
     "language": "python",
     "metadata": {},
     "outputs": [],
     "prompt_number": 10
    }
   ],
   "metadata": {}
  }
 ]
}