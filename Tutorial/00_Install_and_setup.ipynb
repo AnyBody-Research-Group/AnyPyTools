{
 "metadata": {
  "name": "",
  "signature": "sha256:01a2a03b53aa647bf75e9d21b8d807fec58fb1f64d1be2b6bb92baab84f1f5d1"
 },
 "nbformat": 3,
 "nbformat_minor": 0,
 "worksheets": [
  {
   "cells": [
    {
     "cell_type": "markdown",
     "metadata": {},
     "source": [
      "# Install and setup\n",
      "****\n",
      "#### Requirements:\n",
      "* The [AnyBody Modeling System](http://www.anybodytech.com)\n",
      "* A Scientific Python distibution\n",
      "\n",
      "\n",
      "[AnyPyTools](https://github.com/AnyBody-Research-Group/AnyPyTools) is an open source python library for working with the AnyBody Modeling System.\n",
      "\n",
      "#### Easy Installation: \n",
      "\n",
      "- Download and install the [Anaconda python distribution](https://store.continuum.io/cshop/anaconda/)\n",
      "\n",
      "- After installation open the Anaconda command prompt and type:\n",
      "\n",
      ">``` cmd\n",
      "> conda install -c public anypytools\n",
      "> ```\n",
      " \n",
      "This will install the newest version of AnyPyTools. Try launching the inteactive version of the tutorial (click the icon in the Anaconda start menu).\n",
      "\n",
      "<img src=\"https://dl.dropboxusercontent.com/u/1683635/store/relax.png\" alt=\"\" align=\"left\"  style=\"height: 150px;\"/>\n",
      "\n"
     ]
    }
   ],
   "metadata": {}
  }
 ]
}