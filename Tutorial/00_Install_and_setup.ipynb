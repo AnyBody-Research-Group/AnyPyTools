{
 "cells": [
  {
   "cell_type": "markdown",
   "metadata": {},
   "source": [
    "# Install and setup\n",
    "****\n",
    "\n",
    "[AnyPyTools](https://github.com/AnyBody-Research-Group/AnyPyTools) is an open source python library for working with the AnyBody Modeling System.\n",
    "\n",
    "#### Requirements:\n",
    "* The [AnyBody Modeling System](http://www.anybodytech.com)\n",
    "* A Scientific Python distribution\n",
    "\n",
    "\n",
    "#### Easy Installation: \n",
    "\n",
    "- Download and install the [Anaconda Python distribution](https://store.continuum.io/cshop/anaconda/)\n",
    "\n",
    "- After installation, open the Anaconda command prompt and type:\n",
    "\n",
    ">``` cmd\n",
    "> conda install -c melund anypytools\n",
    "> ```\n",
    " \n",
    "This will install the newest version of AnyPyTools. Note: If Anaconda is 'Installed for all users' it may be necessary to run the command with admin rights. \n",
    "\n",
    "To update the package in case of newer versions run\n",
    "\n",
    ">``` cmd\n",
    "> conda update -c melund anypytools\n",
    "> ```\n",
    "\n",
    "Try launching the interactive version of the tutorial\n",
    "\n",
    "- Click the Anaconda Launcher in the start menu.\n",
    "\n",
    "- Click the AnyPyTools App\n",
    "\n",
    "<img src=\"Tutorial files/menu1.png\" alt=\"\" align=\"left\"  style=\"height: 150px;\"/>\n",
    "\n"
   ]
  },
  {
   "cell_type": "markdown",
   "metadata": {},
   "source": [
    "<img src=\"https://dl.dropboxusercontent.com/u/1683635/store/relax.png\" alt=\"\" align=\"left\"  style=\"height: 150px;\"/>"
   ]
  }
 ],
 "metadata": {
  "kernelspec": {
   "display_name": "Python 2",
   "language": "python",
   "name": "python2"
  },
  "language_info": {
   "codemirror_mode": {
    "name": "ipython",
    "version": 2
   },
   "file_extension": ".py",
   "mimetype": "text/x-python",
   "name": "python",
   "nbconvert_exporter": "python",
   "pygments_lexer": "ipython2",
   "version": "2.7.9"
  }
 },
 "nbformat": 4,
 "nbformat_minor": 0
}
