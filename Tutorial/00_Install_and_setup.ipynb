{
 "metadata": {
  "name": "",
  "signature": "sha256:ab48ef87f9b3d01664f9468a89300dba69a0f7677fffc2d9816708ae7f247213"
 },
 "nbformat": 3,
 "nbformat_minor": 0,
 "worksheets": [
  {
   "cells": [
    {
     "cell_type": "markdown",
     "metadata": {},
     "source": [
      "# Install and setup\n",
      "****\n",
      "#### Requirements:\n",
      "* The [AnyBody Modeling System](http://www.anybodytech.com)\n",
      "* A Scientific Python distibution\n",
      "\n",
      "\n",
      "[AnyPyTools](https://github.com/AnyBody-Research-Group/AnyPyTools) is an open source python library for working with the AnyBody Modeling System.\n",
      "\n",
      "#### Easy Installation: \n",
      "\n",
      "- Download and install the [Anaconda python distribution](https://store.continuum.io/cshop/anaconda/)\n",
      "\n",
      "- After installation open the Anaconda command prompt and type:\n",
      "\n",
      ">``` cmd\n",
      "> conda install -c public anypytools\n",
      "> ```\n",
      " \n",
      "This will install the newest version of AnyPyTools. Note: If Anaconda is 'Installed for all users' it may be necessary to run the command with admin rights. \n",
      "\n",
      "To update the package in case of newer versions run\n",
      "\n",
      ">``` cmd\n",
      "> conda update anypytools\n",
      "> ```\n",
      "\n",
      "Try launching the inteactive version of the tutorial (click the icon in the Anaconda start menu).\n",
      "\n",
      "<img src=\"Tutorial files/menu.png\" alt=\"\" align=\"left\"  style=\"height: 150px;\"/>\n",
      "\n"
     ]
    },
    {
     "cell_type": "markdown",
     "metadata": {},
     "source": [
      "<img src=\"https://dl.dropboxusercontent.com/u/1683635/store/relax.png\" alt=\"\" align=\"left\"  style=\"height: 150px;\"/>"
     ]
    }
   ],
   "metadata": {}
  }
 ]
}