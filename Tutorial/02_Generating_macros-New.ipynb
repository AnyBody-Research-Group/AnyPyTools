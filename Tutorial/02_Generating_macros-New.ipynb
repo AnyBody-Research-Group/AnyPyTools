{
 "cells": [
  {
   "cell_type": "markdown",
   "metadata": {},
   "source": [
    "# Generating anyscript macros"
   ]
  },
  {
   "cell_type": "markdown",
   "metadata": {},
   "source": [
    "The `generate_macros` packages contains tools to programtically write AnyBody macros. This simplifies the process of writing complex macros and makes it easier to do parameter studies. \n",
    "\n",
    "The package is imported with the following statement"
   ]
  },
  {
   "cell_type": "code",
   "execution_count": 11,
   "metadata": {
    "collapsed": false
   },
   "outputs": [],
   "source": [
    "from anypytools import AnyMacro\n",
    "from anypytools.macro_commads import (MacroCommand, Load, SetValue, SetValue_random, \n",
    "                                      Dump, SaveDesign, LoadDesign, SaveValues,\n",
    "                                      LoadValues, UpdateValues, OperationRun)"
   ]
  },
  {
   "cell_type": "markdown",
   "metadata": {},
   "source": [
    "The `MacroGenerator` class has methods for generating many of the standard AnyScipt macro commands.\n",
    "\n",
    "- `Load(mainfile, defines, paths)`: load command\n",
    "- `OperationRun(var)`: select operation and run  \n",
    "- `Dump(var)`: classoperation \"Dump\"\n",
    "- `LoadDesign(var, filename)`: classoperation \"Load design\" \n",
    "- `SaveDesign(var, filename)`: classoperation \"Save design\" \n",
    "- `LoadValues(filename)`: classoperation Main \"Load Values\" \n",
    "- `SaveValues(filename)`: classoperation Main \"Save Values\"\n",
    "- `UpdateValues()`: classoperation \"Update Values\"\n",
    "- `SetValue(var,value)`: classoperation \"Set Value\" \n",
    "- `MacroCommand(macro_string)`: Add abitrary macro string"
   ]
  },
  {
   "cell_type": "markdown",
   "metadata": {},
   "source": [
    "## Generate a macro"
   ]
  },
  {
   "cell_type": "markdown",
   "metadata": {},
   "source": [
    "This following example show how to construct a very simple macro:"
   ]
  },
  {
   "cell_type": "code",
   "execution_count": 21,
   "metadata": {
    "collapsed": false
   },
   "outputs": [
    {
     "data": {
      "text/plain": [
       "[[u'load \"Knee.any\"',\n",
       "  u'operation Main.MyStudy.InverseDynamics',\n",
       "  u'run',\n",
       "  u'classoperation Main.MyStudy.Output.MaxMuscleActivity \"Dump\"']]"
      ]
     },
     "execution_count": 21,
     "metadata": {},
     "output_type": "execute_result"
    }
   ],
   "source": [
    "mcr = [Load('Knee.any'),\n",
    "       OperationRun('Main.MyStudy.InverseDynamics'),\n",
    "       Dump('Main.MyStudy.Output.MaxMuscleActivity')]\n",
    "mg = AnyMacro(mcr)\n",
    "macro_list = mg.create_macros()\n",
    "macro_list"
   ]
  },
  {
   "cell_type": "markdown",
   "metadata": {},
   "source": [
    "We use the AnyPyProcess class to launch the macro"
   ]
  },
  {
   "cell_type": "code",
   "execution_count": 22,
   "metadata": {
    "collapsed": false
   },
   "outputs": [
    {
     "name": "stdout",
     "output_type": "stream",
     "text": [
      "[****************100%******************]  1 of 1 complete"
     ]
    },
    {
     "data": {
      "text/html": [
       "<pre>Total time: 0.8 seconds</pre>"
      ],
      "text/plain": [
       "<IPython.core.display.HTML object>"
      ]
     },
     "metadata": {},
     "output_type": "display_data"
    }
   ],
   "source": [
    "from anypytools.abcutils import AnyPyProcess \n",
    "app = AnyPyProcess()\n",
    "\n",
    "output = app.start_macro( macro )"
   ]
  },
  {
   "cell_type": "markdown",
   "metadata": {},
   "source": [
    "## Creating many macros"
   ]
  },
  {
   "cell_type": "markdown",
   "metadata": {},
   "source": [
    "The former macro could easily have been written manually. In some cases we want to create many macros. Then it is an big advantage to generate them programmatically. \n",
    "\n",
    "The `MacroGenerator` class have an argument which specifies how many macros to generate."
   ]
  },
  {
   "cell_type": "code",
   "execution_count": 23,
   "metadata": {
    "collapsed": false
   },
   "outputs": [
    {
     "data": {
      "text/plain": [
       "[[u'load \"Knee.any\"', u'operation Main.MyStudy.InverseDynamics', u'run'],\n",
       " [u'load \"Knee.any\"', u'operation Main.MyStudy.InverseDynamics', u'run'],\n",
       " [u'load \"Knee.any\"', u'operation Main.MyStudy.InverseDynamics', u'run'],\n",
       " [u'load \"Knee.any\"', u'operation Main.MyStudy.InverseDynamics', u'run'],\n",
       " [u'load \"Knee.any\"', u'operation Main.MyStudy.InverseDynamics', u'run']]"
      ]
     },
     "execution_count": 23,
     "metadata": {},
     "output_type": "execute_result"
    }
   ],
   "source": [
    "mg = AnyMacro( Load('Knee.any') ,\n",
    "               OperationRun('Main.MyStudy.InverseDynamics') )\n",
    "macro_list = mg.create_macros(5)\n",
    "macro_list"
   ]
  },
  {
   "cell_type": "markdown",
   "metadata": {},
   "source": [
    "This list of macros can also be passed to the 'start_macro' function to executed in parallel. "
   ]
  },
  {
   "cell_type": "code",
   "execution_count": 15,
   "metadata": {
    "collapsed": false
   },
   "outputs": [
    {
     "name": "stdout",
     "output_type": "stream",
     "text": [
      "[****************100%******************]  5 of 5 complete"
     ]
    },
    {
     "data": {
      "text/html": [
       "<pre>Total time: 1.3 seconds</pre>"
      ],
      "text/plain": [
       "<IPython.core.display.HTML object>"
      ]
     },
     "metadata": {},
     "output_type": "display_data"
    }
   ],
   "source": [
    "output = app.start_macro( macro_list )"
   ]
  },
  {
   "cell_type": "markdown",
   "metadata": {},
   "source": [
    "This is only really usefull if the macros are different. Some methods, like `mg.add_set_value()`, accepts lists of values which is then distributed across the generated macros. \n",
    "\n",
    "Imagine a list of 5 parameters. We want to create five macros that uses these values:"
   ]
  },
  {
   "cell_type": "code",
   "execution_count": 18,
   "metadata": {
    "collapsed": false
   },
   "outputs": [
    {
     "data": {
      "text/plain": [
       "[[u'classoperation Main.MyParameter \"Set Value\" --value=\"2.2\"'],\n",
       " [u'classoperation Main.MyParameter \"Set Value\" --value=\"2.5\"'],\n",
       " [u'classoperation Main.MyParameter \"Set Value\" --value=\"2.7\"'],\n",
       " [u'classoperation Main.MyParameter \"Set Value\" --value=\"2.9\"'],\n",
       " [u'classoperation Main.MyParameter \"Set Value\" --value=\"3.1\"']]"
      ]
     },
     "execution_count": 18,
     "metadata": {},
     "output_type": "execute_result"
    }
   ],
   "source": [
    "parameter_list = [2.2, 2.5, 2.7, 2.9, 3.1]\n",
    "\n",
    "mg = AnyMacro( SetValue('Main.MyParameter',parameter_list ) )\n",
    "mg.create_macros(5)"
   ]
  },
  {
   "cell_type": "markdown",
   "metadata": {},
   "source": [
    "## A simple parameter study"
   ]
  },
  {
   "cell_type": "markdown",
   "metadata": {},
   "source": [
    "Let us combine the previous to create a parameter study. We will continue with the simplified knee model where we left of in the [previous tutorial](01 - Getting started with anypytools.ipynb#Getting-data-from-the-AnyBody-Model). The parameter study will vary the patella tendon length from 2.0cm to 8.0cm, and observe the effect on maximum muscle activity.\n",
    "\n",
    "First we create a list of patella length parameters. "
   ]
  },
  {
   "cell_type": "code",
   "execution_count": 25,
   "metadata": {
    "collapsed": false
   },
   "outputs": [
    {
     "name": "stdout",
     "output_type": "stream",
     "text": [
      "[0.02, 0.03, 0.04, 0.05, 0.06, 0.07, 0.08]\n"
     ]
    }
   ],
   "source": [
    "patella_tendon_lengths = [0.02 + i*0.01 for i in range(7)]\n",
    "print(patella_tendon_lengths)"
   ]
  },
  {
   "cell_type": "markdown",
   "metadata": {},
   "source": [
    "This list of values is addded to the macros with the `add_set_value()` method. "
   ]
  },
  {
   "cell_type": "code",
   "execution_count": 44,
   "metadata": {
    "collapsed": false
   },
   "outputs": [],
   "source": [
    "anymcr = AnyMacro(\n",
    "            Load('Knee.any'),\n",
    "            SetValue('Main.MyModel.PatellaLigament.DriverPos', patella_tendon_lengths ),\n",
    "            OperationRun('Main.MyStudy.InverseDynamics'),\n",
    "            Dump('Main.MyStudy.Output.MaxMuscleActivity'),\n",
    "            Dump('Main.MyModel.PatellaLigament.DriverPos') )  \n",
    "\n",
    "anymcr.number_of_macros = len(patella_tendon_lengths) "
   ]
  },
  {
   "cell_type": "markdown",
   "metadata": {},
   "source": [
    "We can now run the model and analyze the resulting maximum muscle activity by plotting the data in the `output` variable:"
   ]
  },
  {
   "cell_type": "code",
   "execution_count": 29,
   "metadata": {
    "collapsed": false
   },
   "outputs": [
    {
     "name": "stdout",
     "output_type": "stream",
     "text": [
      "[****************100%******************]  7 of 7 complete"
     ]
    },
    {
     "data": {
      "text/html": [
       "<pre>Total time: 1.8 seconds</pre>"
      ],
      "text/plain": [
       "<IPython.core.display.HTML object>"
      ]
     },
     "metadata": {},
     "output_type": "display_data"
    }
   ],
   "source": [
    "output = app.start_macro( anymcr )"
   ]
  },
  {
   "cell_type": "code",
   "execution_count": 31,
   "metadata": {
    "collapsed": false
   },
   "outputs": [
    {
     "data": {
      "image/png": "[encoded data removed]",
      "text/plain": [
       "<matplotlib.figure.Figure at 0x139e7860>"
      ]
     },
     "metadata": {},
     "output_type": "display_data"
    }
   ],
   "source": [
    "%matplotlib inline\n",
    "import matplotlib.pyplot as plt\n",
    "\n",
    "for data in output:\n",
    "    maxact = data['Main.MyStudy.Output.MaxMuscleActivity']\n",
    "    patella_length = data['Main.MyModel.PatellaLigament.DriverPos'][0]\n",
    "    plt.plot(maxact, label='{:.1f} cm'.format(100*patella_length) )\n",
    "\n",
    "plt.title('Effect of changing patella tendon length')    \n",
    "plt.xlabel('Time steps')\n",
    "plt.ylabel('Max muscle activity')\n",
    "plt.legend(bbox_to_anchor=(1.05, 1), loc=2);"
   ]
  },
  {
   "cell_type": "code",
   "execution_count": null,
   "metadata": {
    "collapsed": true
   },
   "outputs": [],
   "source": []
  }
 ],
 "metadata": {
  "kernelspec": {
   "display_name": "Python 2",
   "language": "python",
   "name": "python2"
  },
  "language_info": {
   "codemirror_mode": {
    "name": "ipython",
    "version": 2
   },
   "file_extension": ".py",
   "mimetype": "text/x-python",
   "name": "python",
   "nbconvert_exporter": "python",
   "pygments_lexer": "ipython2",
   "version": "2.7.9"
  }
 },
 "nbformat": 4,
 "nbformat_minor": 0
}
