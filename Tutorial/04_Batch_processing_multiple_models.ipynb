{
 "cells": [
  {
   "cell_type": "markdown",
   "metadata": {},
   "source": [
    "# Batch processing"
   ]
  },
  {
   "cell_type": "markdown",
   "metadata": {},
   "source": [
    "The approach to batch processing depends on the structure of the anybody model. A commonly used strategy is a single anyscript main file. The main file is then loaded with different define statements to set the trial name, subject id or other parameters. This strategy for batch processing is outlined on the [anyscript.org wiki page](http://wiki.anyscript.org/index.php/Running_several_files_as_batch).\n",
    "\n",
    "Another strategy is to have a separate main file for each trial. These individual main-files hold all trial-specific data and include a base model that is common to all trials and subjects. The approach makes it much easier to work with mocap models that have many subject or hundreds of trials. \n",
    "\n",
    "The following shows how to use the AnyPyTools to support the different strategies for batch processing. \n"
   ]
  },
  {
   "cell_type": "markdown",
   "metadata": {},
   "source": [
    "## A single model "
   ]
  },
  {
   "cell_type": "markdown",
   "metadata": {},
   "source": [
    "to come..."
   ]
  },
  {
   "cell_type": "markdown",
   "metadata": {},
   "source": [
    "## Model with many main files"
   ]
  },
  {
   "cell_type": "markdown",
   "metadata": {},
   "source": [
    "This [example model](Tutorial%20files/BatchProcess) [(zip)](https://dl.dropboxusercontent.com/u/1683635/store/BatchProcessExample.zip) illustrates the concept of a single model with many main files. The model is based on the Arm2D demo from the AnyBody tutorials. The main files are located in subfolders (`model1`-`model9`). "
   ]
  },
  {
   "cell_type": "code",
   "execution_count": 1,
   "metadata": {
    "collapsed": false
   },
   "outputs": [
    {
     "name": "stdout",
     "output_type": "stream",
     "text": [
      " Volume in drive E is Storage-1\n",
      " Volume Serial Number is CC3F-B372\n",
      "\n",
      " Directory of E:\\Users\\MEL\\GitHub\\AnyPyTools\\Tutorial\\Tutorial files\\BatchProcess\n",
      "\n",
      "[.]               [model2]          [model7]          [__pycache__]\n",
      "[..]              [model3]          [model8]          \n",
      "batchprocess.py   [model4]          [model9]          \n",
      "Demo.Arm2D.any    [model5]          [Output]          \n",
      "[model1]          [model6]          RunExample.bat    \n",
      "               3 File(s)         10,904 bytes\n",
      "              13 Dir(s)  1,623,485,870,080 bytes free\n"
     ]
    }
   ],
   "source": [
    "!dir /d  \"Tutorial files/BatchProcess\""
   ]
  },
  {
   "cell_type": "code",
   "execution_count": 2,
   "metadata": {
    "collapsed": false
   },
   "outputs": [
    {
     "name": "stdout",
     "output_type": "stream",
     "text": [
      "E:\\Users\\MEL\\GitHub\\AnyPyTools\\Tutorial\\Tutorial files\\BatchProcess\\model1\\main.any\n",
      "E:\\Users\\MEL\\GitHub\\AnyPyTools\\Tutorial\\Tutorial files\\BatchProcess\\model2\\main.any\n",
      "E:\\Users\\MEL\\GitHub\\AnyPyTools\\Tutorial\\Tutorial files\\BatchProcess\\model3\\main.any\n",
      "E:\\Users\\MEL\\GitHub\\AnyPyTools\\Tutorial\\Tutorial files\\BatchProcess\\model4\\main.any\n",
      "E:\\Users\\MEL\\GitHub\\AnyPyTools\\Tutorial\\Tutorial files\\BatchProcess\\model5\\main.any\n",
      "E:\\Users\\MEL\\GitHub\\AnyPyTools\\Tutorial\\Tutorial files\\BatchProcess\\model6\\main.any\n",
      "E:\\Users\\MEL\\GitHub\\AnyPyTools\\Tutorial\\Tutorial files\\BatchProcess\\model7\\main.any\n",
      "E:\\Users\\MEL\\GitHub\\AnyPyTools\\Tutorial\\Tutorial files\\BatchProcess\\model8\\main.any\n",
      "E:\\Users\\MEL\\GitHub\\AnyPyTools\\Tutorial\\Tutorial files\\BatchProcess\\model9\\main.any\n"
     ]
    }
   ],
   "source": [
    "!dir /s /b \"main.any\""
   ]
  },
  {
   "cell_type": "markdown",
   "metadata": {},
   "source": [
    "Each of main files `main.any` has it own set of parameters, and they all include the same common fiile `Demo.Arm2D.any`. "
   ]
  },
  {
   "cell_type": "code",
   "execution_count": 3,
   "metadata": {
    "collapsed": false
   },
   "outputs": [
    {
     "name": "stdout",
     "output_type": "stream",
     "text": [
      "[****************100%******************]  9 of 9 complete"
     ]
    },
    {
     "data": {
      "text/html": [
       "<pre>Total time: 1.6 seconds</pre>"
      ],
      "text/plain": [
       "<IPython.core.display.HTML object>"
      ]
     },
     "metadata": {},
     "output_type": "display_data"
    }
   ],
   "source": [
    "from anypytools.abcutils import AnyPyProcess\n",
    "\n",
    "folderlist = [\"Tutorial files/BatchProcess\"]\n",
    "app = AnyPyProcess(num_processes = 3)\n",
    "macrolist = [['load \"main.any\"',\n",
    "              'operation Main.Study.InverseDynamics',\n",
    "              'run',\n",
    "              'exit']]\n",
    "\n",
    "app.start_macro(macrolist, folderlist, search_subdirs= \"model[1-9].*main.any\" );"
   ]
  }
 ],
 "metadata": {
  "kernelspec": {
   "display_name": "Python 2",
   "language": "python",
   "name": "python2"
  },
  "language_info": {
   "codemirror_mode": {
    "name": "ipython",
    "version": 2
   },
   "file_extension": ".py",
   "mimetype": "text/x-python",
   "name": "python",
   "nbconvert_exporter": "python",
   "pygments_lexer": "ipython2",
   "version": "2.7.9"
  }
 },
 "nbformat": 4,
 "nbformat_minor": 0
}
