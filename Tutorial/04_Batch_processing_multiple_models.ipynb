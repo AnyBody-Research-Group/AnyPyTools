{
 "metadata": {
  "name": "",
  "signature": "sha256:634ab9994995f12af75ad4c7e35e780faf598c37d116d8a3b247f1f031e4eb3f"
 },
 "nbformat": 3,
 "nbformat_minor": 0,
 "worksheets": [
  {
   "cells": [
    {
     "cell_type": "heading",
     "level": 1,
     "metadata": {},
     "source": [
      "Batch processing"
     ]
    },
    {
     "cell_type": "markdown",
     "metadata": {},
     "source": [
      "The approach to batch processing depends on the structure of the anybody model. A commonly used strategy is a single anyscript main file. The main file is then loaded with different define statements to set the trial, subject or other parameters. This is the approach which is outlined on the [anyscript.org wiki page](http://wiki.anyscript.org/index.php/Running_several_files_as_batch).\n",
      "\n",
      "Another strategy is to have a separate main file for each trial. These indivudual main files hold all trial specific data and includes a base model which is common to all trials and subjects. This is makes it much easier to work with mocap models which have many subject or hundres of trials. \n",
      "\n",
      "The following shows how to use the AnyPyTools to support the different strategies for batch processing. "
     ]
    },
    {
     "cell_type": "heading",
     "level": 2,
     "metadata": {},
     "source": [
      "A single model "
     ]
    },
    {
     "cell_type": "markdown",
     "metadata": {},
     "source": [
      "to come..."
     ]
    },
    {
     "cell_type": "heading",
     "level": 2,
     "metadata": {},
     "source": [
      "Single model with many main files"
     ]
    },
    {
     "cell_type": "markdown",
     "metadata": {},
     "source": [
      "This [example model](Tutorial%20files/BatchProcess) [(zip)](https://dl.dropboxusercontent.com/u/1683635/store/BatchProcessExample.zip) illustrates the concept of a single model with many main files. The model is based on the Arm2D demo from the AnyBody tutorials. The main files are located in subfolders (`model1`-`model9`). "
     ]
    },
    {
     "cell_type": "code",
     "collapsed": false,
     "input": [
      "!dir /d  \"Tutorial files/BatchProcess\""
     ],
     "language": "python",
     "metadata": {},
     "outputs": [
      {
       "output_type": "stream",
       "stream": "stdout",
       "text": [
        " Volume in drive D is Data\n",
        " Volume Serial Number is AEE2-E82B\n",
        "\n",
        " Directory of d:\\Users\\IPythonNotebook\\Notebooks\\Tutorial files\\BatchProcess\n",
        "\n",
        "[.]               [model1]          [model5]          [model9]\n",
        "[..]              [model2]          [model6]          [Output]\n",
        "batchprocess.py   [model3]          [model7]          RunExample.bat\n",
        "Demo.Arm2D.any    [model4]          [model8]          \n",
        "               3 File(s)         10,904 bytes\n",
        "              12 Dir(s)  600,034,177,024 bytes free\n"
       ]
      }
     ],
     "prompt_number": 30
    },
    {
     "cell_type": "code",
     "collapsed": false,
     "input": [
      "!dir /s /b \"main.any\""
     ],
     "language": "python",
     "metadata": {},
     "outputs": [
      {
       "output_type": "stream",
       "stream": "stdout",
       "text": [
        "d:\\Users\\IPythonNotebook\\Notebooks\\Tutorial files\\BatchProcess\\model1\\main.any\n",
        "d:\\Users\\IPythonNotebook\\Notebooks\\Tutorial files\\BatchProcess\\model2\\main.any\n",
        "d:\\Users\\IPythonNotebook\\Notebooks\\Tutorial files\\BatchProcess\\model3\\main.any\n",
        "d:\\Users\\IPythonNotebook\\Notebooks\\Tutorial files\\BatchProcess\\model4\\main.any\n",
        "d:\\Users\\IPythonNotebook\\Notebooks\\Tutorial files\\BatchProcess\\model5\\main.any\n",
        "d:\\Users\\IPythonNotebook\\Notebooks\\Tutorial files\\BatchProcess\\model6\\main.any\n",
        "d:\\Users\\IPythonNotebook\\Notebooks\\Tutorial files\\BatchProcess\\model7\\main.any\n",
        "d:\\Users\\IPythonNotebook\\Notebooks\\Tutorial files\\BatchProcess\\model8\\main.any\n",
        "d:\\Users\\IPythonNotebook\\Notebooks\\Tutorial files\\BatchProcess\\model9\\main.any\n"
       ]
      }
     ],
     "prompt_number": 31
    },
    {
     "cell_type": "markdown",
     "metadata": {},
     "source": [
      "Each of main files `main.any` has it own set of parameters, and they all include the same common fiile `Demo.Arm2D.any`. "
     ]
    },
    {
     "cell_type": "code",
     "collapsed": false,
     "input": [
      "from anypytools.abcutils import AnyPyProcess\n",
      "\n",
      "folderlist = [\"Tutorial files/BatchProcess\"]\n",
      "app = AnyPyProcess(num_processes = 3)\n",
      "macrolist = [['load \"main.any\"',\n",
      "              'operation Main.Study.InverseDynamics',\n",
      "              'run',\n",
      "              'exit']]\n",
      "\n",
      "app.start_macro(macrolist, folderlist, search_subdirs= \"[model[1-9].*main.any\" );"
     ],
     "language": "python",
     "metadata": {},
     "outputs": [
      {
       "output_type": "stream",
       "stream": "stdout",
       "text": [
        "\r",
        " [****************100%******************]  9 of 9 complete"
       ]
      },
      {
       "output_type": "stream",
       "stream": "stdout",
       "text": [
        "\n"
       ]
      },
      {
       "html": [
        "Total time: 12 seconds"
       ],
       "metadata": {},
       "output_type": "display_data",
       "text": [
        "<IPython.core.display.HTML at 0x9bd3a90>"
       ]
      }
     ],
     "prompt_number": 32
    }
   ],
   "metadata": {}
  }
 ]
}