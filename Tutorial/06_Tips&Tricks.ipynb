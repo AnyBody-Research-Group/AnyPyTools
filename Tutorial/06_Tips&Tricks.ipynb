{
 "metadata": {
  "name": "",
  "signature": "sha256:a090e3619479ab32c9e9a687e956584d3e02f7c9630c58d24012a3906ed14964"
 },
 "nbformat": 3,
 "nbformat_minor": 0,
 "worksheets": [
  {
   "cells": [
    {
     "cell_type": "heading",
     "level": 1,
     "metadata": {},
     "source": [
      "Tips & Trics for anypytools"
     ]
    },
    {
     "cell_type": "heading",
     "level": 2,
     "metadata": {},
     "source": [
      "Stopping and restarting simulations"
     ]
    },
    {
     "cell_type": "markdown",
     "metadata": {},
     "source": [
      "AnyPyProcess caches the simulation results. This allows us to stop the simulations, and then later restart them again."
     ]
    },
    {
     "cell_type": "code",
     "collapsed": false,
     "input": [
      "from anypytools.abcutils import AnyPyProcess \n",
      "app = AnyPyProcess(num_processes=1, return_task_info = True )\n",
      "macro = [['load \"Knee.any\"', \n",
      "          'operation Main.MyStudy.InverseDynamics',\n",
      "          'run']]*20"
     ],
     "language": "python",
     "metadata": {},
     "outputs": [],
     "prompt_number": 1
    },
    {
     "cell_type": "code",
     "collapsed": false,
     "input": [
      "app.start_macro(macro);"
     ],
     "language": "python",
     "metadata": {},
     "outputs": [
      {
       "output_type": "stream",
       "stream": "stdout",
       "text": [
        "\r",
        " [*****************90%**************    ]  18 of 20 complete"
       ]
      },
      {
       "html": [
        "<pre>Processing interrupted</pre>"
       ],
       "metadata": {},
       "output_type": "display_data",
       "text": [
        "<IPython.core.display.HTML at 0x145dbeb8>"
       ]
      },
      {
       "html": [
        "<pre>Tasks that did not complete: 2</pre>"
       ],
       "metadata": {},
       "output_type": "display_data",
       "text": [
        "<IPython.core.display.HTML at 0x9e29a90>"
       ]
      },
      {
       "html": [
        "<pre>Total time: 12.6 seconds</pre>"
       ],
       "metadata": {},
       "output_type": "display_data",
       "text": [
        "<IPython.core.display.HTML at 0x3c3aeb8>"
       ]
      }
     ],
     "prompt_number": 2
    },
    {
     "cell_type": "markdown",
     "metadata": {},
     "source": [
      "Here we stopped the simulation using the Notebook interrupt button. Calling the `start_macro()` function again continues the processing and re-run any task that wasn't completed in the first run and any task that exited with errors. "
     ]
    },
    {
     "cell_type": "code",
     "collapsed": false,
     "input": [
      "app.start_macro(macro);"
     ],
     "language": "python",
     "metadata": {},
     "outputs": [
      {
       "output_type": "stream",
       "stream": "stdout",
       "text": [
        "\r",
        " [****************100%******************]  20 of 20 complete"
       ]
      },
      {
       "html": [
        "<pre>Total time: 1.5 seconds</pre>"
       ],
       "metadata": {},
       "output_type": "display_data",
       "text": [
        "<IPython.core.display.HTML at 0x145dbef0>"
       ]
      }
     ],
     "prompt_number": 3
    },
    {
     "cell_type": "markdown",
     "metadata": {},
     "source": [
      "Note: That changing the input arguments `start_macro` or re-instanciating the the `app` object will erase the cache and re-run all processes. "
     ]
    },
    {
     "cell_type": "heading",
     "level": 2,
     "metadata": {},
     "source": [
      "Including meta-information in the output"
     ]
    },
    {
     "cell_type": "markdown",
     "metadata": {},
     "source": [
      "The typical behaviour of `start_macro()` is to only return variables 'dump'ed by the macro commands. "
     ]
    },
    {
     "cell_type": "code",
     "collapsed": false,
     "input": [
      "from anypytools.abcutils import AnyPyProcess \n",
      "\n",
      "app = AnyPyProcess()\n",
      "macro = [['load \"Knee.any\" -def N_STEP=\"10\"', \n",
      "          'operation Main.MyStudy.InverseDynamics',\n",
      "          'classoperation Main.MyStudy.Output.MaxMuscleActivity \"Dump\"',\n",
      "          'run']]\n",
      "app.start_macro(macro)"
     ],
     "language": "python",
     "metadata": {},
     "outputs": [
      {
       "output_type": "stream",
       "stream": "stdout",
       "text": [
        "\r",
        " [****************100%******************]  1 of 1 complete"
       ]
      },
      {
       "html": [
        "<pre>Total time: 0.7 seconds</pre>"
       ],
       "metadata": {},
       "output_type": "display_data",
       "text": [
        "<IPython.core.display.HTML at 0x46e0f60>"
       ]
      },
      {
       "metadata": {},
       "output_type": "pyout",
       "prompt_number": 4,
       "text": [
        "[{'Main.MyStudy.Output.MaxMuscleActivity': array([0, 0, 0, 0, 0, 0, 0, 0, 0, 0])}]"
       ]
      }
     ],
     "prompt_number": 4
    },
    {
     "cell_type": "markdown",
     "metadata": {},
     "source": [
      "To get more informatin about the tasks, we can set `return_task_info` flag. "
     ]
    },
    {
     "cell_type": "code",
     "collapsed": false,
     "input": [
      "from anypytools.abcutils import AnyPyProcess \n",
      "\n",
      "app = AnyPyProcess(return_task_info = True)\n",
      "macro = [['load \"Knee.any\" -def N_STEP=\"10\"', \n",
      "          'operation Main.MyStudy.InverseDynamics',\n",
      "          'classoperation Main.MyStudy.Output.MaxMuscleActivity \"Dump\"',\n",
      "          'run']]\n",
      "app.start_macro(macro) "
     ],
     "language": "python",
     "metadata": {},
     "outputs": [
      {
       "output_type": "stream",
       "stream": "stdout",
       "text": [
        "\r",
        " [****************100%******************]  1 of 1 complete"
       ]
      },
      {
       "html": [
        "<pre>Total time: 0.7 seconds</pre>"
       ],
       "metadata": {},
       "output_type": "display_data",
       "text": [
        "<IPython.core.display.HTML at 0x145db860>"
       ]
      },
      {
       "metadata": {},
       "output_type": "pyout",
       "prompt_number": 5,
       "text": [
        "[{'Main.MyStudy.Output.MaxMuscleActivity': array([0, 0, 0, 0, 0, 0, 0, 0, 0, 0]),\n",
        "  u'task_id': 0,\n",
        "  u'task_logfile': u'',\n",
        "  u'task_macro': ['load \"Knee.any\" -def N_STEP=\"10\"',\n",
        "                  'operation Main.MyStudy.InverseDynamics',\n",
        "                  'classoperation Main.MyStudy.Output.MaxMuscleActivity \"Dump\"',\n",
        "                  'run'],\n",
        "  u'task_macro_hash': 2122630419,\n",
        "  u'task_name': 'AnyPyTools/Tutorial_0',\n",
        "  u'task_processtime': 0.7078005505879474,\n",
        "  u'task_work_dir': 'E:\\\\Users\\\\MEL\\\\GitHub\\\\AnyPyTools\\\\Tutorial'}]"
       ]
      }
     ],
     "prompt_number": 5
    },
    {
     "cell_type": "markdown",
     "metadata": {},
     "source": [
      "That returns extra meta information about the processing and the macros... "
     ]
    },
    {
     "cell_type": "heading",
     "level": 2,
     "metadata": {},
     "source": [
      "Saving output to re-process at a later time"
     ]
    },
    {
     "cell_type": "markdown",
     "metadata": {},
     "source": [
      "Saving data with 'extra' task information, gives some extra options. The output from `start_macro` can be used as input to restart the same processing even if the AnyPyProcess have no cached results. "
     ]
    },
    {
     "cell_type": "code",
     "collapsed": false,
     "input": [
      "from anypytools.abcutils import AnyPyProcess \n",
      "\n",
      "app = AnyPyProcess(return_task_info = True)\n",
      "macro = [['load \"Knee.any\" -def N_STEP=\"10\"', \n",
      "          'operation Main.MyStudy.InverseDynamics',\n",
      "          'classoperation Main.MyStudy.Output.MaxMuscleActivity \"Dump\"',\n",
      "          'run']]\n",
      "output = app.start_macro(macro) "
     ],
     "language": "python",
     "metadata": {},
     "outputs": [
      {
       "output_type": "stream",
       "stream": "stdout",
       "text": [
        "\r",
        " [****************100%******************]  1 of 1 complete"
       ]
      },
      {
       "html": [
        "<pre>Total time: 0.7 seconds</pre>"
       ],
       "metadata": {},
       "output_type": "display_data",
       "text": [
        "<IPython.core.display.HTML at 0x145db7b8>"
       ]
      }
     ],
     "prompt_number": 6
    },
    {
     "cell_type": "code",
     "collapsed": false,
     "input": [
      "app = AnyPyProcess()\n",
      "app.start_macro(output)"
     ],
     "language": "python",
     "metadata": {},
     "outputs": [
      {
       "output_type": "stream",
       "stream": "stdout",
       "text": [
        "\r",
        " [****************100%******************]  1 of 1 complete"
       ]
      },
      {
       "html": [
        "<pre>Total time: 0.0 seconds</pre>"
       ],
       "metadata": {},
       "output_type": "display_data",
       "text": [
        "<IPython.core.display.HTML at 0x1f38be0>"
       ]
      },
      {
       "metadata": {},
       "output_type": "pyout",
       "prompt_number": 7,
       "text": [
        "[{'Main.MyStudy.Output.MaxMuscleActivity': array([0, 0, 0, 0, 0, 0, 0, 0, 0, 0]),\n",
        "  u'task_id': 0,\n",
        "  u'task_logfile': u'',\n",
        "  u'task_macro': ['load \"Knee.any\" -def N_STEP=\"10\"',\n",
        "                  'operation Main.MyStudy.InverseDynamics',\n",
        "                  'classoperation Main.MyStudy.Output.MaxMuscleActivity \"Dump\"',\n",
        "                  'run'],\n",
        "  u'task_macro_hash': 2122630419,\n",
        "  u'task_name': 'AnyPyTools/Tutorial_0',\n",
        "  u'task_processtime': 0.7066754388687713,\n",
        "  u'task_work_dir': 'E:\\\\Users\\\\MEL\\\\GitHub\\\\AnyPyTools\\\\Tutorial'}]"
       ]
      }
     ],
     "prompt_number": 7
    },
    {
     "cell_type": "markdown",
     "metadata": {},
     "source": [
      "The effect is that the result of an analysis can be saved to files and later restarted.  The next example illustrates this."
     ]
    },
    {
     "cell_type": "heading",
     "level": 2,
     "metadata": {},
     "source": [
      "Example: Saving data to disk while running"
     ]
    },
    {
     "cell_type": "code",
     "collapsed": false,
     "input": [
      "import shelve\n",
      "from anypytools.abcutils import AnyPyProcess\n",
      "from anypytools.generate_macros import MonteCarloMacroGenerator"
     ],
     "language": "python",
     "metadata": {},
     "outputs": [],
     "prompt_number": 8
    },
    {
     "cell_type": "code",
     "collapsed": false,
     "input": [
      "app = AnyPyProcess(return_task_info=True, disp=False)\n",
      "mg = MonteCarloMacroGenerator(number_of_macros = 500)\n",
      "mg.add_load('knee.any', define_kw = {'N_STEP':20})\n",
      "mg.add_set_value_random_norm('Main.MyModel.Tibia.Knee.sRel', means= [0, 0.18, 0], stdvs = [0.005, 0.005, 0.005]  )\n",
      "mg.add_set_value_random_norm('Main.MyModel.Femur.Knee.sRel', means= [0, -0.3, 0], stdvs = [0.005, 0.005, 0.005]   )\n",
      "\n",
      "mg.add_run_operation('Main.MyStudy.InverseDynamics')\n",
      "mg.add_dump('Main.MyStudy.Output.MaxMuscleActivity')\n",
      "\n",
      "for macros in mg.generate_macros(batch_size=40):\n",
      "    result = app.start_macro(macros)\n",
      "    \n",
      "    db = shelve.open('data.db', writeback=True)\n",
      "    if 'result' not in db:\n",
      "        db['result'] = result\n",
      "    else:\n",
      "        db['result'].extend(result)\n",
      "    print('Saving data...')\n",
      "    db.close()\n",
      "    \n",
      "    "
     ],
     "language": "python",
     "metadata": {},
     "outputs": [
      {
       "output_type": "stream",
       "stream": "stdout",
       "text": [
        "Saving data...\n",
        "Saving data..."
       ]
      },
      {
       "output_type": "stream",
       "stream": "stdout",
       "text": [
        "\n",
        "Saving data..."
       ]
      },
      {
       "output_type": "stream",
       "stream": "stdout",
       "text": [
        "\n",
        "Saving data..."
       ]
      },
      {
       "output_type": "stream",
       "stream": "stdout",
       "text": [
        "\n",
        "Saving data..."
       ]
      },
      {
       "output_type": "stream",
       "stream": "stdout",
       "text": [
        "\n",
        "Saving data..."
       ]
      },
      {
       "output_type": "stream",
       "stream": "stdout",
       "text": [
        "\n",
        "Saving data..."
       ]
      },
      {
       "output_type": "stream",
       "stream": "stdout",
       "text": [
        "\n",
        "Saving data..."
       ]
      },
      {
       "output_type": "stream",
       "stream": "stdout",
       "text": [
        "\n",
        "Saving data..."
       ]
      },
      {
       "output_type": "stream",
       "stream": "stdout",
       "text": [
        "\n",
        "Saving data..."
       ]
      },
      {
       "output_type": "stream",
       "stream": "stdout",
       "text": [
        "\n",
        "Saving data..."
       ]
      },
      {
       "output_type": "stream",
       "stream": "stdout",
       "text": [
        "\n",
        "Saving data..."
       ]
      },
      {
       "output_type": "stream",
       "stream": "stdout",
       "text": [
        "\n",
        "Saving data..."
       ]
      },
      {
       "output_type": "stream",
       "stream": "stdout",
       "text": [
        "\n"
       ]
      }
     ],
     "prompt_number": 24
    },
    {
     "cell_type": "markdown",
     "metadata": {},
     "source": [
      "All this stored data can be be reloaded "
     ]
    },
    {
     "cell_type": "code",
     "collapsed": false,
     "input": [
      "import shelve\n",
      "db = shelve.open('data.db', writeback=True)\n",
      "reloaded_results = db['result']\n",
      "db.close()\n",
      "print('Entries in file: ' + str( len(reloaded_results)) ) "
     ],
     "language": "python",
     "metadata": {},
     "outputs": [
      {
       "output_type": "stream",
       "stream": "stdout",
       "text": [
        "Entries in file: 500\n"
       ]
      }
     ],
     "prompt_number": 25
    },
    {
     "cell_type": "code",
     "collapsed": false,
     "input": [
      "reloaded_results[1:2]"
     ],
     "language": "python",
     "metadata": {},
     "outputs": [
      {
       "metadata": {},
       "output_type": "pyout",
       "prompt_number": 29,
       "text": [
        "[OrderedDict([('Main.MyStudy.Output.MaxMuscleActivity', array([0, 0, 0, 0, 0, 0, 0, 0, 0, 0, 0, 0, 0, 0, 0, 0, 0, 0, 0, 0])), (u'ERROR', [\"ERROR(OBJ.MCH.MUS4) :   E:\\\\Users\\\\MEL\\\\GitHub\\\\AnyPyTools\\\\Tutorial\\\\knee.any(210)  :   'MyStudy.InverseDynamics'  :  Muscle recruitment solver :  solver aborted after maximum number of line-search iterations\"]), (u'task_macro_hash', 1347533155), (u'task_id', 1), (u'task_work_dir', 'E:\\\\Users\\\\MEL\\\\GitHub\\\\AnyPyTools\\\\Tutorial'), (u'task_name', 'AnyPyTools/Tutorial_1'), (u'task_processtime', 0.8075934161124678), (u'task_macro', [u'load \"knee.any\" -def N_STEP=\"20\"', u'classoperation Main.MyModel.Tibia.Knee.sRel \"Set Value\" --value=\"{0.0108646938211,0.179205287545,-0.0155741753017}\"', u'classoperation Main.MyModel.Femur.Knee.sRel \"Set Value\" --value=\"{-0.0192061678123,-0.308815797012,0.00461349658304}\"', u'operation Main.MyStudy.InverseDynamics', u'run', u'classoperation Main.MyStudy.Output.MaxMuscleActivity \"Dump\"']), (u'task_logfile', u'E:\\\\Users\\\\MEL\\\\GitHub\\\\AnyPyTools\\\\Tutorial\\\\_ru89h4.log')])]"
       ]
      }
     ],
     "prompt_number": 29
    },
    {
     "cell_type": "code",
     "collapsed": false,
     "input": [],
     "language": "python",
     "metadata": {},
     "outputs": []
    }
   ],
   "metadata": {}
  }
 ]
}