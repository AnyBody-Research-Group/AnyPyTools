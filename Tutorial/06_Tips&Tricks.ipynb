{
 "metadata": {
  "name": "",
  "signature": "sha256:f6feab1a4b9ccf3cf237e87a5a084605fe0c292592bef462b3e8772e47f3e6d0"
 },
 "nbformat": 3,
 "nbformat_minor": 0,
 "worksheets": [
  {
   "cells": [
    {
     "cell_type": "heading",
     "level": 1,
     "metadata": {},
     "source": [
      "Tips & Trics for anypytools"
     ]
    },
    {
     "cell_type": "heading",
     "level": 2,
     "metadata": {},
     "source": [
      "Stopping and restarting simulations"
     ]
    },
    {
     "cell_type": "markdown",
     "metadata": {},
     "source": [
      "AnyPyProcess caches the simulation results. This allows us to stop the simulations, and then later restart them again."
     ]
    },
    {
     "cell_type": "code",
     "collapsed": false,
     "input": [
      "from anypytools.abcutils import AnyPyProcess \n",
      "app = AnyPyProcess(num_processes=1, return_task_info = True )\n",
      "macro = [['load \"Knee.any\"', \n",
      "          'operation Main.MyStudy.InverseDynamics',\n",
      "          'run']]*20"
     ],
     "language": "python",
     "metadata": {},
     "outputs": [],
     "prompt_number": 5
    },
    {
     "cell_type": "code",
     "collapsed": false,
     "input": [
      "app.start_macro(macro);"
     ],
     "language": "python",
     "metadata": {},
     "outputs": [
      {
       "output_type": "stream",
       "stream": "stdout",
       "text": [
        "\r",
        " [*****************90%**************    ]  18 of 20 complete"
       ]
      },
      {
       "html": [
        "<pre>Processing interrupted</pre>"
       ],
       "metadata": {},
       "output_type": "display_data",
       "text": [
        "<IPython.core.display.HTML at 0x3bafba8>"
       ]
      },
      {
       "html": [
        "<pre>Tasks that did not complete: 2</pre>"
       ],
       "metadata": {},
       "output_type": "display_data",
       "text": [
        "<IPython.core.display.HTML at 0x40f4e10>"
       ]
      },
      {
       "html": [
        "<pre>Total time: 15.3 seconds</pre>"
       ],
       "metadata": {},
       "output_type": "display_data",
       "text": [
        "<IPython.core.display.HTML at 0x1f38be0>"
       ]
      }
     ],
     "prompt_number": 6
    },
    {
     "cell_type": "markdown",
     "metadata": {},
     "source": [
      "Here we stopped the simulation using the Notebook interrupt button. Calling the `start_macro()` function again continues the processing and re-run any task that wasn't completed in the first run and any task that exited with errors. "
     ]
    },
    {
     "cell_type": "code",
     "collapsed": false,
     "input": [
      "app.start_macro(macro);"
     ],
     "language": "python",
     "metadata": {},
     "outputs": [
      {
       "output_type": "stream",
       "stream": "stdout",
       "text": [
        "\r",
        " [****************100%******************]  20 of 20 complete"
       ]
      },
      {
       "html": [
        "<pre>Total time: 1.6 seconds</pre>"
       ],
       "metadata": {},
       "output_type": "display_data",
       "text": [
        "<IPython.core.display.HTML at 0x3afca58>"
       ]
      }
     ],
     "prompt_number": 7
    },
    {
     "cell_type": "markdown",
     "metadata": {},
     "source": [
      "Note: That changing the input arguments `start_macro` or re-instanciating the the `app` object will erase the cache and re-run all processes. "
     ]
    },
    {
     "cell_type": "heading",
     "level": 2,
     "metadata": {},
     "source": [
      "Including meta-information in the output"
     ]
    },
    {
     "cell_type": "markdown",
     "metadata": {},
     "source": [
      "The typical behaviour of `start_macro()` is to only return variables 'dump'ed by the macro commands. "
     ]
    },
    {
     "cell_type": "code",
     "collapsed": false,
     "input": [
      "from anypytools.abcutils import AnyPyProcess \n",
      "\n",
      "app = AnyPyProcess()\n",
      "macro = [['load \"Knee.any\" -def N_STEP=\"10\"', \n",
      "          'operation Main.MyStudy.InverseDynamics',\n",
      "          'classoperation Main.MyStudy.Output.MaxMuscleActivity \"Dump\"',\n",
      "          'run']]\n",
      "app.start_macro(macro)"
     ],
     "language": "python",
     "metadata": {},
     "outputs": [
      {
       "output_type": "stream",
       "stream": "stdout",
       "text": [
        "\r",
        " [****************100%******************]  1 of 1 complete"
       ]
      },
      {
       "html": [
        "<pre>Total time: 0.7 seconds</pre>"
       ],
       "metadata": {},
       "output_type": "display_data",
       "text": [
        "<IPython.core.display.HTML at 0x19d3a240>"
       ]
      },
      {
       "metadata": {},
       "output_type": "pyout",
       "prompt_number": 1,
       "text": [
        "[{'Main.MyStudy.Output.MaxMuscleActivity': array([0, 0, 0, 0, 0, 0, 0, 0, 0, 0])}]"
       ]
      }
     ],
     "prompt_number": 1
    },
    {
     "cell_type": "markdown",
     "metadata": {},
     "source": [
      "To get more informatin about the tasks, we can set `return_task_info` flag. "
     ]
    },
    {
     "cell_type": "code",
     "collapsed": false,
     "input": [
      "from anypytools.abcutils import AnyPyProcess \n",
      "\n",
      "app = AnyPyProcess(return_task_info = True)\n",
      "macro = [['load \"Knee.any\" -def N_STEP=\"10\"', \n",
      "          'operation Main.MyStudy.InverseDynamics',\n",
      "          'classoperation Main.MyStudy.Output.MaxMuscleActivity \"Dump\"',\n",
      "          'run']]\n",
      "app.start_macro(macro) "
     ],
     "language": "python",
     "metadata": {},
     "outputs": [
      {
       "output_type": "stream",
       "stream": "stdout",
       "text": [
        "\r",
        " [****************100%******************]  1 of 1 complete"
       ]
      },
      {
       "html": [
        "<pre>Total time: 0.6 seconds</pre>"
       ],
       "metadata": {},
       "output_type": "display_data",
       "text": [
        "<IPython.core.display.HTML at 0x19d3a240>"
       ]
      },
      {
       "metadata": {},
       "output_type": "pyout",
       "prompt_number": 4,
       "text": [
        "[{'Main.MyStudy.Output.MaxMuscleActivity': array([0, 0, 0, 0, 0, 0, 0, 0, 0, 0]),\n",
        "  u'task_id': 0,\n",
        "  u'task_logfile': u'',\n",
        "  u'task_macro': ['load \"Knee.any\" -def N_STEP=\"10\"',\n",
        "                  'operation Main.MyStudy.InverseDynamics',\n",
        "                  'classoperation Main.MyStudy.Output.MaxMuscleActivity \"Dump\"',\n",
        "                  'run'],\n",
        "  u'task_macro_hash': 2122630419,\n",
        "  u'task_name': 'AnyPyTools/Tutorial_0',\n",
        "  u'task_processtime': 0.6076768074986987,\n",
        "  u'task_work_dir': 'E:\\\\Users\\\\MEL\\\\GitHub\\\\AnyPyTools\\\\Tutorial'}]"
       ]
      }
     ],
     "prompt_number": 4
    },
    {
     "cell_type": "markdown",
     "metadata": {},
     "source": [
      "That returns extra meta information about the processing and the macros... "
     ]
    },
    {
     "cell_type": "heading",
     "level": 2,
     "metadata": {},
     "source": [
      "Saving output to re-process at a later time"
     ]
    },
    {
     "cell_type": "markdown",
     "metadata": {},
     "source": [
      "Saving data with 'extra' task information, gives some extra options. The output from `start_macro` can be used as input to restart the same processing even if the AnyPyProcess have no cached results. "
     ]
    },
    {
     "cell_type": "code",
     "collapsed": false,
     "input": [
      "from anypytools.abcutils import AnyPyProcess \n",
      "\n",
      "app = AnyPyProcess(return_task_info = True)\n",
      "macro = [['load \"Knee.any\" -def N_STEP=\"10\"', \n",
      "          'operation Main.MyStudy.InverseDynamics',\n",
      "          'classoperation Main.MyStudy.Output.MaxMuscleActivity \"Dump\"',\n",
      "          'run']]\n",
      "output = app.start_macro(macro) "
     ],
     "language": "python",
     "metadata": {},
     "outputs": [
      {
       "output_type": "stream",
       "stream": "stdout",
       "text": [
        "\r",
        " [****************100%******************]  1 of 1 complete"
       ]
      },
      {
       "html": [
        "<pre>Total time: 0.9 seconds</pre>"
       ],
       "metadata": {},
       "output_type": "display_data",
       "text": [
        "<IPython.core.display.HTML at 0x1a9ba470>"
       ]
      }
     ],
     "prompt_number": 27
    },
    {
     "cell_type": "code",
     "collapsed": false,
     "input": [
      "app = AnyPyProcess()\n",
      "app.start_macro(output)"
     ],
     "language": "python",
     "metadata": {},
     "outputs": [
      {
       "output_type": "stream",
       "stream": "stdout",
       "text": [
        "\r",
        " [****************100%******************]  1 of 1 complete"
       ]
      },
      {
       "html": [
        "<pre>Total time: 0.0 seconds</pre>"
       ],
       "metadata": {},
       "output_type": "display_data",
       "text": [
        "<IPython.core.display.HTML at 0x1aa67cc0>"
       ]
      },
      {
       "metadata": {},
       "output_type": "pyout",
       "prompt_number": 28,
       "text": [
        "[{'Main.MyStudy.Output.MaxMuscleActivity': array([0, 0, 0, 0, 0, 0, 0, 0, 0, 0]),\n",
        "  u'task_id': 0,\n",
        "  u'task_logfile': u'',\n",
        "  u'task_macro': ['load \"Knee.any\" -def N_STEP=\"10\"',\n",
        "                  'operation Main.MyStudy.InverseDynamics',\n",
        "                  'classoperation Main.MyStudy.Output.MaxMuscleActivity \"Dump\"',\n",
        "                  'run'],\n",
        "  u'task_macro_hash': 2122630419,\n",
        "  u'task_name': 'AnyPyTools/Tutorial_0',\n",
        "  u'task_processtime': 0.8581511240076907,\n",
        "  u'task_work_dir': 'E:\\\\Users\\\\MEL\\\\GitHub\\\\AnyPyTools\\\\Tutorial'}]"
       ]
      }
     ],
     "prompt_number": 28
    },
    {
     "cell_type": "markdown",
     "metadata": {},
     "source": [
      "The effect is that the result of an analysis can be saved to files and later restarted.  The next example illustrates this."
     ]
    },
    {
     "cell_type": "heading",
     "level": 2,
     "metadata": {},
     "source": [
      "Example: Saving data to disk while running"
     ]
    },
    {
     "cell_type": "code",
     "collapsed": false,
     "input": [
      "import shelve\n",
      "from anypytools.abcutils import AnyPyProcess\n",
      "from anypytools.generate_macros import MacroGenerator\n",
      "\n",
      "app = AnyPyProcess(return_task_info=True, disp=False)\n",
      "mg = MacroGenerator(number_of_macros = 500)\n",
      "\n",
      "mg.add_load('knee.any', define_kw = {'N_STEP':10})\n",
      "mg.add_set_value('Main.MyModel.MyParameter', list(range(500)) )\n",
      "mg.add_run_operation('Main.MyStudy.InverseDynamics')\n",
      "\n",
      "for macros in mg.generate_macros(batch_size=40):\n",
      "    result = app.start_macro(macros)\n",
      "    \n",
      "    db = shelve.open('data.db', writeback=True)\n",
      "    if 'result' not in db:\n",
      "        db['result'] = result\n",
      "    else:\n",
      "        db['result'].extend(result)\n",
      "    print('Data stored: {:d}'.format(len(db['result'] )))\n",
      "    db.close()\n",
      "    \n",
      "    \n"
     ],
     "language": "python",
     "metadata": {},
     "outputs": [
      {
       "output_type": "stream",
       "stream": "stdout",
       "text": [
        "Data stored: 40\n",
        "Data stored: 80"
       ]
      },
      {
       "output_type": "stream",
       "stream": "stdout",
       "text": [
        "\n",
        "Data stored: 120"
       ]
      },
      {
       "output_type": "stream",
       "stream": "stdout",
       "text": [
        "\n",
        "Data stored: 160"
       ]
      },
      {
       "output_type": "stream",
       "stream": "stdout",
       "text": [
        "\n",
        "Data stored: 200"
       ]
      },
      {
       "output_type": "stream",
       "stream": "stdout",
       "text": [
        "\n",
        "Data stored: 240"
       ]
      },
      {
       "output_type": "stream",
       "stream": "stdout",
       "text": [
        "\n",
        "Data stored: 280"
       ]
      },
      {
       "output_type": "stream",
       "stream": "stdout",
       "text": [
        "\n",
        "Data stored: 320"
       ]
      },
      {
       "output_type": "stream",
       "stream": "stdout",
       "text": [
        "\n",
        "Data stored: 360"
       ]
      },
      {
       "output_type": "stream",
       "stream": "stdout",
       "text": [
        "\n",
        "Data stored: 400"
       ]
      },
      {
       "output_type": "stream",
       "stream": "stdout",
       "text": [
        "\n",
        "Data stored: 440"
       ]
      },
      {
       "output_type": "stream",
       "stream": "stdout",
       "text": [
        "\n",
        "Data stored: 480"
       ]
      },
      {
       "output_type": "stream",
       "stream": "stdout",
       "text": [
        "\n",
        "Data stored: 500"
       ]
      },
      {
       "output_type": "stream",
       "stream": "stdout",
       "text": [
        "\n"
       ]
      }
     ],
     "prompt_number": 10
    },
    {
     "cell_type": "code",
     "collapsed": false,
     "input": [
      "db = shelve.open('data.db', writeback=True)\n",
      "reloaded_results = db['result']\n",
      "db.close()\n",
      "print('Data in file: ' + str( len(reloaded_results)) ) \n",
      "reloaded_results"
     ],
     "language": "python",
     "metadata": {},
     "outputs": [
      {
       "output_type": "stream",
       "stream": "stdout",
       "text": [
        "Data in file: 500\n"
       ]
      },
      {
       "metadata": {},
       "output_type": "pyout",
       "prompt_number": 15,
       "text": [
        "[{u'task_id': 0,\n",
        "  u'task_logfile': u'',\n",
        "  u'task_macro': [u'load \"knee.any\" -def N_STEP=\"10\"',\n",
        "                  u'classoperation Main.MyModel.MyParameter \"Set Value\" --value=\"0\"',\n",
        "                  u'operation Main.MyStudy.InverseDynamics',\n",
        "                  u'run'],\n",
        "  u'task_macro_hash': 370968018,\n",
        "  u'task_name': 'AnyPyTools/Tutorial_0',\n",
        "  u'task_processtime': 0.6096182332098579,\n",
        "  u'task_work_dir': 'E:\\\\Users\\\\MEL\\\\GitHub\\\\AnyPyTools\\\\Tutorial'},\n",
        " {u'task_id': 1,\n",
        "  u'task_logfile': u'',\n",
        "  u'task_macro': [u'load \"knee.any\" -def N_STEP=\"10\"',\n",
        "                  u'classoperation Main.MyModel.MyParameter \"Set Value\" --value=\"1\"',\n",
        "                  u'operation Main.MyStudy.InverseDynamics',\n",
        "                  u'run'],\n",
        "  u'task_macro_hash': -92258471,\n",
        "  u'task_name': 'AnyPyTools/Tutorial_1',\n",
        "  u'task_processtime': 0.6112374212925715,\n",
        "  u'task_work_dir': 'E:\\\\Users\\\\MEL\\\\GitHub\\\\AnyPyTools\\\\Tutorial'},\n",
        "\n",
        "...\n",
        "\n",
        " {u'task_id': 18,\n",
        "  u'task_logfile': u'',\n",
        "  u'task_macro': [u'load \"knee.any\" -def N_STEP=\"10\"',\n",
        "                  u'classoperation Main.MyModel.MyParameter \"Set Value\" --value=\"498\"',\n",
        "                  u'operation Main.MyStudy.InverseDynamics',\n",
        "                  u'run'],\n",
        "  u'task_macro_hash': -1271862139,\n",
        "  u'task_name': 'AnyPyTools/Tutorial_18',\n",
        "  u'task_processtime': 0.6189500045279601,\n",
        "  u'task_work_dir': 'E:\\\\Users\\\\MEL\\\\GitHub\\\\AnyPyTools\\\\Tutorial'},\n",
        " {u'task_id': 19,\n",
        "  u'task_logfile': u'',\n",
        "  u'task_macro': [u'load \"knee.any\" -def N_STEP=\"10\"',\n",
        "                  u'classoperation Main.MyModel.MyParameter \"Set Value\" --value=\"499\"',\n",
        "                  u'operation Main.MyStudy.InverseDynamics',\n",
        "                  u'run'],\n",
        "  u'task_macro_hash': -1406892238,\n",
        "  u'task_name': 'AnyPyTools/Tutorial_19',\n",
        "  u'task_processtime': 0.7220836454641812,\n",
        "  u'task_work_dir': 'E:\\\\Users\\\\MEL\\\\GitHub\\\\AnyPyTools\\\\Tutorial'}]"
       ]
      }
     ],
     "prompt_number": 15
    },
    {
     "cell_type": "code",
     "collapsed": false,
     "input": [],
     "language": "python",
     "metadata": {},
     "outputs": []
    }
   ],
   "metadata": {}
  }
 ]
}