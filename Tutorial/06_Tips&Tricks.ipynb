{
 "cells": [
  {
   "cell_type": "markdown",
   "metadata": {},
   "source": [
    "# Tips & Trics for anypytools"
   ]
  },
  {
   "cell_type": "markdown",
   "metadata": {},
   "source": [
    "## Stopping and restarting simulations"
   ]
  },
  {
   "cell_type": "markdown",
   "metadata": {},
   "source": [
    "AnyPyProcess caches the simulation results. This allows us to stop the simulations, and then later restart them again."
   ]
  },
  {
   "cell_type": "code",
   "execution_count": 12,
   "metadata": {
    "collapsed": false
   },
   "outputs": [],
   "source": [
    "from anypytools.abcutils import AnyPyProcess \n",
    "app = AnyPyProcess(num_processes=1, return_task_info = True )\n",
    "macro = [['load \"Knee.any\"', \n",
    "          'operation Main.MyStudy.InverseDynamics',\n",
    "          'run']]*20"
   ]
  },
  {
   "cell_type": "code",
   "execution_count": 13,
   "metadata": {
    "collapsed": false
   },
   "outputs": [
    {
     "name": "stdout",
     "output_type": "stream",
     "text": [
      "\r",
      " [*****************85%************      ]  17 of 20 complete"
     ]
    },
    {
     "data": {
      "text/html": [
       "<pre>Processing interrupted</pre>"
      ],
      "text/plain": [
       "<IPython.core.display.HTML object>"
      ]
     },
     "metadata": {},
     "output_type": "display_data"
    },
    {
     "data": {
      "text/html": [
       "<pre>Tasks that did not complete: 3</pre>"
      ],
      "text/plain": [
       "<IPython.core.display.HTML object>"
      ]
     },
     "metadata": {},
     "output_type": "display_data"
    },
    {
     "data": {
      "text/html": [
       "<pre>Total time: 9.3 seconds</pre>"
      ],
      "text/plain": [
       "<IPython.core.display.HTML object>"
      ]
     },
     "metadata": {},
     "output_type": "display_data"
    }
   ],
   "source": [
    "app.start_macro(macro);"
   ]
  },
  {
   "cell_type": "markdown",
   "metadata": {},
   "source": [
    "Here we stopped the simulation using the Notebook interrupt button. Calling the `start_macro()` function again continues the processing and re-run any task that wasn't completed in the first run and any task that exited with errors. "
   ]
  },
  {
   "cell_type": "code",
   "execution_count": 14,
   "metadata": {
    "collapsed": false
   },
   "outputs": [
    {
     "name": "stdout",
     "output_type": "stream",
     "text": [
      "\r",
      " [****************100%******************]  20 of 20 complete"
     ]
    },
    {
     "data": {
      "text/html": [
       "<pre>Total time: 1.6 seconds</pre>"
      ],
      "text/plain": [
       "<IPython.core.display.HTML object>"
      ]
     },
     "metadata": {},
     "output_type": "display_data"
    }
   ],
   "source": [
    "app.start_macro(macro);"
   ]
  },
  {
   "cell_type": "markdown",
   "metadata": {},
   "source": [
    "Note: That changing the input arguments `start_macro` or re-instanciating the the `app` object will erase the cache and re-run all processes. "
   ]
  },
  {
   "cell_type": "markdown",
   "metadata": {},
   "source": [
    "## Including meta-information in the output"
   ]
  },
  {
   "cell_type": "markdown",
   "metadata": {},
   "source": [
    "The typical behaviour of `start_macro()` is to only return variables 'dump'ed by the macro commands. "
   ]
  },
  {
   "cell_type": "code",
   "execution_count": 15,
   "metadata": {
    "collapsed": false
   },
   "outputs": [
    {
     "name": "stdout",
     "output_type": "stream",
     "text": [
      "\r",
      " [****************100%******************]  1 of 1 complete"
     ]
    },
    {
     "data": {
      "text/html": [
       "<pre>Total time: 0.5 seconds</pre>"
      ],
      "text/plain": [
       "<IPython.core.display.HTML object>"
      ]
     },
     "metadata": {},
     "output_type": "display_data"
    },
    {
     "data": {
      "text/plain": [
       "[{'Main.MyStudy.Output.MaxMuscleActivity': array([0, 0, 0, 0, 0, 0, 0, 0, 0, 0])}]"
      ]
     },
     "execution_count": 15,
     "metadata": {},
     "output_type": "execute_result"
    }
   ],
   "source": [
    "from anypytools.abcutils import AnyPyProcess \n",
    "\n",
    "app = AnyPyProcess()\n",
    "macro = [['load \"Knee.any\" -def N_STEP=\"10\"', \n",
    "          'operation Main.MyStudy.InverseDynamics',\n",
    "          'classoperation Main.MyStudy.Output.MaxMuscleActivity \"Dump\"',\n",
    "          'run']]\n",
    "app.start_macro(macro)"
   ]
  },
  {
   "cell_type": "markdown",
   "metadata": {},
   "source": [
    "To get more informatin about the tasks, we can set `return_task_info` flag. "
   ]
  },
  {
   "cell_type": "code",
   "execution_count": 16,
   "metadata": {
    "collapsed": false
   },
   "outputs": [
    {
     "name": "stdout",
     "output_type": "stream",
     "text": [
      "\r",
      " [****************100%******************]  1 of 1 complete"
     ]
    },
    {
     "data": {
      "text/html": [
       "<pre>Total time: 0.5 seconds</pre>"
      ],
      "text/plain": [
       "<IPython.core.display.HTML object>"
      ]
     },
     "metadata": {},
     "output_type": "display_data"
    },
    {
     "data": {
      "text/plain": [
       "[{'Main.MyStudy.Output.MaxMuscleActivity': array([0, 0, 0, 0, 0, 0, 0, 0, 0, 0]),\n",
       "  u'task_id': 0,\n",
       "  u'task_logfile': u'',\n",
       "  u'task_macro': ['load \"Knee.any\" -def N_STEP=\"10\"',\n",
       "                  'operation Main.MyStudy.InverseDynamics',\n",
       "                  'classoperation Main.MyStudy.Output.MaxMuscleActivity \"Dump\"',\n",
       "                  'run'],\n",
       "  u'task_macro_hash': 2122630419,\n",
       "  u'task_name': 'AnyPyTools/Tutorial_0',\n",
       "  u'task_processtime': 0.5044194832298956,\n",
       "  u'task_work_dir': 'E:\\\\Users\\\\MEL\\\\GitHub\\\\AnyPyTools\\\\Tutorial'}]"
      ]
     },
     "execution_count": 16,
     "metadata": {},
     "output_type": "execute_result"
    }
   ],
   "source": [
    "from anypytools.abcutils import AnyPyProcess \n",
    "\n",
    "app = AnyPyProcess(return_task_info = True)\n",
    "macro = [['load \"Knee.any\" -def N_STEP=\"10\"', \n",
    "          'operation Main.MyStudy.InverseDynamics',\n",
    "          'classoperation Main.MyStudy.Output.MaxMuscleActivity \"Dump\"',\n",
    "          'run']]\n",
    "app.start_macro(macro) "
   ]
  },
  {
   "cell_type": "markdown",
   "metadata": {},
   "source": [
    "That returns extra meta information about the processing and the macros... "
   ]
  },
  {
   "cell_type": "markdown",
   "metadata": {},
   "source": [
    "## Saving output to re-process at a later time"
   ]
  },
  {
   "cell_type": "markdown",
   "metadata": {},
   "source": [
    "Saving data with 'extra' task information, gives some extra options. The output from `start_macro` can be used as input to restart the same processing even if the AnyPyProcess have no cached results. "
   ]
  },
  {
   "cell_type": "code",
   "execution_count": 17,
   "metadata": {
    "collapsed": false
   },
   "outputs": [
    {
     "name": "stdout",
     "output_type": "stream",
     "text": [
      "\r",
      " [****************100%******************]  1 of 1 complete"
     ]
    },
    {
     "data": {
      "text/html": [
       "<pre>Total time: 0.5 seconds</pre>"
      ],
      "text/plain": [
       "<IPython.core.display.HTML object>"
      ]
     },
     "metadata": {},
     "output_type": "display_data"
    }
   ],
   "source": [
    "from anypytools.abcutils import AnyPyProcess \n",
    "\n",
    "app = AnyPyProcess(return_task_info = True)\n",
    "macro = [['load \"Knee.any\" -def N_STEP=\"10\"', \n",
    "          'operation Main.MyStudy.InverseDynamics',\n",
    "          'classoperation Main.MyStudy.Output.MaxMuscleActivity \"Dump\"',\n",
    "          'run']]\n",
    "output = app.start_macro(macro) "
   ]
  },
  {
   "cell_type": "code",
   "execution_count": 18,
   "metadata": {
    "collapsed": false
   },
   "outputs": [
    {
     "name": "stdout",
     "output_type": "stream",
     "text": [
      "\r",
      " [****************100%******************]  1 of 1 complete"
     ]
    },
    {
     "data": {
      "text/html": [
       "<pre>Total time: 0.0 seconds</pre>"
      ],
      "text/plain": [
       "<IPython.core.display.HTML object>"
      ]
     },
     "metadata": {},
     "output_type": "display_data"
    },
    {
     "data": {
      "text/plain": [
       "[{'Main.MyStudy.Output.MaxMuscleActivity': array([0, 0, 0, 0, 0, 0, 0, 0, 0, 0]),\n",
       "  u'task_id': 0,\n",
       "  u'task_logfile': u'',\n",
       "  u'task_macro': ['load \"Knee.any\" -def N_STEP=\"10\"',\n",
       "                  'operation Main.MyStudy.InverseDynamics',\n",
       "                  'classoperation Main.MyStudy.Output.MaxMuscleActivity \"Dump\"',\n",
       "                  'run'],\n",
       "  u'task_macro_hash': 2122630419,\n",
       "  u'task_name': 'AnyPyTools/Tutorial_0',\n",
       "  u'task_processtime': 0.5047340406127887,\n",
       "  u'task_work_dir': 'E:\\\\Users\\\\MEL\\\\GitHub\\\\AnyPyTools\\\\Tutorial'}]"
      ]
     },
     "execution_count": 18,
     "metadata": {},
     "output_type": "execute_result"
    }
   ],
   "source": [
    "app = AnyPyProcess()\n",
    "app.start_macro(output)"
   ]
  },
  {
   "cell_type": "markdown",
   "metadata": {},
   "source": [
    "The effect is that the result of an analysis can be saved to files and later restarted.  The next example illustrates this."
   ]
  },
  {
   "cell_type": "markdown",
   "metadata": {},
   "source": [
    "## Example: Saving data to disk while running"
   ]
  },
  {
   "cell_type": "code",
   "execution_count": 19,
   "metadata": {
    "collapsed": false
   },
   "outputs": [],
   "source": [
    "import shelve\n",
    "from anypytools.abcutils import AnyPyProcess\n",
    "from anypytools.generate_macros import MonteCarloMacroGenerator"
   ]
  },
  {
   "cell_type": "code",
   "execution_count": 20,
   "metadata": {
    "collapsed": false
   },
   "outputs": [
    {
     "name": "stdout",
     "output_type": "stream",
     "text": [
      "Saving data...\n",
      "Saving data...\n",
      "Saving data...\n",
      "Saving data...\n",
      "Saving data...\n",
      "Saving data...\n",
      "Saving data...\n",
      "Saving data...\n",
      "Saving data...\n",
      "Saving data...\n",
      "Saving data...\n",
      "Saving data...\n",
      "Saving data...\n"
     ]
    }
   ],
   "source": [
    "app = AnyPyProcess(return_task_info=True, disp=False)\n",
    "mg = MonteCarloMacroGenerator(number_of_macros = 500)\n",
    "mg.add_load('knee.any', define_kw = {'N_STEP':20})\n",
    "mg.add_set_value_random_norm('Main.MyModel.Tibia.Knee.sRel', means= [0, 0.18, 0], stdvs = [0.005, 0.005, 0.005]  )\n",
    "mg.add_set_value_random_norm('Main.MyModel.Femur.Knee.sRel', means= [0, -0.3, 0], stdvs = [0.005, 0.005, 0.005]   )\n",
    "\n",
    "mg.add_run_operation('Main.MyStudy.InverseDynamics')\n",
    "mg.add_dump('Main.MyStudy.Output.MaxMuscleActivity')\n",
    "\n",
    "for macros in mg.generate_macros(batch_size=40):\n",
    "    result = app.start_macro(macros)\n",
    "    \n",
    "    db = shelve.open('data.db', writeback=True)\n",
    "    if 'result' not in db:\n",
    "        db['result'] = result\n",
    "    else:\n",
    "        db['result'].extend(result)\n",
    "    print('Saving data...')\n",
    "    db.close()\n",
    "    \n",
    "    "
   ]
  },
  {
   "cell_type": "markdown",
   "metadata": {},
   "source": [
    "All this stored data can be be reloaded "
   ]
  },
  {
   "cell_type": "code",
   "execution_count": 21,
   "metadata": {
    "collapsed": false
   },
   "outputs": [
    {
     "name": "stdout",
     "output_type": "stream",
     "text": [
      "Entries in file: 2000\n"
     ]
    }
   ],
   "source": [
    "import shelve\n",
    "db = shelve.open('data.db', writeback=True)\n",
    "reloaded_results = db['result']\n",
    "db.close()\n",
    "print('Entries in file: ' + str( len(reloaded_results)) ) "
   ]
  },
  {
   "cell_type": "code",
   "execution_count": 24,
   "metadata": {
    "collapsed": false
   },
   "outputs": [
    {
     "data": {
      "text/plain": [
       "[OrderedDict([('Main.MyStudy.Output.MaxMuscleActivity', array([ 0.01052604,  0.01518157,  0.02664641,  0.04458895,  0.06630205,\n",
       "        0.08533768,  0.09494379,  0.09671828,  0.09677461,  0.09543121,\n",
       "        0.09543133,  0.09677443,  0.09671828,  0.09494378,  0.08533768,\n",
       "        0.06630204,  0.04458895,  0.02664643,  0.01518156,  0.01052604])), (u'task_macro_hash', -967092606), (u'task_id', 9), (u'task_work_dir', 'E:\\\\Users\\\\MEL\\\\GitHub\\\\AnyPyTools\\\\Tutorial'), (u'task_name', 'AnyPyTools/Tutorial_9'), (u'task_processtime', 0.810928751564461), (u'task_macro', [u'load \"knee.any\" -def N_STEP=\"20\"', u'classoperation Main.MyModel.Tibia.Knee.sRel \"Set Value\" --value=\"{-0.00156888623586,0.174552561595,-0.0100680095499}\"', u'classoperation Main.MyModel.Femur.Knee.sRel \"Set Value\" --value=\"{0.00446287787599,-0.309774930053,0.00840877552256}\"', u'operation Main.MyStudy.InverseDynamics', u'run', u'classoperation Main.MyStudy.Output.MaxMuscleActivity \"Dump\"']), (u'task_logfile', u'')])]"
      ]
     },
     "execution_count": 24,
     "metadata": {},
     "output_type": "execute_result"
    }
   ],
   "source": [
    "reloaded_results[9:10]"
   ]
  },
  {
   "cell_type": "code",
   "execution_count": null,
   "metadata": {
    "collapsed": false
   },
   "outputs": [],
   "source": []
  }
 ],
 "metadata": {
  "kernelspec": {
   "display_name": "Python 2",
   "language": "python",
   "name": "python2"
  },
  "language_info": {
   "codemirror_mode": {
    "name": "ipython",
    "version": 2
   },
   "file_extension": ".py",
   "mimetype": "text/x-python",
   "name": "python",
   "nbconvert_exporter": "python",
   "pygments_lexer": "ipython2",
   "version": "2.7.9"
  }
 },
 "nbformat": 4,
 "nbformat_minor": 0
}
