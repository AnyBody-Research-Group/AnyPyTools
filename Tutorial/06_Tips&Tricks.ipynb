{
 "cells": [
  {
   "cell_type": "markdown",
   "metadata": {},
   "source": [
    "# Tips & Trics for anypytools"
   ]
  },
  {
   "cell_type": "markdown",
   "metadata": {},
   "source": [
    "## Stopping and restarting simulations"
   ]
  },
  {
   "cell_type": "markdown",
   "metadata": {},
   "source": [
    "AnyPyProcess caches the simulation results. This allows us to stop the simulations, and then later restart them again."
   ]
  },
  {
   "cell_type": "code",
   "execution_count": 4,
   "metadata": {
    "collapsed": false
   },
   "outputs": [],
   "source": [
    "from anypytools.abcutils import AnyPyProcess \n",
    "app = AnyPyProcess(num_processes=1, return_task_info = True )\n",
    "macro = [['load \"Knee.any\"', \n",
    "          'operation Main.MyStudy.InverseDynamics',\n",
    "          'run']]*20"
   ]
  },
  {
   "cell_type": "code",
   "execution_count": 5,
   "metadata": {
    "collapsed": false
   },
   "outputs": [
    {
     "name": "stdout",
     "output_type": "stream",
     "text": [
      "[*****************95%****************  ]  19 of 20 complete"
     ]
    },
    {
     "data": {
      "text/html": [
       "<pre>Processing interrupted</pre>"
      ],
      "text/plain": [
       "<IPython.core.display.HTML object>"
      ]
     },
     "metadata": {},
     "output_type": "display_data"
    },
    {
     "data": {
      "text/html": [
       "<pre>Tasks that did not complete: 1</pre>"
      ],
      "text/plain": [
       "<IPython.core.display.HTML object>"
      ]
     },
     "metadata": {},
     "output_type": "display_data"
    },
    {
     "data": {
      "text/html": [
       "<pre>Total time: 10.7 seconds</pre>"
      ],
      "text/plain": [
       "<IPython.core.display.HTML object>"
      ]
     },
     "metadata": {},
     "output_type": "display_data"
    }
   ],
   "source": [
    "app.start_macro(macro);"
   ]
  },
  {
   "cell_type": "markdown",
   "metadata": {},
   "source": [
    "Here we stopped the simulation using the Notebook interrupt button. Calling the `start_macro()` function again continues the processing and re-run any task that wasn't completed in the first run and any task that exited with errors. "
   ]
  },
  {
   "cell_type": "code",
   "execution_count": 6,
   "metadata": {
    "collapsed": false
   },
   "outputs": [
    {
     "name": "stdout",
     "output_type": "stream",
     "text": [
      "[****************100%******************]  20 of 20 complete"
     ]
    },
    {
     "data": {
      "text/html": [
       "<pre>Total time: 0.7 seconds</pre>"
      ],
      "text/plain": [
       "<IPython.core.display.HTML object>"
      ]
     },
     "metadata": {},
     "output_type": "display_data"
    }
   ],
   "source": [
    "app.start_macro(macro);"
   ]
  },
  {
   "cell_type": "markdown",
   "metadata": {},
   "source": [
    "Note: That changing the input arguments `start_macro` or re-instanciating the the `app` object will erase the cache and re-run all processes. "
   ]
  },
  {
   "cell_type": "markdown",
   "metadata": {},
   "source": [
    "## Including meta-information in the output"
   ]
  },
  {
   "cell_type": "markdown",
   "metadata": {},
   "source": [
    "The typical behaviour of `start_macro()` is to only return variables 'dump'ed by the macro commands. "
   ]
  },
  {
   "cell_type": "code",
   "execution_count": 7,
   "metadata": {
    "collapsed": false
   },
   "outputs": [
    {
     "name": "stdout",
     "output_type": "stream",
     "text": [
      "[****************100%******************]  1 of 1 complete"
     ]
    },
    {
     "data": {
      "text/html": [
       "<pre>Total time: 0.6 seconds</pre>"
      ],
      "text/plain": [
       "<IPython.core.display.HTML object>"
      ]
     },
     "metadata": {},
     "output_type": "display_data"
    },
    {
     "data": {
      "text/plain": [
       "[{'Main.MyStudy.Output.MaxMuscleActivity': array([0, 0, 0, 0, 0, 0, 0, 0, 0, 0])}]"
      ]
     },
     "execution_count": 7,
     "metadata": {},
     "output_type": "execute_result"
    }
   ],
   "source": [
    "from anypytools.abcutils import AnyPyProcess \n",
    "\n",
    "app = AnyPyProcess()\n",
    "macro = [['load \"Knee.any\" -def N_STEP=\"10\"', \n",
    "          'operation Main.MyStudy.InverseDynamics',\n",
    "          'classoperation Main.MyStudy.Output.MaxMuscleActivity \"Dump\"',\n",
    "          'run']]\n",
    "app.start_macro(macro)"
   ]
  },
  {
   "cell_type": "markdown",
   "metadata": {},
   "source": [
    "To get more informatin about the tasks, we can set `return_task_info` flag. "
   ]
  },
  {
   "cell_type": "code",
   "execution_count": 8,
   "metadata": {
    "collapsed": false
   },
   "outputs": [
    {
     "name": "stdout",
     "output_type": "stream",
     "text": [
      "[****************100%******************]  1 of 1 complete"
     ]
    },
    {
     "data": {
      "text/html": [
       "<pre>Total time: 0.5 seconds</pre>"
      ],
      "text/plain": [
       "<IPython.core.display.HTML object>"
      ]
     },
     "metadata": {},
     "output_type": "display_data"
    },
    {
     "data": {
      "text/plain": [
       "[{'Main.MyStudy.Output.MaxMuscleActivity': array([0, 0, 0, 0, 0, 0, 0, 0, 0, 0]),\n",
       "  u'task_id': 0,\n",
       "  u'task_logfile': u'',\n",
       "  u'task_macro': ['load \"Knee.any\" -def N_STEP=\"10\"',\n",
       "                  'operation Main.MyStudy.InverseDynamics',\n",
       "                  'classoperation Main.MyStudy.Output.MaxMuscleActivity \"Dump\"',\n",
       "                  'run'],\n",
       "  u'task_macro_hash': 2122630419,\n",
       "  u'task_name': 'AnyPyTools/Tutorial_0',\n",
       "  u'task_processtime': 0.5035255763082205,\n",
       "  u'task_work_dir': 'E:\\\\Users\\\\MEL\\\\GitHub\\\\AnyPyTools\\\\Tutorial'}]"
      ]
     },
     "execution_count": 8,
     "metadata": {},
     "output_type": "execute_result"
    }
   ],
   "source": [
    "from anypytools.abcutils import AnyPyProcess \n",
    "\n",
    "app = AnyPyProcess(return_task_info = True)\n",
    "macro = [['load \"Knee.any\" -def N_STEP=\"10\"', \n",
    "          'operation Main.MyStudy.InverseDynamics',\n",
    "          'classoperation Main.MyStudy.Output.MaxMuscleActivity \"Dump\"',\n",
    "          'run']]\n",
    "app.start_macro(macro) "
   ]
  },
  {
   "cell_type": "markdown",
   "metadata": {},
   "source": [
    "That returns extra meta information about the processing and the macros... "
   ]
  },
  {
   "cell_type": "markdown",
   "metadata": {},
   "source": [
    "## Saving output to re-process at a later time"
   ]
  },
  {
   "cell_type": "markdown",
   "metadata": {},
   "source": [
    "Saving data with 'extra' task information, gives some extra options. The output from `start_macro` can be used as input to restart the same processing even if the AnyPyProcess have no cached results. "
   ]
  },
  {
   "cell_type": "code",
   "execution_count": 9,
   "metadata": {
    "collapsed": false
   },
   "outputs": [
    {
     "name": "stdout",
     "output_type": "stream",
     "text": [
      "[****************100%******************]  1 of 1 complete"
     ]
    },
    {
     "data": {
      "text/html": [
       "<pre>Total time: 0.5 seconds</pre>"
      ],
      "text/plain": [
       "<IPython.core.display.HTML object>"
      ]
     },
     "metadata": {},
     "output_type": "display_data"
    }
   ],
   "source": [
    "from anypytools.abcutils import AnyPyProcess \n",
    "\n",
    "app = AnyPyProcess(return_task_info = True)\n",
    "macro = [['load \"Knee.any\" -def N_STEP=\"10\"', \n",
    "          'operation Main.MyStudy.InverseDynamics',\n",
    "          'classoperation Main.MyStudy.Output.MaxMuscleActivity \"Dump\"',\n",
    "          'run']]\n",
    "output = app.start_macro(macro) "
   ]
  },
  {
   "cell_type": "code",
   "execution_count": 10,
   "metadata": {
    "collapsed": false
   },
   "outputs": [
    {
     "name": "stdout",
     "output_type": "stream",
     "text": [
      "[****************100%******************]  1 of 1 complete"
     ]
    },
    {
     "data": {
      "text/html": [
       "<pre>Total time: 0.0 seconds</pre>"
      ],
      "text/plain": [
       "<IPython.core.display.HTML object>"
      ]
     },
     "metadata": {},
     "output_type": "display_data"
    },
    {
     "data": {
      "text/plain": [
       "[{'Main.MyStudy.Output.MaxMuscleActivity': array([0, 0, 0, 0, 0, 0, 0, 0, 0, 0]),\n",
       "  u'task_id': 0,\n",
       "  u'task_logfile': u'',\n",
       "  u'task_macro': ['load \"Knee.any\" -def N_STEP=\"10\"',\n",
       "                  'operation Main.MyStudy.InverseDynamics',\n",
       "                  'classoperation Main.MyStudy.Output.MaxMuscleActivity \"Dump\"',\n",
       "                  'run'],\n",
       "  u'task_macro_hash': 2122630419,\n",
       "  u'task_name': 'AnyPyTools/Tutorial_0',\n",
       "  u'task_processtime': 0.49414675933348917,\n",
       "  u'task_work_dir': 'E:\\\\Users\\\\MEL\\\\GitHub\\\\AnyPyTools\\\\Tutorial'}]"
      ]
     },
     "execution_count": 10,
     "metadata": {},
     "output_type": "execute_result"
    }
   ],
   "source": [
    "app = AnyPyProcess()\n",
    "app.start_macro(output)"
   ]
  },
  {
   "cell_type": "markdown",
   "metadata": {},
   "source": [
    "The effect is that the result of an analysis can be saved to files and later restarted.  The next example illustrates this."
   ]
  },
  {
   "cell_type": "markdown",
   "metadata": {},
   "source": [
    "## Example: Saving data to disk while running"
   ]
  },
  {
   "cell_type": "code",
   "execution_count": 11,
   "metadata": {
    "collapsed": false
   },
   "outputs": [],
   "source": [
    "import os\n",
    "from scipy.stats import distributions\n",
    "from anypytools.abcutils import AnyPyProcess, AnyMacro\n",
    "from anypytools.macro_commands import Load, SetValue_random, OperationRun, Dump"
   ]
  },
  {
   "cell_type": "code",
   "execution_count": 9,
   "metadata": {
    "collapsed": false
   },
   "outputs": [
    {
     "name": "stdout",
     "output_type": "stream",
     "text": [
      "Data saved\n",
      "Data saved\n",
      "Data saved\n",
      "Data saved\n",
      "Data saved\n",
      "Data saved\n",
      "Data saved\n",
      "Data saved\n",
      "Data saved\n",
      "Data saved\n",
      "Done\n"
     ]
    }
   ],
   "source": [
    "\n",
    "tibia_knee_srel = distributions.norm([0, 0.18, 0], [0.005, 0.005, 0.005] ) \n",
    "femur_knee_srel = distributions.norm([0, -0.3, 0], [0.005, 0.005, 0.005] ) \n",
    "\n",
    "app = AnyPyProcess(return_task_info=True, disp=False)\n",
    "mg = AnyMacro(number_of_macros = 500)\n",
    "mg.extend([\n",
    "    Load('knee.any', defs = {'N_STEP':20}),\n",
    "    SetValue_random('Main.MyModel.Tibia.Knee.sRel', tibia_knee_srel ),\n",
    "    SetValue_random('Main.MyModel.Femur.Knee.sRel',femur_knee_srel   ),\n",
    "    OperationRun('Main.MyStudy.InverseDynamics'),\n",
    "    Dump('Main.MyStudy.Output.MaxMuscleActivity')\n",
    "])\n",
    "\n",
    "try:\n",
    "    os.remove('data.db')\n",
    "except OSError:\n",
    "    pass\n",
    "\n",
    "for macros in mg.create_macros_MonteCarlo(batch_size=50):\n",
    "    app.start_macro(macros)\n",
    "    app.save_results('data.db', append=True)\n",
    "    print('Data saved')\n",
    "print('Done')"
   ]
  },
  {
   "cell_type": "markdown",
   "metadata": {},
   "source": [
    "All this stored data can be be reloaded "
   ]
  },
  {
   "cell_type": "code",
   "execution_count": 10,
   "metadata": {
    "collapsed": false
   },
   "outputs": [
    {
     "name": "stdout",
     "output_type": "stream",
     "text": [
      "Entries in file: 500\n"
     ]
    }
   ],
   "source": [
    "reloaded_results = app.load_results('data.db')\n",
    "print('Entries in file: ' + str( len(reloaded_results)) ) "
   ]
  },
  {
   "cell_type": "code",
   "execution_count": 11,
   "metadata": {
    "collapsed": false
   },
   "outputs": [
    {
     "data": {
      "text/plain": [
       "[OrderedDict([('Main.MyStudy.Output.MaxMuscleActivity', array([ 0.00920587,  0.01353814,  0.02387611,  0.03935268,  0.05729182,\n",
       "        0.07272699,  0.08093587,  0.08337751,  0.08452493,  0.08401574,\n",
       "        0.08401574,  0.08452473,  0.08337751,  0.08093587,  0.07272699,\n",
       "        0.05729181,  0.03935268,  0.02387616,  0.01353809,  0.00920586])), (u'task_macro_hash', -1740313366), (u'task_id', 6), (u'task_work_dir', 'E:\\\\Users\\\\MEL\\\\GitHub\\\\AnyPyTools\\\\Tutorial'), (u'task_name', 'AnyPyTools/Tutorial_6'), (u'task_processtime', 0.8597747023139846), (u'task_macro', [u'load \"knee.any\" -def N_STEP=\"20\"', u'classoperation Main.MyModel.Tibia.Knee.sRel \"Set Value\" --value=\"{-0.00052996237119,0.177183079897,0.00559789272645}\"', u'classoperation Main.MyModel.Femur.Knee.sRel \"Set Value\" --value=\"{0.00043910518615,-0.301532144983,-0.000926226166014}\"', u'operation Main.MyStudy.InverseDynamics', u'run', u'classoperation Main.MyStudy.Output.MaxMuscleActivity \"Dump\"']), (u'task_logfile', u'')])]"
      ]
     },
     "execution_count": 11,
     "metadata": {},
     "output_type": "execute_result"
    }
   ],
   "source": [
    "reloaded_results[456:457]"
   ]
  },
  {
   "cell_type": "code",
   "execution_count": 20,
   "metadata": {
    "collapsed": false
   },
   "outputs": [
    {
     "data": {
      "image/png": "[encoded data removed]",
      "text/plain": [
       "<matplotlib.figure.Figure at 0x150c5da0>"
      ]
     },
     "metadata": {},
     "output_type": "display_data"
    }
   ],
   "source": [
    "%matplotlib inline\n",
    "import matplotlib.pyplot as plt\n",
    "plt.plot(reloaded_results['MaxMuscleAct'].T, 'b', lw=0.2, alpha = 0.3);"
   ]
  },
  {
   "cell_type": "code",
   "execution_count": null,
   "metadata": {
    "collapsed": true
   },
   "outputs": [],
   "source": []
  }
 ],
 "metadata": {
  "kernelspec": {
   "display_name": "Python 2",
   "language": "python",
   "name": "python2"
  },
  "language_info": {
   "codemirror_mode": {
    "name": "ipython",
    "version": 2
   },
   "file_extension": ".py",
   "mimetype": "text/x-python",
   "name": "python",
   "nbconvert_exporter": "python",
   "pygments_lexer": "ipython2",
   "version": "2.7.9"
  }
 },
 "nbformat": 4,
 "nbformat_minor": 0
}
