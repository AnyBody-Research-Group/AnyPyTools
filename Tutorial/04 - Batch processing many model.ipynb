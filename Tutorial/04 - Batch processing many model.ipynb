{
 "metadata": {
  "name": "",
  "signature": "sha256:5d744759391267a8a74d95d3cc778b28e0ab2fc82d4ff35373d0b539bd00d7cd"
 },
 "nbformat": 3,
 "nbformat_minor": 0,
 "worksheets": [
  {
   "cells": [
    {
     "cell_type": "heading",
     "level": 1,
     "metadata": {},
     "source": [
      "Batch processing"
     ]
    },
    {
     "cell_type": "markdown",
     "metadata": {},
     "source": [
      "The approach to batch processing depends on the structure of the anybody model. The most commonly used strategy is a single anyscript main file which is loaded with different define statements to set the trial, subject or other parameters. This is the approach which is outlined on the [anyscript.org wiki page](http://wiki.anyscript.org/index.php/Running_several_files_as_batch), and chapter 02 of the tutorial explains how to handle this. \n",
      "\n",
      "Another strategy is to have a separate main file for each trial. These indivudual main files hold all trial specific data and includes a base model which is common to all trials and subjects. This is makes it much easier to work with mocap models which have many subject or hundres of trials. \n",
      "\n",
      "The following shows how to use the AnyPyTools to support the different strategies for batch processing. "
     ]
    },
    {
     "cell_type": "heading",
     "level": 2,
     "metadata": {},
     "source": [
      "A single model "
     ]
    },
    {
     "cell_type": "markdown",
     "metadata": {},
     "source": [
      "to come..."
     ]
    },
    {
     "cell_type": "heading",
     "level": 2,
     "metadata": {},
     "source": [
      "Single model with many main files"
     ]
    },
    {
     "cell_type": "markdown",
     "metadata": {},
     "source": [
      "This [example model](Tutorial%20files/BatchProcess) [(zip)](https://dl.dropboxusercontent.com/u/1683635/store/BatchProcessExample.zip) illustrates the concept of a single model with many main files. The model is based on the Arm2D demo from the AnyBody tutorials. The main files are located in subfolders which load the base model \"Demo.Arm2D.any\". Each main file has it own set of parameters. "
     ]
    },
    {
     "cell_type": "code",
     "collapsed": false,
     "input": [
      "!dir \"Tutorial files/BatchProcess\""
     ],
     "language": "python",
     "metadata": {},
     "outputs": [
      {
       "output_type": "stream",
       "stream": "stdout",
       "text": [
        " Volume in drive C has no label.\n",
        " Volume Serial Number is 0CB8-FC4C\n",
        "\n",
        " Directory of C:\\Users\\Morten\\Dropbox\\Software projects\\Python\\AnyPyTools\\Tutorial\\Tutorial files\\BatchProcess\n",
        "\n",
        "06-05-2014  09:23    <DIR>          .\n",
        "06-05-2014  09:23    <DIR>          ..\n",
        "13-01-2014  12:03               281 batchprocess.py\n",
        "13-01-2014  11:54            10.584 Demo.Arm2D.any\n",
        "06-05-2014  09:23    <DIR>          model1\n",
        "06-05-2014  09:23    <DIR>          model2\n",
        "06-05-2014  09:23    <DIR>          model3\n",
        "06-05-2014  09:23    <DIR>          model4\n",
        "06-05-2014  09:23    <DIR>          model5\n",
        "06-05-2014  09:23    <DIR>          model6\n",
        "06-05-2014  09:23    <DIR>          model7\n",
        "06-05-2014  09:23    <DIR>          model8\n",
        "06-05-2014  09:23    <DIR>          model9\n",
        "06-05-2014  09:23    <DIR>          Output\n",
        "13-01-2014  12:16                39 RunExample.bat\n",
        "               3 File(s)         10.904 bytes\n",
        "              12 Dir(s)   7.903.678.464 bytes free\n"
       ]
      }
     ],
     "prompt_number": 2
    },
    {
     "cell_type": "code",
     "collapsed": false,
     "input": [
      "!dir \"Tutorial files/BatchProcess/model1\""
     ],
     "language": "python",
     "metadata": {},
     "outputs": [
      {
       "output_type": "stream",
       "stream": "stdout",
       "text": [
        " Volume in drive C has no label.\n",
        " Volume Serial Number is 0CB8-FC4C\n",
        "\n",
        " Directory of C:\\Users\\Morten\\Dropbox\\Software projects\\Python\\AnyPyTools\\Tutorial\\Tutorial files\\BatchProcess\\model1\n",
        "\n",
        "06-05-2014  09:23    <DIR>          .\n",
        "06-05-2014  09:23    <DIR>          ..\n",
        "13-01-2014  12:00               127 main.any\n",
        "               1 File(s)            127 bytes\n",
        "               2 Dir(s)   7.903.789.056 bytes free\n"
       ]
      }
     ],
     "prompt_number": 3
    },
    {
     "cell_type": "code",
     "collapsed": false,
     "input": [
      "from anypytools.abcutils import AnyPyProcess\n",
      "\n",
      "folder = [\"Tutorial files/BatchProcess\"]\n",
      "app = AnyPyProcess(num_processes = 3)\n",
      "macrolist = [['load \"main.any\"',\n",
      "              'operation Main.Study.InverseDynamics',\n",
      "              'run',\n",
      "              'exit']]\n",
      "\n",
      "app.start_macro(macrolist, folder, search_subdirs= \"[model[1-9].*main.any\" );"
     ],
     "language": "python",
     "metadata": {},
     "outputs": [
      {
       "output_type": "stream",
       "stream": "stdout",
       "text": [
        "\r",
        " [****************100%******************]  9 of 9 complete"
       ]
      },
      {
       "output_type": "stream",
       "stream": "stdout",
       "text": [
        "\n"
       ]
      },
      {
       "html": [
        "Total time: 14 seconds"
       ],
       "metadata": {},
       "output_type": "display_data",
       "text": [
        "<IPython.core.display.HTML object>"
       ]
      }
     ],
     "prompt_number": 4
    }
   ],
   "metadata": {}
  }
 ]
}