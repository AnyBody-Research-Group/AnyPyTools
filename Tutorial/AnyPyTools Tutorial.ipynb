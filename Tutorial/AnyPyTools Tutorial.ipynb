{
 "metadata": {
  "name": ""
 },
 "nbformat": 3,
 "nbformat_minor": 0,
 "worksheets": [
  {
   "cells": [
    {
     "cell_type": "markdown",
     "metadata": {},
     "source": [
      "<img src=\"https://dl.dropboxusercontent.com/u/1683635/store/relax.png\" alt=\"\" align=\"right\"  style=\"height: 110px;\"/>\n",
      "\n",
      "# Using AnyBody from Python \n",
      "\n",
      "***\n",
      "\n",
      "The package **`anypytools`** has utilities and tools to work with the AnyBody Modeling System (AMS). This will allow us to do the follwing directly from python:\n",
      "\n",
      "+ Batch processing:  \n",
      "    Schedule the execution of many models in parallel. \n",
      "+ Parameter studies:   \n",
      "    Running the same model multiple times with different input and observe the response of an output variable.\n",
      "+ Perturbation studies:   \n",
      "    Finds the sensitivity of a set of output variables to small perturbations on a set of input variables. This is useful for calculating the Jacobian matrix in optimization studies.\n",
      "\n",
      "##### Requirements: Python and and AnyPyTools\n",
      "> [AnyPyTools](https://github.com/AnyBody-Research-Group/AnyPyTools) is a python library for working with the AnyBody Modeling System. An easy way to get started is to download the  Anaconda python distribution:\n",
      "> \n",
      "> - Download and install the [Anaconda python distribution](https://store.continuum.io/cshop/anaconda/)\n",
      "> \n",
      "> - After installation open the Anaconda command prompt and type:\n",
      ">\n",
      "> ``` cmd\n",
      "> conda install -c public anypytools\n",
      "> ```\n",
      "> \n",
      "> This should install the newest version of AnyPyTools. Try launching the inteactive version of this tutorial (in the Anaconda start menu) and start working with `anypytools`.\n"
     ]
    },
    {
     "cell_type": "markdown",
     "metadata": {},
     "source": [
      "##Running macros\n",
      "***\n",
      "Let us see how to run a single model. In this tutorial we will use an example model [`Knee.any`](files/knee.any), which must be placed in the current working directory.\n",
      "\n",
      "The first step is to import the appropriate class for working with the console application and create an instance of the class ``AnyPyProcess``."
     ]
    },
    {
     "cell_type": "code",
     "collapsed": false,
     "input": [
      "from anypytools.abcutils import AnyPyProcess \n",
      "app = AnyPyProcess()"
     ],
     "language": "python",
     "metadata": {},
     "outputs": [],
     "prompt_number": 4
    },
    {
     "cell_type": "markdown",
     "metadata": {},
     "source": [
      "Now we define an _AnyScript_ macro which we want to run on the model. The macro is executed by starting the `start_macro` method of the `AnyPyProcess` class"
     ]
    },
    {
     "cell_type": "code",
     "collapsed": false,
     "input": [
      "macrolist = [['load \"Knee.any\"',\n",
      "              'operation Main.MyStudy.Kinematics',\n",
      "              'run',\n",
      "              'exit']]\n",
      "\n",
      "app.start_macro(macrolist);"
     ],
     "language": "python",
     "metadata": {},
     "outputs": [
      {
       "output_type": "stream",
       "stream": "stdout",
       "text": [
        " \r",
        "[****************100%******************]  1 of 1 complete"
       ]
      },
      {
       "output_type": "stream",
       "stream": "stdout",
       "text": [
        " \n",
        "Total run time: 3 seconds\n"
       ]
      }
     ],
     "prompt_number": 5
    },
    {
     "cell_type": "markdown",
     "metadata": {},
     "source": [
      "#### Running multiple macros\n",
      "It is easy to run multiple macros by adding an extra set of macro commands to the macro list"
     ]
    },
    {
     "cell_type": "code",
     "collapsed": false,
     "input": [
      "macrolist = [['load \"Knee.any\"',\n",
      "              'operation Main.MyStudy.Kinematics',\n",
      "              'run',\n",
      "              'exit'],\n",
      "             ['load \"Knee.any\"',\n",
      "              'operation Main.MyStudy.InverseDynamics',\n",
      "              'run',\n",
      "              'exit']]\n",
      "app.start_macro(macrolist);"
     ],
     "language": "python",
     "metadata": {},
     "outputs": [
      {
       "output_type": "stream",
       "stream": "stdout",
       "text": [
        " \r",
        "[****************100%******************]  2 of 2 complete"
       ]
      },
      {
       "output_type": "stream",
       "stream": "stdout",
       "text": [
        " (Total time: 4 seconds)\n"
       ]
      }
     ],
     "prompt_number": 8
    },
    {
     "cell_type": "markdown",
     "metadata": {},
     "source": [
      "Notice, that AnyPyProcess will run the anyscript macros in parallel. Modern computers have multiple cores, but a single AnyBody instance can only utilize a single core, leaving us with a great potential for speeding things up through penalization.\n",
      "\n",
      "To test this, let us create 10 macros in a for-loop. "
     ]
    },
    {
     "cell_type": "code",
     "collapsed": false,
     "input": [
      "macrolist = []\n",
      "for i in range(15):\n",
      "    macrolist.append(['load \"Knee.any\"',              \n",
      "                      'operation Main.MyStudy.InverseDynamics',\n",
      "                      'run',\n",
      "                      'exit'] )"
     ],
     "language": "python",
     "metadata": {},
     "outputs": [],
     "prompt_number": 12
    },
    {
     "cell_type": "markdown",
     "metadata": {},
     "source": [
      "AnyPyProcess has a parameter 'num_processes' that controls the number parallel processes. Let us try a small example to see the difference in speed:"
     ]
    },
    {
     "cell_type": "code",
     "collapsed": false,
     "input": [
      "# First sequentially\n",
      "app = AnyPyProcess(num_processes = 1)\n",
      "app.start_macro(macrolist);"
     ],
     "language": "python",
     "metadata": {},
     "outputs": [
      {
       "output_type": "stream",
       "stream": "stdout",
       "text": [
        " \r",
        "[****************100%******************]  15 of 15 complete"
       ]
      },
      {
       "output_type": "stream",
       "stream": "stdout",
       "text": [
        " (Total time: 60 seconds)\n"
       ]
      }
     ],
     "prompt_number": 10
    },
    {
     "cell_type": "code",
     "collapsed": false,
     "input": [
      "#Then with parallization\n",
      "app = AnyPyProcess(num_processes = 4)\n",
      "app.start_macro(macrolist);"
     ],
     "language": "python",
     "metadata": {},
     "outputs": [
      {
       "output_type": "stream",
       "stream": "stdout",
       "text": [
        " \r",
        "[****************100%******************]  15 of 15 complete"
       ]
      },
      {
       "output_type": "stream",
       "stream": "stdout",
       "text": [
        " (Total time: 21 seconds)\n"
       ]
      }
     ],
     "prompt_number": 13
    },
    {
     "cell_type": "markdown",
     "metadata": {},
     "source": [
      "## Getting data from the AnyBody Model\n",
      "***\n",
      "If we are only interested in a few variables then\n",
      "In the following macro we have added a new classoperation to 'Dump' the result of the maximum muscle activity. The `start_macro` method will the return all the 'dump'ed variables:\n"
     ]
    },
    {
     "cell_type": "code",
     "collapsed": false,
     "input": [
      "macrolist = [['load \"Knee.any\"',\n",
      "              'operation Main.MyStudy.InverseDynamics',\n",
      "              'run',\n",
      "              'classoperation Main.MyStudy.Output.MaxMuscleActivity \"Dump\"',\n",
      "              'exit']] \n",
      "\n",
      "result = app.start_macro(macrolist)\n",
      "\n",
      "max_muscle_act = result[0]['Main.MyStudy.Output.MaxMuscleActivity']\n"
     ],
     "language": "python",
     "metadata": {},
     "outputs": [
      {
       "output_type": "stream",
       "stream": "stdout",
       "text": [
        " \r",
        "[****************100%******************]  1 of 1 complete"
       ]
      },
      {
       "output_type": "stream",
       "stream": "stdout",
       "text": [
        " \n",
        "Total run time: 3 seconds\n"
       ]
      }
     ],
     "prompt_number": 7
    },
    {
     "cell_type": "markdown",
     "metadata": {},
     "source": [
      "In order to make the plot we import the matplotlib library, and enable inline figurs "
     ]
    },
    {
     "cell_type": "code",
     "collapsed": false,
     "input": [
      "%matplotlib inline\n",
      "import matplotlib.pyplot as plt\n",
      "import numpy as np\n",
      "\n",
      "plt.plot(max_muscle_act);"
     ],
     "language": "python",
     "metadata": {},
     "outputs": [
      {
       "metadata": {},
       "output_type": "display_data",
       "png": "[encoded data removed]",
       "text": [
        "<matplotlib.figure.Figure at 0x76ed080>"
       ]
      }
     ],
     "prompt_number": 10
    },
    {
     "cell_type": "markdown",
     "metadata": {},
     "source": [
      "#### Getting output from many models\n",
      "Running multiple models is only interesting if the models are different. In the following, the length of the patella ligament is varied from one to 10cm using the \"Set Value\" classoperation macro."
     ]
    },
    {
     "cell_type": "code",
     "collapsed": false,
     "input": [
      "macrolist = []\n",
      "patella_ligament_lengths = np.linspace(0.01, 0.1, 9)\n",
      "for value in patella_ligament_lengths:\n",
      "    macrolist.append( ['load \"Knee.any\"',   \n",
      "                       'classoperation Main.MyModel.PatellaLigament.DriverPos \"Set Value\"\\\n",
      "                        --value={%f}'%(value),\n",
      "                       'operation Main.MyStudy.InverseDynamics',\n",
      "                       'run',\n",
      "                       'classoperation Main.MyStudy.Output.MaxMuscleActivity \"Dump\"',\n",
      "                       'exit'] )\n",
      "output = app.start_macro(macrolist)"
     ],
     "language": "python",
     "metadata": {},
     "outputs": [
      {
       "output_type": "stream",
       "stream": "stdout",
       "text": [
        " \r",
        "[****************100%******************]  9 of 9 complete"
       ]
      },
      {
       "output_type": "stream",
       "stream": "stdout",
       "text": [
        " \n",
        "Total run time: 11 seconds\n"
       ]
      }
     ],
     "prompt_number": 12
    },
    {
     "cell_type": "markdown",
     "metadata": {},
     "source": [
      "We can now analyze the resulting maximum muscle activity by plotting the data in the `output` variable:"
     ]
    },
    {
     "cell_type": "code",
     "collapsed": false,
     "input": [
      "for i, result in enumerate( output ):\n",
      "    maxact = result['Main.MyStudy.Output.MaxMuscleActivity']\n",
      "    plt.plot(maxact, label='%d cm'%(100*patella_ligament_lengths[i]) )\n",
      "\n",
      "plt.title('Effect of changing patella ligament length')    \n",
      "plt.xlabel('time steps')\n",
      "plt.ylabel('max muscle activity')\n",
      "plt.legend(bbox_to_anchor=(1.05, 1), loc=2);"
     ],
     "language": "python",
     "metadata": {},
     "outputs": [
      {
       "metadata": {},
       "output_type": "display_data",
       "png": "[encoded data removed]",
       "text": [
        "<matplotlib.figure.Figure at 0x7bfd6a0>"
       ]
      }
     ],
     "prompt_number": 14
    },
    {
     "cell_type": "markdown",
     "metadata": {},
     "source": [
      "#### Saving and loading all data with HDF5 files\n",
      "It can sometimes be convenient to save the entire model with all its data, although this can be several hundred megabytes. It is useful if we do not know which variables we are interested in before running the model. It can also be useful if we want to load the data in the GUI application and replay the result.\n",
      "\n",
      "The macro language allows us to save the output of a study to the HDF5 file format. To do this we add a \"Save data\" classoperation to the macro and then re-run the model:"
     ]
    },
    {
     "cell_type": "code",
     "collapsed": false,
     "input": [
      "macrolist = [[\n",
      "  'load \"Knee.any\"',\n",
      "  'operation Main.MyStudy.Kinematics',\n",
      "  'run',\n",
      "  'classoperation Main.MyStudy.Output \"Save data\" --type=\"Deep\" --file=\"output.anydata.h5\"',\n",
      "  'exit']] \n",
      "app.start_macro(macrolist);"
     ],
     "language": "python",
     "metadata": {},
     "outputs": [
      {
       "output_type": "stream",
       "stream": "stdout",
       "text": [
        " \r",
        "[****************100%******************]  1 of 1 complete"
       ]
      },
      {
       "output_type": "stream",
       "stream": "stdout",
       "text": [
        " \n",
        "Total run time: 3 seconds\n"
       ]
      }
     ],
     "prompt_number": 16
    },
    {
     "cell_type": "markdown",
     "metadata": {},
     "source": [
      "The data stored in the file **output.anydata.h5** can be re-loaded in the AnyBody GUI application. To do this; load the model, then right click the `Main.MyStudy.Output` folder and select \"Load data\". \n",
      "\n",
      "Moreover, since we set **`type=\"Deep\"`** in the macro we can also load the data into external programs, e.g. Matlab or python. In python this is done using the *`h5py`* module"
     ]
    },
    {
     "cell_type": "code",
     "collapsed": false,
     "input": [
      "import h5py\n",
      "h5file = h5py.File('output.anydata.h5')\n",
      "data = np.array( h5file['/Output/MomentArm'] )\n",
      "h5file.close()\n",
      "print data"
     ],
     "language": "python",
     "metadata": {},
     "outputs": [
      {
       "output_type": "stream",
       "stream": "stdout",
       "text": [
        "[ 0.05740825  0.05665018  0.05586448  0.05505892  0.05424032  0.05341468\n",
        "  0.05258717  0.05176219  0.05094339  0.05013373  0.04933551  0.04855041\n",
        "  0.04777948  0.04702321  0.04628154  0.04555385  0.04483899  0.0441353\n",
        "  0.04344059  0.04275212  0.04206663  0.04138032  0.04068878  0.03998705\n",
        "  0.03926952  0.03852994  0.03776138  0.03695617  0.03610588  0.03520129]\n"
       ]
      }
     ],
     "prompt_number": 19
    },
    {
     "cell_type": "markdown",
     "metadata": {},
     "source": [
      "The data structure of the HDF5 files can unfortunately be very confusing. AnyBody does not save duplicate copies of the same data. If there are multiple references to the same folder, only one will be present in the HDF5 file. \n",
      "In our model `Knee.any` we have a reference to the **`Knee`** joint folder just before the **`Model`** folder in the study section. Thus, all variables inside the **`Knee`** folder cannot be accessed with the path '/Output/Model/Knee/...', but only through the path of the reference '/Output/kneeref/...'.\n",
      "\n",
      "We can see the problem in the following code snippet:"
     ]
    },
    {
     "cell_type": "code",
     "collapsed": false,
     "input": [
      "with h5py.File('output.anydata.h5') as f:\n",
      "    print '/Output/Model/Knee/Pos' in f\n",
      "    print '/Output/kneeref/Pos' in f\n"
     ],
     "language": "python",
     "metadata": {},
     "outputs": [
      {
       "output_type": "stream",
       "stream": "stdout",
       "text": [
        "False\n",
        "True\n"
       ]
      }
     ],
     "prompt_number": 14
    },
    {
     "cell_type": "markdown",
     "metadata": {},
     "source": [
      "This makes it difficult to find the correct path in large models with many references. AnyPyTools contains a wrapper for the h5py module, which automatically locates the right data, no matter what path is used. Using this module, we can easily locate the data. "
     ]
    },
    {
     "cell_type": "code",
     "collapsed": false,
     "input": [
      "import anypytools.h5py_wrapper as h5py2\n",
      "with h5py2.File('output.anydata.h5') as f:\n",
      "    print '/Output/Model/Knee/Pos' in f\n",
      "    print '/Output/kneeref/Pos' in f"
     ],
     "language": "python",
     "metadata": {},
     "outputs": [
      {
       "output_type": "stream",
       "stream": "stdout",
       "text": [
        "True\n",
        "True\n"
       ]
      }
     ],
     "prompt_number": 2
    },
    {
     "cell_type": "markdown",
     "metadata": {},
     "source": [
      "The h5py wrapper will also let us use the AnyScript variable names directly so we don't have to replace every . (dot) with a / (slash), and remove the stuff before the Output folder. "
     ]
    },
    {
     "cell_type": "code",
     "collapsed": false,
     "input": [
      "with h5py2.File('output.anydata.h5') as f:\n",
      "    kneeangle = np.array(f['Main.MyStudy.Output.Model.Knee.Pos'] )\n",
      "    momentarm = np.array(f['Output.MomentArm'] )\n",
      "    \n",
      "plt.plot(np.degrees(kneeangle),100*momentarm)\n",
      "plt.xlabel('Knee flexion (deg)')\n",
      "plt.ylabel('Moment arm (cm)');"
     ],
     "language": "python",
     "metadata": {},
     "outputs": [
      {
       "metadata": {},
       "output_type": "display_data",
       "png": "[encoded data removed]",
       "text": [
        "<matplotlib.figure.Figure at 0x77174e0>"
       ]
      }
     ],
     "prompt_number": 25
    },
    {
     "cell_type": "markdown",
     "metadata": {},
     "source": [
      "##Batch processing of many models\n",
      "******\n",
      "The approach to batch processing depends on the structure of the anybody model. The most commonly used strategy is a single anyscript main file which is loaded with different define statements to the trials, subjects or other parameters. This is the approach which is outlined on the [anyscript.org wiki page](http://wiki.anyscript.org/index.php/Running_several_files_as_batch), the first chapter of the tutorial explains how to handle this. \n",
      "\n",
      "Another strategy is to have a separate main file for each trial. These indivudual main files hold all trial specific data and includes a base model which is common to all trials and subjects. This is makes it much easier to work with mocap models which have many subject or hundres of trials. \n",
      "\n",
      "This [example model](https://dl.dropboxusercontent.com/u/1683635/store/BatchProcessExample.zip) illustrates the concept with the Arm2D demo from AnyBody. The main files are located in subfolders which load the base model \"Demo.Arm2D.any\" with different parameters. "
     ]
    },
    {
     "cell_type": "code",
     "collapsed": false,
     "input": [
      "%cd \"BatchProcessExample\"\n",
      "!dir /B"
     ],
     "language": "python",
     "metadata": {},
     "outputs": [
      {
       "output_type": "stream",
       "stream": "stdout",
       "text": [
        "C:\\Users\\Morten\\Google Drive\\IPython Notebooks\\BatchProcessExample\n"
       ]
      },
      {
       "output_type": "stream",
       "stream": "stdout",
       "text": [
        "batchprocess.py\n",
        "Demo.Arm2D.any\n",
        "model1\n",
        "model2\n",
        "model3\n",
        "model4\n",
        "model5\n",
        "model6\n",
        "model7\n",
        "model8\n",
        "model9\n",
        "Output\n",
        "RunExample.bat\n"
       ]
      }
     ],
     "prompt_number": 26
    },
    {
     "cell_type": "code",
     "collapsed": false,
     "input": [
      "from anypytools.abcutils import AnyPyProcess\n",
      "\n",
      "app = AnyPyProcess(num_processes = 3)\n",
      "macrolist = [['load \"main.any\"',\n",
      "           'operation Main.Study.InverseDynamics',\n",
      "\t\t   'run',\n",
      "\t\t   'exit']]\n",
      "\n",
      "app.start_macro(macrolist, search_subdirs= \"[model[1-9].*main.any\" );"
     ],
     "language": "python",
     "metadata": {},
     "outputs": [
      {
       "output_type": "stream",
       "stream": "stdout",
       "text": [
        " \r",
        "[****************100%******************]  9 of 9 complete"
       ]
      },
      {
       "output_type": "stream",
       "stream": "stdout",
       "text": [
        " \n",
        "Total run time: 13 seconds\n"
       ]
      }
     ],
     "prompt_number": 28
    },
    {
     "cell_type": "markdown",
     "metadata": {},
     "source": [
      "##Running external optimizers with AnyBody\n",
      "******\n",
      "To come\n",
      "\n"
     ]
    },
    {
     "cell_type": "code",
     "collapsed": false,
     "input": [],
     "language": "python",
     "metadata": {},
     "outputs": []
    },
    {
     "cell_type": "code",
     "collapsed": false,
     "input": [
      "# This just formats the Notebook so it looks a bit nicer\n",
      "from IPython.core.display import HTML\n",
      "def css_styling():\n",
      "    styles = open(\"custom.css\", \"r\").read()\n",
      "    return HTML(styles)\n",
      "css_styling()"
     ],
     "language": "python",
     "metadata": {},
     "outputs": [
      {
       "html": [
        "<style>\n",
        "    @font-face {\n",
        "        font-family: \"Computer Modern\";\n",
        "        src: url('http://mirrors.ctan.org/fonts/cm-unicode/fonts/otf/cmunss.otf');\n",
        "    }\n",
        "    div.cell{\n",
        "        width:800px;\n",
        "        margin-left:auto;\n",
        "        margin-right:auto;\n",
        "    }\n",
        "    h1 {\n",
        "        font-family: Helvetica, serif;\n",
        "    }\n",
        "    h2 {\n",
        "        margin-top:12px;\n",
        "        margin-bottom: 0px;\n",
        "    }\n",
        "    h3 {\n",
        "        margin-top:12px;\n",
        "        margin-bottom: 0px;\n",
        "    }\n",
        "    h4{\n",
        "        margin-top:12px;\n",
        "        margin-bottom: 0px;\n",
        "       }\n",
        "    code.language-cmd{\n",
        "        line-height: 100%;\n",
        "        font-size: 90%;\n",
        "    }\n",
        "    div.text_cell_render{\n",
        "        font-family: Computer Modern, \"Helvetica Neue\", Arial, Helvetica, Geneva, sans-serif;\n",
        "        line-height: 145%;\n",
        "        font-size: 120%;\n",
        "        width:800px;\n",
        "        margin-left:auto;\n",
        "        margin-right:auto;\n",
        "    }\n",
        "    .CodeMirror{\n",
        "            font-family: \"Source Code Pro\", source-code-pro,Consolas, monospace;\n",
        "    }\n",
        "    .prompt{\n",
        "        display: None;\n",
        "    }\n",
        "    .text_cell_render h5 {\n",
        "        font-weight: 300;\n",
        "        font-size: 12pt;\n",
        "        #color: #4057A1;\n",
        "        font-style: italic;\n",
        "        margin-bottom: .5em;\n",
        "        margin-top: 0.5em;\n",
        "        display: block;\n",
        "    }\n",
        "    \n",
        "    .warning{\n",
        "        color: rgb( 240, 20, 20 )\n",
        "        }\n",
        "       \n",
        "</style>\n",
        "<script>\n",
        "    MathJax.Hub.Config({\n",
        "                        TeX: {\n",
        "                           extensions: [\"AMSmath.js\"]\n",
        "                           },\n",
        "                tex2jax: {\n",
        "                    inlineMath: [ ['$','$'], [\"\\\\(\",\"\\\\)\"] ],\n",
        "                    displayMath: [ ['$$','$$'], [\"\\\\[\",\"\\\\]\"] ]\n",
        "                },\n",
        "                displayAlign: 'center', // Change this to 'center' to center equations.\n",
        "                \"HTML-CSS\": {\n",
        "                    styles: {'.MathJax_Display': {\"margin\": 4}}\n",
        "                }\n",
        "        });\n",
        "</script>"
       ],
       "metadata": {},
       "output_type": "pyout",
       "prompt_number": 106,
       "text": [
        "<IPython.core.display.HTML at 0x583c518>"
       ]
      }
     ],
     "prompt_number": 106
    },
    {
     "cell_type": "code",
     "collapsed": false,
     "input": [],
     "language": "python",
     "metadata": {},
     "outputs": []
    }
   ],
   "metadata": {}
  }
 ]
}