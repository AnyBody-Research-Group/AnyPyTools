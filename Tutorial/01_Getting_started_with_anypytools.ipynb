{
 "metadata": {
  "name": "",
  "signature": "sha256:082c690388fbf175c338ed1cedfb9127cd17b785dd63d1e08fd82d3662d8740a"
 },
 "nbformat": 3,
 "nbformat_minor": 0,
 "worksheets": [
  {
   "cells": [
    {
     "cell_type": "heading",
     "level": 1,
     "metadata": {},
     "source": [
      "Getting Started with AnyPyTools"
     ]
    },
    {
     "cell_type": "markdown",
     "metadata": {},
     "source": [
      "----\n",
      "- [Setup](#Setup)\n",
      "- [Running a simple macro](#Running-a-simple-macro)\n",
      "- [Running multiple macros](#Running-multiple-macros)\n",
      "- [Prallel execution](#Prallel-execution)\n",
      "- [Getting data from the AnyBody Model](#Getting-data-from-the-AnyBody-Model)\n",
      "----"
     ]
    },
    {
     "cell_type": "heading",
     "level": 2,
     "metadata": {},
     "source": [
      "Setup"
     ]
    },
    {
     "cell_type": "markdown",
     "metadata": {},
     "source": [
      "\n",
      "#### Requirements:\n",
      "* The [AnyBody Modelling System](www.anybodytech.com)\n",
      "* A Scientific Python distibution\n",
      "\n",
      "\n",
      "[AnyPyTools](https://github.com/AnyBody-Research-Group/AnyPyTools) is an open source python library for working with the AnyBody Modeling System.\n",
      "\n",
      "#### Installation: \n",
      "\n",
      "- Download and install the [Anaconda python distribution](https://store.continuum.io/cshop/anaconda/)\n",
      "\n",
      "- After installation open the Anaconda command prompt and type:\n",
      "\n",
      ">``` cmd\n",
      "> conda install -c public anypytools\n",
      "> ```\n",
      " \n",
      "This will install the newest version of AnyPyTools. Try launching the inteactive version of this tutorial (in the Anaconda start menu) and start working with `anypytools`.\n"
     ]
    },
    {
     "cell_type": "heading",
     "level": 2,
     "metadata": {},
     "source": [
      "Running a simple macro"
     ]
    },
    {
     "cell_type": "markdown",
     "metadata": {},
     "source": [
      "In this and the following tutorials we will use an extremly simple model of a knee joint with one quadriceps muscle included ( see the figure)\n",
      "<img src=\"https://dl.dropboxusercontent.com/u/1683635/store/knee.gif\" alt=\"Drawing\" align=\"Right\" \n",
      "style=\"height: 120px;\"/>\n",
      "\n",
      "The model is defined in the file [`Knee.any`](knee.any), which must be placed in the current working directory.\n",
      "\n",
      "Now, let us see how to run this simple model from python. The first step is to import the appropriate class for working with the AMS console application and create an instance of the class ``AnyPyProcess``."
     ]
    },
    {
     "cell_type": "code",
     "collapsed": false,
     "input": [
      "from anypytools.abcutils import AnyPyProcess \n",
      "app = AnyPyProcess()"
     ],
     "language": "python",
     "metadata": {},
     "outputs": [],
     "prompt_number": 1
    },
    {
     "cell_type": "markdown",
     "metadata": {},
     "source": [
      "Now we define an _AnyScript_ macro which we want to run on the model. The macro is executed by starting the `start_macro` method of the `AnyPyProcess` class"
     ]
    },
    {
     "cell_type": "code",
     "collapsed": false,
     "input": [
      "macrolist = [['load \"Knee.any\"',\n",
      "              'operation Main.MyStudy.Kinematics',\n",
      "              'run',\n",
      "              'exit']]\n",
      "\n",
      "app.start_macro(macrolist);"
     ],
     "language": "python",
     "metadata": {},
     "outputs": [
      {
       "output_type": "stream",
       "stream": "stdout",
       "text": [
        "\r",
        " [****************100%******************]  1 of 1 complete"
       ]
      },
      {
       "output_type": "stream",
       "stream": "stdout",
       "text": [
        "\n"
       ]
      },
      {
       "html": [
        "Total time: 4 seconds"
       ],
       "metadata": {},
       "output_type": "display_data",
       "text": [
        "<IPython.core.display.HTML object>"
       ]
      }
     ],
     "prompt_number": 2
    },
    {
     "cell_type": "heading",
     "level": 2,
     "metadata": {},
     "source": [
      "Running multiple macros"
     ]
    },
    {
     "cell_type": "markdown",
     "metadata": {},
     "source": [
      "It is easy to run multiple macros by adding an extra set of macro commands to the macro list"
     ]
    },
    {
     "cell_type": "code",
     "collapsed": false,
     "input": [
      "macrolist = [['load \"Knee.any\"',\n",
      "              'operation Main.MyStudy.Kinematics',\n",
      "              'run',\n",
      "              'exit'],\n",
      "             ['load \"Knee.any\"',\n",
      "              'operation Main.MyStudy.InverseDynamics',\n",
      "              'run',\n",
      "              'exit']]\n",
      "app.start_macro(macrolist);"
     ],
     "language": "python",
     "metadata": {},
     "outputs": [
      {
       "output_type": "stream",
       "stream": "stdout",
       "text": [
        "\r",
        " [****************100%******************]  2 of 2 complete"
       ]
      },
      {
       "output_type": "stream",
       "stream": "stdout",
       "text": [
        "\n"
       ]
      },
      {
       "html": [
        "Total time: 4 seconds"
       ],
       "metadata": {},
       "output_type": "display_data",
       "text": [
        "<IPython.core.display.HTML at 0x54a8fd0>"
       ]
      }
     ],
     "prompt_number": 3
    },
    {
     "cell_type": "heading",
     "level": 2,
     "metadata": {},
     "source": [
      "Parallel execution"
     ]
    },
    {
     "cell_type": "markdown",
     "metadata": {},
     "source": [
      "Notice, that AnyPyProcess will run the anyscript macros in parallel. Modern computers have multiple cores, but a single AnyBody instance can only utilize a single core, leaving us with a great potential for speeding things up through penalization.\n",
      "\n",
      "To test this, let us create 10 macros in a for-loop. "
     ]
    },
    {
     "cell_type": "code",
     "collapsed": false,
     "input": [
      "macrolist = []\n",
      "for i in range(15):\n",
      "    macrolist.append(['load \"Knee.any\"',              \n",
      "                      'operation Main.MyStudy.InverseDynamics',\n",
      "                      'run',\n",
      "                      'exit'] )"
     ],
     "language": "python",
     "metadata": {},
     "outputs": [],
     "prompt_number": 4
    },
    {
     "cell_type": "markdown",
     "metadata": {},
     "source": [
      "AnyPyProcess has a parameter 'num_processes' that controls the number parallel processes. Let us try a small example to see the difference in speed:"
     ]
    },
    {
     "cell_type": "code",
     "collapsed": false,
     "input": [
      "# First sequentially\n",
      "app = AnyPyProcess(num_processes = 1)\n",
      "app.start_macro(macrolist);"
     ],
     "language": "python",
     "metadata": {},
     "outputs": [
      {
       "output_type": "stream",
       "stream": "stdout",
       "text": [
        "\r",
        " [****************100%******************]  15 of 15 complete"
       ]
      },
      {
       "output_type": "stream",
       "stream": "stdout",
       "text": [
        "\n"
       ]
      },
      {
       "html": [
        "Total time: 48 seconds"
       ],
       "metadata": {},
       "output_type": "display_data",
       "text": [
        "<IPython.core.display.HTML at 0x54a8c18>"
       ]
      }
     ],
     "prompt_number": 5
    },
    {
     "cell_type": "code",
     "collapsed": false,
     "input": [
      "#Then with parallization\n",
      "app = AnyPyProcess(num_processes = 4)\n",
      "app.start_macro(macrolist);"
     ],
     "language": "python",
     "metadata": {},
     "outputs": [
      {
       "output_type": "stream",
       "stream": "stdout",
       "text": [
        "\r",
        " [****************100%******************]  15 of 15 complete"
       ]
      },
      {
       "output_type": "stream",
       "stream": "stdout",
       "text": [
        "\n"
       ]
      },
      {
       "html": [
        "Total time: 17 seconds"
       ],
       "metadata": {},
       "output_type": "display_data",
       "text": [
        "<IPython.core.display.HTML at 0x54a8e80>"
       ]
      }
     ],
     "prompt_number": 6
    },
    {
     "cell_type": "heading",
     "level": 2,
     "metadata": {},
     "source": [
      "Getting data from the AnyBody Model"
     ]
    },
    {
     "cell_type": "markdown",
     "metadata": {},
     "source": [
      "If we are only interested in a few variables then\n",
      "In the following macro we have added a new classoperation to 'Dump' the result of the maximum muscle activity. The `start_macro` method will the return all the 'dump'ed variables:\n"
     ]
    },
    {
     "cell_type": "code",
     "collapsed": false,
     "input": [
      "macrolist = [['load \"Knee.any\"',\n",
      "              'operation Main.MyStudy.InverseDynamics',\n",
      "              'run',\n",
      "              'classoperation Main.MyStudy.Output.MaxMuscleActivity \"Dump\"',\n",
      "              'exit']] \n",
      "\n",
      "result = app.start_macro(macrolist)\n",
      "\n",
      "max_muscle_act = result[0]['Main.MyStudy.Output.MaxMuscleActivity']\n"
     ],
     "language": "python",
     "metadata": {},
     "outputs": [
      {
       "output_type": "stream",
       "stream": "stdout",
       "text": [
        "\r",
        " [****************100%******************]  1 of 1 complete"
       ]
      },
      {
       "output_type": "stream",
       "stream": "stdout",
       "text": [
        "\n"
       ]
      },
      {
       "html": [
        "Total time: 3 seconds"
       ],
       "metadata": {},
       "output_type": "display_data",
       "text": [
        "<IPython.core.display.HTML object>"
       ]
      }
     ],
     "prompt_number": 3
    },
    {
     "cell_type": "markdown",
     "metadata": {},
     "source": [
      "In order to make the plot we import the matplotlib library, and enable inline figurs "
     ]
    },
    {
     "cell_type": "code",
     "collapsed": false,
     "input": [
      "%matplotlib inline\n",
      "import matplotlib.pyplot as plt\n",
      "import numpy as np\n",
      "\n",
      "plt.plot(max_muscle_act);"
     ],
     "language": "python",
     "metadata": {},
     "outputs": [
      {
       "metadata": {},
       "output_type": "display_data",
       "png": "[encoded data removed]",
       "text": [
        "<matplotlib.figure.Figure at 0xa06e438>"
       ]
      }
     ],
     "prompt_number": 4
    }
   ],
   "metadata": {}
  }
 ]
}