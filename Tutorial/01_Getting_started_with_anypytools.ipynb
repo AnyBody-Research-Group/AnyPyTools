{
 "metadata": {
  "name": "",
  "signature": "sha256:aef845cfdc36bce0f350ec310e00be92b07a0078d794bb9b75e2c9692cbbf902"
 },
 "nbformat": 3,
 "nbformat_minor": 0,
 "worksheets": [
  {
   "cells": [
    {
     "cell_type": "heading",
     "level": 1,
     "metadata": {},
     "source": [
      "Getting Started with AnyPyTools"
     ]
    },
    {
     "cell_type": "markdown",
     "metadata": {},
     "source": [
      "For installation instructions, see [this page](00_Install_and_setup.ipynb)\n",
      "\n",
      "Tutorial:\n",
      "- [Running a simple macro](#Running-a-simple-macro)\n",
      "- [Running multiple macros](#Running-multiple-macros)\n",
      "- [Prallel execution](#Prallel-execution)\n",
      "- [Getting data from the AnyBody Model](#Getting-data-from-the-AnyBody-Model)"
     ]
    },
    {
     "cell_type": "heading",
     "level": 2,
     "metadata": {},
     "source": [
      "Running a simple macro"
     ]
    },
    {
     "cell_type": "markdown",
     "metadata": {},
     "source": [
      "In this and the following tutorials we will use an extremly simple model of a knee joint with one quadriceps muscle included ( see the figure)\n",
      "<img src=\"https://dl.dropboxusercontent.com/u/1683635/store/knee.gif\" alt=\"Drawing\" align=\"Right\" \n",
      "style=\"height: 120px;\"/>\n",
      "\n",
      "The model is defined in the file [`Knee.any`](knee.any), which must be placed in the current working directory.\n",
      "\n",
      "Now, let us see how to run this simple model from python. The first step is to import the appropriate class for working with the AMS console application and create an instance of the class ``AnyPyProcess``."
     ]
    },
    {
     "cell_type": "code",
     "collapsed": false,
     "input": [
      "from anypytools.abcutils import AnyPyProcess \n",
      "app = AnyPyProcess()"
     ],
     "language": "python",
     "metadata": {},
     "outputs": [],
     "prompt_number": 1
    },
    {
     "cell_type": "markdown",
     "metadata": {},
     "source": [
      "Now we define an _AnyScript_ macro which we want to run on the model. The macro is executed by starting the `start_macro` method of the `AnyPyProcess` class"
     ]
    },
    {
     "cell_type": "code",
     "collapsed": false,
     "input": [
      "macrolist = [['load \"Knee.any\"',\n",
      "              'operation Main.MyStudy.Kinematics',\n",
      "              'run',\n",
      "              'exit']]\n",
      "\n",
      "app.start_macro(macrolist);"
     ],
     "language": "python",
     "metadata": {},
     "outputs": [
      {
       "output_type": "stream",
       "stream": "stdout",
       "text": [
        "\r",
        " [****************100%******************]  1 of 1 complete"
       ]
      },
      {
       "html": [
        "<pre>Total time: 0.6 seconds</pre>"
       ],
       "metadata": {},
       "output_type": "display_data",
       "text": [
        "<IPython.core.display.HTML at 0x1f88be0>"
       ]
      }
     ],
     "prompt_number": 2
    },
    {
     "cell_type": "heading",
     "level": 2,
     "metadata": {},
     "source": [
      "Running multiple macros"
     ]
    },
    {
     "cell_type": "markdown",
     "metadata": {},
     "source": [
      "It is easy to run multiple macros by adding an extra set of macro commands to the macro list"
     ]
    },
    {
     "cell_type": "code",
     "collapsed": false,
     "input": [
      "macrolist = [['load \"Knee.any\"',\n",
      "              'operation Main.MyStudy.Kinematics',\n",
      "              'run',\n",
      "              'exit'],\n",
      "             ['load \"Knee.any\"',\n",
      "              'operation Main.MyStudy.InverseDynamics',\n",
      "              'run',\n",
      "              'exit']]\n",
      "app.start_macro(macrolist);"
     ],
     "language": "python",
     "metadata": {},
     "outputs": [
      {
       "output_type": "stream",
       "stream": "stdout",
       "text": [
        "\r",
        " [****************100%******************]  2 of 2 complete"
       ]
      },
      {
       "html": [
        "<pre>Total time: 0.9 seconds</pre>"
       ],
       "metadata": {},
       "output_type": "display_data",
       "text": [
        "<IPython.core.display.HTML at 0x2b30eb8>"
       ]
      }
     ],
     "prompt_number": 3
    },
    {
     "cell_type": "heading",
     "level": 2,
     "metadata": {},
     "source": [
      "Parallel execution"
     ]
    },
    {
     "cell_type": "markdown",
     "metadata": {},
     "source": [
      "Notice, that AnyPyProcess will run the anyscript macros in parallel. Modern computers have multiple cores, but a single AnyBody instance can only utilize a single core, leaving us with a great potential for speeding things up through penalization.\n",
      "\n",
      "To test this, let us create 10 macros in a for-loop. "
     ]
    },
    {
     "cell_type": "code",
     "collapsed": false,
     "input": [
      "macrolist = []\n",
      "for i in range(40):\n",
      "    macrolist.append(['load \"Knee.any\"',              \n",
      "                      'operation Main.MyStudy.InverseDynamics',\n",
      "                      'run',\n",
      "                      'exit'] )"
     ],
     "language": "python",
     "metadata": {},
     "outputs": [],
     "prompt_number": 4
    },
    {
     "cell_type": "markdown",
     "metadata": {},
     "source": [
      "AnyPyProcess has a parameter 'num_processes' that controls the number parallel processes. Let us try a small example to see the difference in speed:"
     ]
    },
    {
     "cell_type": "code",
     "collapsed": false,
     "input": [
      "# First sequentially\n",
      "app = AnyPyProcess(num_processes = 1)\n",
      "app.start_macro(macrolist);"
     ],
     "language": "python",
     "metadata": {},
     "outputs": [
      {
       "output_type": "stream",
       "stream": "stdout",
       "text": [
        "\r",
        " [****************100%******************]  40 of 40 complete"
       ]
      },
      {
       "html": [
        "<pre>Total time: 28.9 seconds</pre>"
       ],
       "metadata": {},
       "output_type": "display_data",
       "text": [
        "<IPython.core.display.HTML at 0x40a3eb8>"
       ]
      }
     ],
     "prompt_number": 5
    },
    {
     "cell_type": "code",
     "collapsed": false,
     "input": [
      "#Then with parallization\n",
      "app = AnyPyProcess(num_processes = 10)\n",
      "app.start_macro(macrolist);"
     ],
     "language": "python",
     "metadata": {},
     "outputs": [
      {
       "output_type": "stream",
       "stream": "stdout",
       "text": [
        "\r",
        " [****************100%******************]  40 of 40 complete"
       ]
      },
      {
       "html": [
        "<pre>Total time: 4.7 seconds</pre>"
       ],
       "metadata": {},
       "output_type": "display_data",
       "text": [
        "<IPython.core.display.HTML at 0x40a3860>"
       ]
      }
     ],
     "prompt_number": 6
    },
    {
     "cell_type": "heading",
     "level": 2,
     "metadata": {},
     "source": [
      "Getting data from the AnyBody Model"
     ]
    },
    {
     "cell_type": "markdown",
     "metadata": {},
     "source": [
      "If we are only interested in a few variables then\n",
      "In the following macro we have added a new classoperation to 'Dump' the result of the maximum muscle activity. The `start_macro` method will return all the 'dump'ed variables:\n"
     ]
    },
    {
     "cell_type": "code",
     "collapsed": false,
     "input": [
      "macrolist = [['load \"Knee.any\"',\n",
      "              'operation Main.MyStudy.InverseDynamics',\n",
      "              'run',\n",
      "              'classoperation Main.MyStudy.Output.MaxMuscleActivity \"Dump\"',\n",
      "              'exit']] \n",
      "\n",
      "results = app.start_macro(macrolist)\n",
      "results"
     ],
     "language": "python",
     "metadata": {},
     "outputs": [
      {
       "output_type": "stream",
       "stream": "stdout",
       "text": [
        "\r",
        " [****************100%******************]  1 of 1 complete"
       ]
      },
      {
       "html": [
        "<pre>Total time: 0.9 seconds</pre>"
       ],
       "metadata": {},
       "output_type": "display_data",
       "text": [
        "<IPython.core.display.HTML at 0x3c0e748>"
       ]
      },
      {
       "metadata": {},
       "output_type": "pyout",
       "prompt_number": 7,
       "text": [
        "[{'Main.MyStudy.Output.MaxMuscleActivity': array([ 0.00890538,  0.00927552,  0.00986515,  0.01067729,  0.01171374,\n",
        "        0.01297502,  0.01446022,  0.0161669 ,  0.01809102,  0.02022675,\n",
        "        0.02256637,  0.02510015,  0.0278161 ,  0.03069982,  0.03373426,\n",
        "        0.0368995 ,  0.0401725 ,  0.04352691,  0.04693299,  0.05035756,\n",
        "        0.05376422,  0.05711384,  0.06036528,  0.06347664,  0.06640681,\n",
        "        0.0691175 ,  0.07157552,  0.07375524,  0.07564093,  0.07722862,\n",
        "        0.07852727,  0.0795589 ,  0.08035747,  0.08096676,  0.0814373 ,\n",
        "        0.08182288,  0.0821771 ,  0.08255065,  0.08298457,  0.08333915,\n",
        "        0.08355467,  0.08365939,  0.08367977,  0.08364023,  0.08356287,\n",
        "        0.08346721,  0.08336996,  0.08328478,  0.08322211,  0.083189  ,\n",
        "        0.083189  ,  0.08322211,  0.08328478,  0.08336996,  0.08346721,\n",
        "        0.08356287,  0.08364023,  0.08367977,  0.08365939,  0.08355467,\n",
        "        0.08333915,  0.08298458,  0.08255065,  0.0821771 ,  0.08182288,\n",
        "        0.0814373 ,  0.08096676,  0.08035746,  0.07955889,  0.07852727,\n",
        "        0.07722861,  0.07564092,  0.07375524,  0.07157551,  0.06911749,\n",
        "        0.06640681,  0.06347664,  0.06036528,  0.05711384,  0.05376422,\n",
        "        0.05035756,  0.04693299,  0.04352691,  0.0401725 ,  0.0368995 ,\n",
        "        0.03373426,  0.03069982,  0.0278161 ,  0.02510015,  0.02256637,\n",
        "        0.02022675,  0.01809102,  0.0161669 ,  0.01446022,  0.01297502,\n",
        "        0.01171374,  0.01067729,  0.00986515,  0.00927552,  0.00890538])}]"
       ]
      }
     ],
     "prompt_number": 7
    },
    {
     "cell_type": "markdown",
     "metadata": {},
     "source": [
      "In order to make the plot we import the matplotlib library, and enable inline figurs "
     ]
    },
    {
     "cell_type": "code",
     "collapsed": false,
     "input": [
      "max_muscle_act = results[0]['Main.MyStudy.Output.MaxMuscleActivity']"
     ],
     "language": "python",
     "metadata": {},
     "outputs": [],
     "prompt_number": 8
    },
    {
     "cell_type": "code",
     "collapsed": false,
     "input": [
      "%matplotlib inline\n",
      "import matplotlib.pyplot as plt\n",
      "import numpy as np\n",
      "\n",
      "plt.plot(max_muscle_act );"
     ],
     "language": "python",
     "metadata": {},
     "outputs": [
      {
       "metadata": {},
       "output_type": "display_data",
       "png": "[encoded data removed]",
       "text": [
        "<matplotlib.figure.Figure at 0x9fec3c8>"
       ]
      }
     ],
     "prompt_number": 9
    }
   ],
   "metadata": {}
  }
 ]
}