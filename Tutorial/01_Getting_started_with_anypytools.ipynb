{
 "cells": [
  {
   "cell_type": "markdown",
   "metadata": {},
   "source": [
    "# Getting Started with AnyPyTools"
   ]
  },
  {
   "cell_type": "markdown",
   "metadata": {},
   "source": [
    "For installation instructions, see [this page](00_Install_and_setup.ipynb)\n",
    "\n",
    "Tutorial:\n",
    "- [Running a simple macro](#Running-a-simple-macro)\n",
    "- [Running multiple macros](#Running-multiple-macros)\n",
    "- [Prallel execution](#Prallel-execution)\n",
    "- [Getting data from the AnyBody Model](#Getting-data-from-the-AnyBody-Model)"
   ]
  },
  {
   "cell_type": "markdown",
   "metadata": {},
   "source": [
    "## Running a simple macro"
   ]
  },
  {
   "cell_type": "markdown",
   "metadata": {},
   "source": [
    "In this and the following tutorials we will use an extremly simple model of a knee joint with one quadriceps muscle included ( see the figure)\n",
    "<img src=\"https://dl.dropboxusercontent.com/u/1683635/store/knee.gif\" alt=\"Drawing\" align=\"Right\" \n",
    "style=\"height: 120px;\"/>\n",
    "\n",
    "The model is defined in the file [`Knee.any`](knee.any), which must be placed in the current working directory.\n",
    "\n",
    "Now, let us see how to run this simple model from python. The first step is to import the appropriate class for working with the AMS console application and create an instance of the class ``AnyPyProcess``."
   ]
  },
  {
   "cell_type": "code",
   "execution_count": 13,
   "metadata": {
    "collapsed": false
   },
   "outputs": [],
   "source": [
    "from anypytools.abcutils import AnyPyProcess \n",
    "app = AnyPyProcess()"
   ]
  },
  {
   "cell_type": "markdown",
   "metadata": {},
   "source": [
    "Now we define an _AnyScript_ macro which we want to run on the model. The macro is executed by starting the `start_macro` method of the `AnyPyProcess` class"
   ]
  },
  {
   "cell_type": "code",
   "execution_count": 14,
   "metadata": {
    "collapsed": false
   },
   "outputs": [
    {
     "name": "stdout",
     "output_type": "stream",
     "text": [
      "[****************100%******************]  1 of 1 complete"
     ]
    },
    {
     "data": {
      "text/html": [
       "<pre>Total time: 0.4 seconds</pre>"
      ],
      "text/plain": [
       "<IPython.core.display.HTML object>"
      ]
     },
     "metadata": {},
     "output_type": "display_data"
    }
   ],
   "source": [
    "macrolist = [['load \"Knee.any\"',\n",
    "              'operation Main.MyStudy.Kinematics',\n",
    "              'run',\n",
    "              'exit']]\n",
    "\n",
    "app.start_macro(macrolist);"
   ]
  },
  {
   "cell_type": "markdown",
   "metadata": {},
   "source": [
    "## Running multiple macros"
   ]
  },
  {
   "cell_type": "markdown",
   "metadata": {},
   "source": [
    "It is easy to run multiple macros by adding an extra set of macro commands to the macro list"
   ]
  },
  {
   "cell_type": "code",
   "execution_count": 15,
   "metadata": {
    "collapsed": false
   },
   "outputs": [
    {
     "name": "stdout",
     "output_type": "stream",
     "text": [
      "[****************100%******************]  2 of 2 complete"
     ]
    },
    {
     "data": {
      "text/html": [
       "<pre>Total time: 0.5 seconds</pre>"
      ],
      "text/plain": [
       "<IPython.core.display.HTML object>"
      ]
     },
     "metadata": {},
     "output_type": "display_data"
    }
   ],
   "source": [
    "macrolist = [['load \"Knee.any\"',\n",
    "              'operation Main.MyStudy.Kinematics',\n",
    "              'run',\n",
    "              'exit'],\n",
    "             ['load \"Knee.any\"',\n",
    "              'operation Main.MyStudy.InverseDynamics',\n",
    "              'run',\n",
    "              'exit']]\n",
    "app.start_macro(macrolist);"
   ]
  },
  {
   "cell_type": "markdown",
   "metadata": {},
   "source": [
    "## Parallel execution"
   ]
  },
  {
   "cell_type": "markdown",
   "metadata": {},
   "source": [
    "Notice, that AnyPyProcess will run the anyscript macros in parallel. Modern computers have multiple cores, but a single AnyBody instance can only utilize a single core, leaving us with a great potential for speeding things up through penalization.\n",
    "\n",
    "To test this, let us create 10 macros in a for-loop. "
   ]
  },
  {
   "cell_type": "code",
   "execution_count": 16,
   "metadata": {
    "collapsed": false
   },
   "outputs": [],
   "source": [
    "macrolist = []\n",
    "for i in range(40):\n",
    "    macrolist.append(['load \"Knee.any\"',              \n",
    "                      'operation Main.MyStudy.InverseDynamics',\n",
    "                      'run',\n",
    "                      'exit'] )"
   ]
  },
  {
   "cell_type": "markdown",
   "metadata": {},
   "source": [
    "AnyPyProcess has a parameter 'num_processes' that controls the number parallel processes. Let us try a small example to see the difference in speed:"
   ]
  },
  {
   "cell_type": "code",
   "execution_count": 17,
   "metadata": {
    "collapsed": false
   },
   "outputs": [
    {
     "name": "stdout",
     "output_type": "stream",
     "text": [
      "[****************100%******************]  40 of 40 complete"
     ]
    },
    {
     "data": {
      "text/html": [
       "<pre>Total time: 18.9 seconds</pre>"
      ],
      "text/plain": [
       "<IPython.core.display.HTML object>"
      ]
     },
     "metadata": {},
     "output_type": "display_data"
    }
   ],
   "source": [
    "# First sequentially\n",
    "app = AnyPyProcess(num_processes = 1)\n",
    "app.start_macro(macrolist);"
   ]
  },
  {
   "cell_type": "code",
   "execution_count": 18,
   "metadata": {
    "collapsed": false
   },
   "outputs": [
    {
     "name": "stdout",
     "output_type": "stream",
     "text": [
      "[****************100%******************]  40 of 40 complete"
     ]
    },
    {
     "data": {
      "text/html": [
       "<pre>Total time: 2.1 seconds</pre>"
      ],
      "text/plain": [
       "<IPython.core.display.HTML object>"
      ]
     },
     "metadata": {},
     "output_type": "display_data"
    }
   ],
   "source": [
    "#Then with parallization\n",
    "app = AnyPyProcess(num_processes = 10)\n",
    "app.start_macro(macrolist);"
   ]
  },
  {
   "cell_type": "markdown",
   "metadata": {},
   "source": [
    "## Getting data from the AnyBody Model"
   ]
  },
  {
   "cell_type": "markdown",
   "metadata": {},
   "source": [
    "If we are only interested in a few variables then\n",
    "In the following macro we have added a new classoperation to 'Dump' the result of the maximum muscle activity. The `start_macro` method will return all the 'dump'ed variables:\n"
   ]
  },
  {
   "cell_type": "code",
   "execution_count": 19,
   "metadata": {
    "collapsed": false
   },
   "outputs": [
    {
     "name": "stdout",
     "output_type": "stream",
     "text": [
      "[****************100%******************]  1 of 1 complete"
     ]
    },
    {
     "data": {
      "text/html": [
       "<pre>Total time: 0.6 seconds</pre>"
      ],
      "text/plain": [
       "<IPython.core.display.HTML object>"
      ]
     },
     "metadata": {},
     "output_type": "display_data"
    },
    {
     "data": {
      "text/plain": [
       "[{'Main.MyStudy.Output.MaxMuscleActivity': \n",
       "    array([ 0.00890538,  0.00927552,  0.00986515,  0.01067729,  0.01171374,\n",
       "            0.01297502,  0.01446022,  0.0161669 ,  0.01809102,  0.02022675,\n",
       "            0.02256637,  0.02510015,  0.0278161 ,  0.03069982,  0.03373426,\n",
       "            0.0368995 ,  0.0401725 ,  0.04352691,  0.04693299,  0.05035756,\n",
       "            0.05376422,  0.05711384,  0.06036528,  0.06347664,  0.06640681,\n",
       "            0.0691175 ,  0.07157552,  0.07375524,  0.07564093,  0.07722862,\n",
       "            0.07852727,  0.0795589 ,  0.08035747,  0.08096676,  0.0814373 ,\n",
       "            0.08182288,  0.0821771 ,  0.08255065,  0.08298457,  0.08333915,\n",
       "            0.08355467,  0.08365939,  0.08367977,  0.08364023,  0.08356287,\n",
       "            0.08346721,  0.08336996,  0.08328478,  0.08322211,  0.083189  ,\n",
       "            0.083189  ,  0.08322211,  0.08328478,  0.08336996,  0.08346721,\n",
       "            0.08356287,  0.08364023,  0.08367977,  0.08365939,  0.08355467,\n",
       "            0.08333915,  0.08298458,  0.08255065,  0.0821771 ,  0.08182288,\n",
       "            0.0814373 ,  0.08096676,  0.08035746,  0.07955889,  0.07852727,\n",
       "            0.07722861,  0.07564092,  0.07375524,  0.07157551,  0.06911749,\n",
       "            0.06640681,  0.06347664,  0.06036528,  0.05711384,  0.05376422,\n",
       "            0.05035756,  0.04693299,  0.04352691,  0.0401725 ,  0.0368995 ,\n",
       "            0.03373426,  0.03069982,  0.0278161 ,  0.02510015,  0.02256637,\n",
       "            0.02022675,  0.01809102,  0.0161669 ,  0.01446022,  0.01297502,\n",
       "            0.01171374,  0.01067729,  0.00986515,  0.00927552,  0.00890538])}]"
      ]
     },
     "execution_count": 19,
     "metadata": {},
     "output_type": "execute_result"
    }
   ],
   "source": [
    "macrolist = [['load \"Knee.any\"',\n",
    "              'operation Main.MyStudy.InverseDynamics',\n",
    "              'run',\n",
    "              'classoperation Main.MyStudy.Output.MaxMuscleActivity \"Dump\"',\n",
    "              'exit']] \n",
    "\n",
    "results = app.start_macro(macrolist)\n",
    "results"
   ]
  },
  {
   "cell_type": "markdown",
   "metadata": {},
   "source": [
    "In order to make the plot we import the matplotlib library, and enable inline figurs "
   ]
  },
  {
   "cell_type": "code",
   "execution_count": 20,
   "metadata": {
    "collapsed": false
   },
   "outputs": [],
   "source": [
    "max_muscle_act = results[0]['Main.MyStudy.Output.MaxMuscleActivity']"
   ]
  },
  {
   "cell_type": "code",
   "execution_count": 21,
   "metadata": {
    "collapsed": false
   },
   "outputs": [
    {
     "data": {
      "image/png": "[encoded data removed]",
      "text/html": [
       "\n",
       "\n",
       "<style>\n",
       "\n",
       "</style>\n",
       "\n",
       "<div id=\"fig_el31843609128803587150671\"></div>\n",
       "<script>\n",
       "function mpld3_load_lib(url, callback){\n",
       "  var s = document.createElement('script');\n",
       "  s.src = url;\n",
       "  s.async = true;\n",
       "  s.onreadystatechange = s.onload = callback;\n",
       "  s.onerror = function(){console.warn(\"failed to load library \" + url);};\n",
       "  document.getElementsByTagName(\"head\")[0].appendChild(s);\n",
       "}\n",
       "\n",
       "if(typeof(mpld3) !== \"undefined\" && mpld3._mpld3IsLoaded){\n",
       "   // already loaded: just create the figure\n",
       "   !function(mpld3){\n",
       "       \n",
       "       mpld3.draw_figure(\"fig_el31843609128803587150671\", {\"axes\": [{\"xlim\": [0.0, 100.0], \"yscale\": \"linear\", \"axesbg\": \"none\", \"texts\": [], \"zoomable\": true, \"images\": [], \"xdomain\": [0.0, 100.0], \"ylim\": [0.0, 0.089999999999999997], \"paths\": [], \"sharey\": [], \"sharex\": [], \"axesbgalpha\": null, \"axes\": [{\"scale\": \"linear\", \"tickformat\": null, \"grid\": {\"gridOn\": false}, \"fontsize\": 10.0, \"position\": \"bottom\", \"nticks\": 6, \"tickvalues\": null}, {\"scale\": \"linear\", \"tickformat\": null, \"grid\": {\"gridOn\": false}, \"fontsize\": 10.0, \"position\": \"left\", \"nticks\": 10, \"tickvalues\": null}], \"lines\": [{\"color\": \"#0000FF\", \"yindex\": 1, \"coordinates\": \"data\", \"dasharray\": \"10,0\", \"zorder\": 2, \"alpha\": 1, \"xindex\": 0, \"linewidth\": 1.0, \"data\": \"data01\", \"id\": \"el3184361780728\"}], \"markers\": [], \"id\": \"el3184360914000\", \"ydomain\": [0.0, 0.089999999999999997], \"collections\": [], \"xscale\": \"linear\", \"bbox\": [0.125, 0.125, 0.77500000000000002, 0.77500000000000002]}], \"height\": 320.0, \"width\": 480.0, \"plugins\": [{\"type\": \"reset\"}, {\"enabled\": false, \"button\": true, \"type\": \"zoom\"}, {\"enabled\": false, \"button\": true, \"type\": \"boxzoom\"}], \"data\": {\"data01\": [[0.0, 0.0089053769], [1.0, 0.0092755212], [2.0, 0.009865149], [3.0, 0.010677286], [4.0, 0.011713741], [5.0, 0.01297502], [6.0, 0.014460217], [7.0, 0.016166904], [8.0, 0.01809102], [9.0, 0.020226746], [10.0, 0.022566374], [11.0, 0.025100151], [12.0, 0.0278161], [13.0, 0.03069982], [14.0, 0.033734263], [15.0, 0.036899501], [16.0, 0.040172496], [17.0, 0.043526913], [18.0, 0.046932991], [19.0, 0.050357558], [20.0, 0.053764224], [21.0, 0.057113839], [22.0, 0.060365281], [23.0, 0.063476639], [24.0, 0.066406811], [25.0, 0.069117499], [26.0, 0.071575518], [27.0, 0.073755242], [28.0, 0.075640929], [29.0, 0.077228618], [30.0, 0.078527273], [31.0, 0.079558896], [32.0, 0.080357466], [33.0, 0.08096676], [34.0, 0.081437304], [35.0, 0.081822876], [36.0, 0.082177102], [37.0, 0.082550646], [38.0, 0.082984574], [39.0, 0.083339148], [40.0, 0.083554673], [41.0, 0.083659389], [42.0, 0.083679768], [43.0, 0.083640228], [44.0, 0.083562868], [45.0, 0.083467209], [46.0, 0.083369957], [47.0, 0.083284779], [48.0, 0.083222109], [49.0, 0.083188997], [50.0, 0.083188997], [51.0, 0.083222109], [52.0, 0.083284779], [53.0, 0.083369957], [54.0, 0.08346721], [55.0, 0.083562868], [56.0, 0.083640229], [57.0, 0.083679769], [58.0, 0.08365939], [59.0, 0.083554673], [60.0, 0.083339148], [61.0, 0.082984575], [62.0, 0.082550647], [63.0, 0.082177103], [64.0, 0.081822876], [65.0, 0.081437304], [66.0, 0.08096676], [67.0, 0.080357464], [68.0, 0.079558893], [69.0, 0.07852727], [70.0, 0.077228614], [71.0, 0.075640924], [72.0, 0.073755237], [73.0, 0.071575513], [74.0, 0.069117493], [75.0, 0.066406806], [76.0, 0.063476635], [77.0, 0.060365277], [78.0, 0.057113835], [79.0, 0.053764221], [80.0, 0.050357556], [81.0, 0.046932989], [82.0, 0.043526911], [83.0, 0.040172495], [84.0, 0.0368995], [85.0, 0.033734262], [86.0, 0.03069982], [87.0, 0.0278161], [88.0, 0.025100151], [89.0, 0.022566374], [90.0, 0.020226746], [91.0, 0.01809102], [92.0, 0.016166904], [93.0, 0.014460217], [94.0, 0.01297502], [95.0, 0.011713741], [96.0, 0.010677286], [97.0, 0.009865149], [98.0, 0.0092755155], [99.0, 0.0089053824]]}, \"id\": \"el3184360912880\"});\n",
       "   }(mpld3);\n",
       "}else if(typeof define === \"function\" && define.amd){\n",
       "   // require.js is available: use it to load d3/mpld3\n",
       "   require.config({paths: {d3: \"https://mpld3.github.io/js/d3.v3.min\"}});\n",
       "   require([\"d3\"], function(d3){\n",
       "      window.d3 = d3;\n",
       "      mpld3_load_lib(\"https://mpld3.github.io/js/mpld3.v0.2.js\", function(){\n",
       "         \n",
       "         mpld3.draw_figure(\"fig_el31843609128803587150671\", {\"axes\": [{\"xlim\": [0.0, 100.0], \"yscale\": \"linear\", \"axesbg\": \"none\", \"texts\": [], \"zoomable\": true, \"images\": [], \"xdomain\": [0.0, 100.0], \"ylim\": [0.0, 0.089999999999999997], \"paths\": [], \"sharey\": [], \"sharex\": [], \"axesbgalpha\": null, \"axes\": [{\"scale\": \"linear\", \"tickformat\": null, \"grid\": {\"gridOn\": false}, \"fontsize\": 10.0, \"position\": \"bottom\", \"nticks\": 6, \"tickvalues\": null}, {\"scale\": \"linear\", \"tickformat\": null, \"grid\": {\"gridOn\": false}, \"fontsize\": 10.0, \"position\": \"left\", \"nticks\": 10, \"tickvalues\": null}], \"lines\": [{\"color\": \"#0000FF\", \"yindex\": 1, \"coordinates\": \"data\", \"dasharray\": \"10,0\", \"zorder\": 2, \"alpha\": 1, \"xindex\": 0, \"linewidth\": 1.0, \"data\": \"data01\", \"id\": \"el3184361780728\"}], \"markers\": [], \"id\": \"el3184360914000\", \"ydomain\": [0.0, 0.089999999999999997], \"collections\": [], \"xscale\": \"linear\", \"bbox\": [0.125, 0.125, 0.77500000000000002, 0.77500000000000002]}], \"height\": 320.0, \"width\": 480.0, \"plugins\": [{\"type\": \"reset\"}, {\"enabled\": false, \"button\": true, \"type\": \"zoom\"}, {\"enabled\": false, \"button\": true, \"type\": \"boxzoom\"}], \"data\": {\"data01\": [[0.0, 0.0089053769], [1.0, 0.0092755212], [2.0, 0.009865149], [3.0, 0.010677286], [4.0, 0.011713741], [5.0, 0.01297502], [6.0, 0.014460217], [7.0, 0.016166904], [8.0, 0.01809102], [9.0, 0.020226746], [10.0, 0.022566374], [11.0, 0.025100151], [12.0, 0.0278161], [13.0, 0.03069982], [14.0, 0.033734263], [15.0, 0.036899501], [16.0, 0.040172496], [17.0, 0.043526913], [18.0, 0.046932991], [19.0, 0.050357558], [20.0, 0.053764224], [21.0, 0.057113839], [22.0, 0.060365281], [23.0, 0.063476639], [24.0, 0.066406811], [25.0, 0.069117499], [26.0, 0.071575518], [27.0, 0.073755242], [28.0, 0.075640929], [29.0, 0.077228618], [30.0, 0.078527273], [31.0, 0.079558896], [32.0, 0.080357466], [33.0, 0.08096676], [34.0, 0.081437304], [35.0, 0.081822876], [36.0, 0.082177102], [37.0, 0.082550646], [38.0, 0.082984574], [39.0, 0.083339148], [40.0, 0.083554673], [41.0, 0.083659389], [42.0, 0.083679768], [43.0, 0.083640228], [44.0, 0.083562868], [45.0, 0.083467209], [46.0, 0.083369957], [47.0, 0.083284779], [48.0, 0.083222109], [49.0, 0.083188997], [50.0, 0.083188997], [51.0, 0.083222109], [52.0, 0.083284779], [53.0, 0.083369957], [54.0, 0.08346721], [55.0, 0.083562868], [56.0, 0.083640229], [57.0, 0.083679769], [58.0, 0.08365939], [59.0, 0.083554673], [60.0, 0.083339148], [61.0, 0.082984575], [62.0, 0.082550647], [63.0, 0.082177103], [64.0, 0.081822876], [65.0, 0.081437304], [66.0, 0.08096676], [67.0, 0.080357464], [68.0, 0.079558893], [69.0, 0.07852727], [70.0, 0.077228614], [71.0, 0.075640924], [72.0, 0.073755237], [73.0, 0.071575513], [74.0, 0.069117493], [75.0, 0.066406806], [76.0, 0.063476635], [77.0, 0.060365277], [78.0, 0.057113835], [79.0, 0.053764221], [80.0, 0.050357556], [81.0, 0.046932989], [82.0, 0.043526911], [83.0, 0.040172495], [84.0, 0.0368995], [85.0, 0.033734262], [86.0, 0.03069982], [87.0, 0.0278161], [88.0, 0.025100151], [89.0, 0.022566374], [90.0, 0.020226746], [91.0, 0.01809102], [92.0, 0.016166904], [93.0, 0.014460217], [94.0, 0.01297502], [95.0, 0.011713741], [96.0, 0.010677286], [97.0, 0.009865149], [98.0, 0.0092755155], [99.0, 0.0089053824]]}, \"id\": \"el3184360912880\"});\n",
       "      });\n",
       "    });\n",
       "}else{\n",
       "    // require.js not available: dynamically load d3 & mpld3\n",
       "    mpld3_load_lib(\"https://mpld3.github.io/js/d3.v3.min.js\", function(){\n",
       "         mpld3_load_lib(\"https://mpld3.github.io/js/mpld3.v0.2.js\", function(){\n",
       "                 \n",
       "                 mpld3.draw_figure(\"fig_el31843609128803587150671\", {\"axes\": [{\"xlim\": [0.0, 100.0], \"yscale\": \"linear\", \"axesbg\": \"none\", \"texts\": [], \"zoomable\": true, \"images\": [], \"xdomain\": [0.0, 100.0], \"ylim\": [0.0, 0.089999999999999997], \"paths\": [], \"sharey\": [], \"sharex\": [], \"axesbgalpha\": null, \"axes\": [{\"scale\": \"linear\", \"tickformat\": null, \"grid\": {\"gridOn\": false}, \"fontsize\": 10.0, \"position\": \"bottom\", \"nticks\": 6, \"tickvalues\": null}, {\"scale\": \"linear\", \"tickformat\": null, \"grid\": {\"gridOn\": false}, \"fontsize\": 10.0, \"position\": \"left\", \"nticks\": 10, \"tickvalues\": null}], \"lines\": [{\"color\": \"#0000FF\", \"yindex\": 1, \"coordinates\": \"data\", \"dasharray\": \"10,0\", \"zorder\": 2, \"alpha\": 1, \"xindex\": 0, \"linewidth\": 1.0, \"data\": \"data01\", \"id\": \"el3184361780728\"}], \"markers\": [], \"id\": \"el3184360914000\", \"ydomain\": [0.0, 0.089999999999999997], \"collections\": [], \"xscale\": \"linear\", \"bbox\": [0.125, 0.125, 0.77500000000000002, 0.77500000000000002]}], \"height\": 320.0, \"width\": 480.0, \"plugins\": [{\"type\": \"reset\"}, {\"enabled\": false, \"button\": true, \"type\": \"zoom\"}, {\"enabled\": false, \"button\": true, \"type\": \"boxzoom\"}], \"data\": {\"data01\": [[0.0, 0.0089053769], [1.0, 0.0092755212], [2.0, 0.009865149], [3.0, 0.010677286], [4.0, 0.011713741], [5.0, 0.01297502], [6.0, 0.014460217], [7.0, 0.016166904], [8.0, 0.01809102], [9.0, 0.020226746], [10.0, 0.022566374], [11.0, 0.025100151], [12.0, 0.0278161], [13.0, 0.03069982], [14.0, 0.033734263], [15.0, 0.036899501], [16.0, 0.040172496], [17.0, 0.043526913], [18.0, 0.046932991], [19.0, 0.050357558], [20.0, 0.053764224], [21.0, 0.057113839], [22.0, 0.060365281], [23.0, 0.063476639], [24.0, 0.066406811], [25.0, 0.069117499], [26.0, 0.071575518], [27.0, 0.073755242], [28.0, 0.075640929], [29.0, 0.077228618], [30.0, 0.078527273], [31.0, 0.079558896], [32.0, 0.080357466], [33.0, 0.08096676], [34.0, 0.081437304], [35.0, 0.081822876], [36.0, 0.082177102], [37.0, 0.082550646], [38.0, 0.082984574], [39.0, 0.083339148], [40.0, 0.083554673], [41.0, 0.083659389], [42.0, 0.083679768], [43.0, 0.083640228], [44.0, 0.083562868], [45.0, 0.083467209], [46.0, 0.083369957], [47.0, 0.083284779], [48.0, 0.083222109], [49.0, 0.083188997], [50.0, 0.083188997], [51.0, 0.083222109], [52.0, 0.083284779], [53.0, 0.083369957], [54.0, 0.08346721], [55.0, 0.083562868], [56.0, 0.083640229], [57.0, 0.083679769], [58.0, 0.08365939], [59.0, 0.083554673], [60.0, 0.083339148], [61.0, 0.082984575], [62.0, 0.082550647], [63.0, 0.082177103], [64.0, 0.081822876], [65.0, 0.081437304], [66.0, 0.08096676], [67.0, 0.080357464], [68.0, 0.079558893], [69.0, 0.07852727], [70.0, 0.077228614], [71.0, 0.075640924], [72.0, 0.073755237], [73.0, 0.071575513], [74.0, 0.069117493], [75.0, 0.066406806], [76.0, 0.063476635], [77.0, 0.060365277], [78.0, 0.057113835], [79.0, 0.053764221], [80.0, 0.050357556], [81.0, 0.046932989], [82.0, 0.043526911], [83.0, 0.040172495], [84.0, 0.0368995], [85.0, 0.033734262], [86.0, 0.03069982], [87.0, 0.0278161], [88.0, 0.025100151], [89.0, 0.022566374], [90.0, 0.020226746], [91.0, 0.01809102], [92.0, 0.016166904], [93.0, 0.014460217], [94.0, 0.01297502], [95.0, 0.011713741], [96.0, 0.010677286], [97.0, 0.009865149], [98.0, 0.0092755155], [99.0, 0.0089053824]]}, \"id\": \"el3184360912880\"});\n",
       "            })\n",
       "         });\n",
       "}\n",
       "</script>"
      ],
      "text/plain": [
       "<matplotlib.figure.Figure at 0x158317f0>"
      ]
     },
     "metadata": {},
     "output_type": "display_data"
    }
   ],
   "source": [
    "%matplotlib inline\n",
    "import matplotlib.pyplot as plt\n",
    "\n",
    "import numpy as np\n",
    "\n",
    "plt.plot(max_muscle_act );"
   ]
  }
 ],
 "metadata": {
  "kernelspec": {
   "display_name": "Python 2",
   "language": "python",
   "name": "python2"
  },
  "language_info": {
   "codemirror_mode": {
    "name": "ipython",
    "version": 2
   },
   "file_extension": ".py",
   "mimetype": "text/x-python",
   "name": "python",
   "nbconvert_exporter": "python",
   "pygments_lexer": "ipython2",
   "version": "2.7.9"
  }
 },
 "nbformat": 4,
 "nbformat_minor": 0
}
