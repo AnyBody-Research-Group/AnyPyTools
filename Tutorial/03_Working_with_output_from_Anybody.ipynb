{
 "metadata": {
  "name": "",
  "signature": "sha256:6d5349ea9289aec1e6c46dc5b583f840e26945ad312a1ed104e075bbaa2630be"
 },
 "nbformat": 3,
 "nbformat_minor": 0,
 "worksheets": [
  {
   "cells": [
    {
     "cell_type": "heading",
     "level": 1,
     "metadata": {},
     "source": [
      "Working with data from AnyBody"
     ]
    },
    {
     "cell_type": "markdown",
     "metadata": {},
     "source": [
      "There are several ways to output data from AnyBody. The prvious tutorials used the 'Dump' classoperaiton to export specific variables from in a macro command. Another option is to have AnyBody write specific variables to a file by adding the 'AnyOutputFile' class to the AnyBody model."
     ]
    },
    {
     "cell_type": "heading",
     "level": 2,
     "metadata": {},
     "source": [
      "Working with AnyOutputFiles"
     ]
    },
    {
     "cell_type": "markdown",
     "metadata": {},
     "source": [
      "To come..."
     ]
    },
    {
     "cell_type": "heading",
     "level": 2,
     "metadata": {},
     "source": [
      "Working with HDF5 fiels"
     ]
    },
    {
     "cell_type": "markdown",
     "metadata": {},
     "source": [
      "Sometimes, it can be convenient to save the entire model along with all its data (although this can be several hundred megabytes). It is useful if we later want to analyse other output variables from the model. It can also be useful if we want to load the data in the GUI application and replay the result.\n",
      "\n",
      "AnyBody has a feature to save the output of a study to a HDF5 file. And like most things in AnyBody, this can also be done with a macro command. \n",
      "\n",
      "Let us try this with the model from the previous tutorials."
     ]
    },
    {
     "cell_type": "code",
     "collapsed": false,
     "input": [
      "macrolist = [[\n",
      "  'load \"Knee.any\"',\n",
      "  'operation Main.MyStudy.Kinematics',\n",
      "  'run',\n",
      "  'classoperation Main.MyStudy.Output \"Save data\" --type=\"Deep\" --file=\"output.anydata.h5\"',\n",
      "  'exit']] "
     ],
     "language": "python",
     "metadata": {},
     "outputs": [],
     "prompt_number": 1
    },
    {
     "cell_type": "markdown",
     "metadata": {},
     "source": [
      " Here we have added a `Save data` classoperation to the macro. "
     ]
    },
    {
     "cell_type": "code",
     "collapsed": false,
     "input": [
      "from anypytools.abcutils import AnyPyProcess \n",
      "app = AnyPyProcess()\n",
      "\n",
      "app.start_macro(macrolist);"
     ],
     "language": "python",
     "metadata": {},
     "outputs": [
      {
       "output_type": "stream",
       "stream": "stdout",
       "text": [
        "\r",
        " [****************100%******************]  1 of 1 complete"
       ]
      },
      {
       "output_type": "stream",
       "stream": "stdout",
       "text": [
        "\n",
        "Total time: 4 seconds\n"
       ]
      }
     ],
     "prompt_number": 2
    },
    {
     "cell_type": "markdown",
     "metadata": {},
     "source": [
      "The data stored in the file **output.anydata.h5** can be re-loaded in the AnyBody GUI application. To do this; load the model, then right click the `Main.MyStudy.Output` folder and select \"Load data\". \n",
      "\n",
      "Moreover, since we set **`type=\"Deep\"`** in the macro we can also load the data into external programs, e.g. Matlab or python. In python this is done using the *`h5py`* module"
     ]
    },
    {
     "cell_type": "code",
     "collapsed": false,
     "input": [
      "import numpy as np\n",
      "import h5py\n",
      "\n",
      "h5file = h5py.File('output.anydata.h5')\n",
      "data = np.array( h5file['/Output/MomentArm'] )\n",
      "h5file.close()\n",
      "print(data)"
     ],
     "language": "python",
     "metadata": {},
     "outputs": [
      {
       "output_type": "stream",
       "stream": "stdout",
       "text": [
        "[ 0.03517107  0.03518544  0.03522538  0.03529129  0.03538355  0.03550231\n",
        "  0.03564761  0.03581929  0.03601707  0.03624048  0.03648895  0.03676178\n",
        "  0.03705816  0.03737724  0.03771812  0.03807991  0.03846173  0.03886281\n",
        "  0.03928244  0.03972002  0.0401751   0.04064731  0.04113638  0.04164206\n",
        "  0.04216406  0.04270195  0.04325503  0.04382223  0.04440197  0.04499208\n",
        "  0.04558969  0.04619126  0.04679259  0.04738895  0.04797527  0.04854637\n",
        "  0.0490972   0.04962319  0.05012044  0.0505859   0.051017    0.0514114\n",
        "  0.05176698  0.0520819   0.05235456  0.05258365  0.05276812  0.05290715\n",
        "  0.05300015  0.05304675  0.05304675  0.05300015  0.05290715  0.05276812\n",
        "  0.05258365  0.05235456  0.0520819   0.05176698  0.0514114   0.051017\n",
        "  0.0505859   0.05012044  0.04962319  0.0490972   0.04854637  0.04797527\n",
        "  0.04738895  0.04679259  0.04619126  0.04558969  0.04499208  0.04440197\n",
        "  0.04382223  0.04325503  0.04270195  0.04216406  0.04164206  0.04113638\n",
        "  0.04064731  0.0401751   0.03972002  0.03928244  0.03886281  0.03846173\n",
        "  0.03807991  0.03771812  0.03737724  0.03705816  0.03676178  0.03648895\n",
        "  0.03624048  0.03601707  0.03581929  0.03564761  0.03550231  0.03538355\n",
        "  0.03529129  0.03522538  0.03518546  0.03517104]\n"
       ]
      }
     ],
     "prompt_number": 4
    },
    {
     "cell_type": "markdown",
     "metadata": {},
     "source": [
      "The data structure of the HDF5 files can unfortunately be very confusing. AnyBody does not save duplicate copies of the same data. If there are multiple references to the same folder, only one will be present in the HDF5 file. \n",
      "In our model `Knee.any` we have a reference to the **`Knee`** joint folder just before the **`Model`** folder in the study section. Thus, all variables inside the **`Knee`** folder cannot be accessed with the path '/Output/Model/Knee/...', but only through the path of the reference '/Output/kneeref/...'.\n",
      "\n",
      "We can see the problem in the following code snippet:"
     ]
    },
    {
     "cell_type": "code",
     "collapsed": false,
     "input": [
      "with h5py.File('output.anydata.h5') as f:\n",
      "    print( '/Output/Model/Knee/Pos' in f )\n",
      "    print( '/Output/kneeref/Pos' in f )\n"
     ],
     "language": "python",
     "metadata": {},
     "outputs": [
      {
       "output_type": "stream",
       "stream": "stdout",
       "text": [
        "False\n",
        "True\n"
       ]
      }
     ],
     "prompt_number": 5
    },
    {
     "cell_type": "markdown",
     "metadata": {},
     "source": [
      "This makes it difficult to find the correct path in large models with many references. AnyPyTools contains a wrapper for the h5py module, which automatically locates the right data, no matter what path is used. Using this module, we can easily locate the data. "
     ]
    },
    {
     "cell_type": "code",
     "collapsed": false,
     "input": [
      "import anypytools.h5py_wrapper as h5py2\n",
      "with h5py2.File('output.anydata.h5') as f:\n",
      "    print( '/Output/Model/Knee/Pos' in f )\n",
      "    print( '/Output/kneeref/Pos' in f )"
     ],
     "language": "python",
     "metadata": {},
     "outputs": [
      {
       "output_type": "stream",
       "stream": "stdout",
       "text": [
        "True\n",
        "True\n"
       ]
      }
     ],
     "prompt_number": 6
    },
    {
     "cell_type": "markdown",
     "metadata": {},
     "source": [
      "The h5py wrapper will also let us use the AnyScript variable names directly so we don't have to replace every . (dot) with a / (slash), and remove the stuff before the Output folder. "
     ]
    },
    {
     "cell_type": "code",
     "collapsed": false,
     "input": [
      "with h5py2.File('output.anydata.h5') as f:\n",
      "    momentarm = np.array(f['Output.MomentArm'] )                   # dot notation\n",
      "    kneeangle = np.array(f['Main.MyStudy.Output.Model.Knee.Pos'] ) # dot notation with full path\n",
      "    "
     ],
     "language": "python",
     "metadata": {},
     "outputs": []
    },
    {
     "cell_type": "code",
     "collapsed": false,
     "input": [
      "%matplotlib inline\n",
      "import matplotlib.pyplot as plt\n",
      "\n",
      "plt.plot(np.degrees(kneeangle),100*momentarm)\n",
      "plt.xlabel('Knee flexion (deg)')\n",
      "plt.ylabel('Moment arm (cm)');"
     ],
     "language": "python",
     "metadata": {},
     "outputs": [
      {
       "metadata": {},
       "output_type": "display_data",
       "png": "[encoded data removed]",
       "text": [
        "<matplotlib.figure.Figure at 0x63c83c8>"
       ]
      }
     ],
     "prompt_number": 8
    },
    {
     "cell_type": "code",
     "collapsed": false,
     "input": [],
     "language": "python",
     "metadata": {},
     "outputs": []
    }
   ],
   "metadata": {}
  }
 ]
}