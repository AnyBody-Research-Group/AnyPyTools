{
 "cells": [
  {
   "cell_type": "code",
   "execution_count": 1,
   "metadata": {
    "collapsed": true
   },
   "outputs": [],
   "source": [
    "from anypytools import AnyPyProcess\n",
    "from anypytools.macroutils import (Macros, MacroCommand, Load, SetValue, \n",
    "                                    Dump, SaveDesign, LoadDesign, SaveValues, \n",
    "                                    LoadValues, UpdateValues, OperationRun)\n"
   ]
  },
  {
   "cell_type": "code",
   "execution_count": 2,
   "metadata": {
    "collapsed": false
   },
   "outputs": [],
   "source": [
    "macros = Macros( [Load('Knee.any'),\n",
    "                 OperationRun('Main.MyStudy.InverseDynamics'),\n",
    "                 Dump('Main.MyStudy.Output.MaxMuscleActivity')],\n",
    "                 number_of_macros=2 )\n"
   ]
  },
  {
   "cell_type": "code",
   "execution_count": 3,
   "metadata": {
    "collapsed": false
   },
   "outputs": [
    {
     "data": {
      "text/plain": [
       "[['load \"Knee.any\"',\n",
       "  'operation Main.MyStudy.InverseDynamics',\n",
       "  'run',\n",
       "  'classoperation Main.MyStudy.Output.MaxMuscleActivity \"Dump\"'],\n",
       " ['load \"Knee.any\"',\n",
       "  'operation Main.MyStudy.InverseDynamics',\n",
       "  'run',\n",
       "  'classoperation Main.MyStudy.Output.MaxMuscleActivity \"Dump\"']]"
      ]
     },
     "execution_count": 3,
     "metadata": {},
     "output_type": "execute_result"
    }
   ],
   "source": [
    "macros"
   ]
  },
  {
   "cell_type": "code",
   "execution_count": 4,
   "metadata": {
    "collapsed": false
   },
   "outputs": [
    {
     "name": "stdout",
     "output_type": "stream",
     "text": [
      "\r",
      " [****************100%******************]  2 of 2 complete"
     ]
    },
    {
     "data": {
      "text/html": [
       "<pre>Total time: 0.8 seconds</pre>"
      ],
      "text/plain": [
       "<IPython.core.display.HTML object>"
      ]
     },
     "metadata": {},
     "output_type": "display_data"
    }
   ],
   "source": [
    "from anypytools.abcutils import AnyPyProcess \n",
    "app = AnyPyProcess()\n",
    "\n",
    "output = app.start_macro( macros )"
   ]
  },
  {
   "cell_type": "code",
   "execution_count": 5,
   "metadata": {
    "collapsed": false
   },
   "outputs": [
    {
     "data": {
      "text/plain": [
       "[['classoperation Main.MyParameter \"Set Value\" --value=\"2.2\"'],\n",
       " ['classoperation Main.MyParameter \"Set Value\" --value=\"2.5\"'],\n",
       " ['classoperation Main.MyParameter \"Set Value\" --value=\"2.7\"'],\n",
       " ['classoperation Main.MyParameter \"Set Value\" --value=\"2.9\"'],\n",
       " ['classoperation Main.MyParameter \"Set Value\" --value=\"3.1\"']]"
      ]
     },
     "execution_count": 5,
     "metadata": {},
     "output_type": "execute_result"
    }
   ],
   "source": [
    "parameter_list = [2.2, 2.5, 2.7, 2.9, 3.1]\n",
    "\n",
    "mg = Macros([SetValue('Main.MyParameter', parameter_list)],\n",
    "            number_of_macros=5)\n",
    "mg"
   ]
  },
  {
   "cell_type": "code",
   "execution_count": 6,
   "metadata": {
    "collapsed": false
   },
   "outputs": [
    {
     "name": "stdout",
     "output_type": "stream",
     "text": [
      "[0.02, 0.03, 0.04, 0.05, 0.06, 0.07, 0.08]\n"
     ]
    }
   ],
   "source": [
    "patella_tendon_lengths = [0.02 + i*0.01 for i in range(7)]\n",
    "print(patella_tendon_lengths)"
   ]
  },
  {
   "cell_type": "code",
   "execution_count": 7,
   "metadata": {
    "collapsed": false
   },
   "outputs": [],
   "source": [
    "mg = Macros( [Load('Knee.any'),\n",
    "              SetValue('Main.MyModel.PatellaLigament.DriverPos', patella_tendon_lengths),\n",
    "              OperationRun('Main.MyStudy.InverseDynamics'),\n",
    "              Dump('Main.MyStudy.Output.MaxMuscleActivity'),\n",
    "              Dump('Main.MyModel.PatellaLigament.DriverPos{id}')\n",
    "             ]\n",
    "            ,number_of_macros = len(patella_tendon_lengths),\n",
    "             counter_token = '{id}')\n"
   ]
  },
  {
   "cell_type": "code",
   "execution_count": 8,
   "metadata": {
    "collapsed": false
   },
   "outputs": [
    {
     "data": {
      "text/plain": [
       "[['load \"Knee.any\"',\n",
       "  'classoperation Main.MyModel.PatellaLigament.DriverPos \"Set Value\" --value=\"0.02\"',\n",
       "  'operation Main.MyStudy.InverseDynamics',\n",
       "  'run',\n",
       "  'classoperation Main.MyStudy.Output.MaxMuscleActivity \"Dump\"',\n",
       "  'classoperation Main.MyModel.PatellaLigament.DriverPos0 \"Dump\"'],\n",
       " ['load \"Knee.any\"',\n",
       "  'classoperation Main.MyModel.PatellaLigament.DriverPos \"Set Value\" --value=\"0.03\"',\n",
       "  'operation Main.MyStudy.InverseDynamics',\n",
       "  'run',\n",
       "  'classoperation Main.MyStudy.Output.MaxMuscleActivity \"Dump\"',\n",
       "  'classoperation Main.MyModel.PatellaLigament.DriverPos1 \"Dump\"'],\n",
       " ['load \"Knee.any\"',\n",
       "  'classoperation Main.MyModel.PatellaLigament.DriverPos \"Set Value\" --value=\"0.04\"',\n",
       "  'operation Main.MyStudy.InverseDynamics',\n",
       "  'run',\n",
       "  'classoperation Main.MyStudy.Output.MaxMuscleActivity \"Dump\"',\n",
       "  'classoperation Main.MyModel.PatellaLigament.DriverPos2 \"Dump\"'],\n",
       " ['load \"Knee.any\"',\n",
       "  'classoperation Main.MyModel.PatellaLigament.DriverPos \"Set Value\" --value=\"0.05\"',\n",
       "  'operation Main.MyStudy.InverseDynamics',\n",
       "  'run',\n",
       "  'classoperation Main.MyStudy.Output.MaxMuscleActivity \"Dump\"',\n",
       "  'classoperation Main.MyModel.PatellaLigament.DriverPos3 \"Dump\"'],\n",
       " ['load \"Knee.any\"',\n",
       "  'classoperation Main.MyModel.PatellaLigament.DriverPos \"Set Value\" --value=\"0.06\"',\n",
       "  'operation Main.MyStudy.InverseDynamics',\n",
       "  'run',\n",
       "  'classoperation Main.MyStudy.Output.MaxMuscleActivity \"Dump\"',\n",
       "  'classoperation Main.MyModel.PatellaLigament.DriverPos4 \"Dump\"'],\n",
       " ['load \"Knee.any\"',\n",
       "  'classoperation Main.MyModel.PatellaLigament.DriverPos \"Set Value\" --value=\"0.07\"',\n",
       "  'operation Main.MyStudy.InverseDynamics',\n",
       "  'run',\n",
       "  'classoperation Main.MyStudy.Output.MaxMuscleActivity \"Dump\"',\n",
       "  'classoperation Main.MyModel.PatellaLigament.DriverPos5 \"Dump\"'],\n",
       " ['load \"Knee.any\"',\n",
       "  'classoperation Main.MyModel.PatellaLigament.DriverPos \"Set Value\" --value=\"0.08\"',\n",
       "  'operation Main.MyStudy.InverseDynamics',\n",
       "  'run',\n",
       "  'classoperation Main.MyStudy.Output.MaxMuscleActivity \"Dump\"',\n",
       "  'classoperation Main.MyModel.PatellaLigament.DriverPos6 \"Dump\"']]"
      ]
     },
     "execution_count": 8,
     "metadata": {},
     "output_type": "execute_result"
    }
   ],
   "source": [
    "mg"
   ]
  },
  {
   "cell_type": "code",
   "execution_count": null,
   "metadata": {
    "collapsed": true
   },
   "outputs": [],
   "source": []
  }
 ],
 "metadata": {
  "kernelspec": {
   "display_name": "Python 2",
   "language": "python",
   "name": "python2"
  },
  "language_info": {
   "codemirror_mode": {
    "name": "ipython",
    "version": 2
   },
   "file_extension": ".py",
   "mimetype": "text/x-python",
   "name": "python",
   "nbconvert_exporter": "python",
   "pygments_lexer": "ipython2",
   "version": "2.7.9"
  }
 },
 "nbformat": 4,
 "nbformat_minor": 0
}
