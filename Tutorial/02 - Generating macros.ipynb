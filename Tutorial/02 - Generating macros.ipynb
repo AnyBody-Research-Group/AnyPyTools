{
 "metadata": {
  "name": "",
  "signature": "sha256:e114809dfc2cb17ae415cf9115845efe3a681e0d8735b0c56fb371554e36ccef"
 },
 "nbformat": 3,
 "nbformat_minor": 0,
 "worksheets": [
  {
   "cells": [
    {
     "cell_type": "heading",
     "level": 1,
     "metadata": {},
     "source": [
      "Automatic construction of AnyScript macros"
     ]
    },
    {
     "cell_type": "markdown",
     "metadata": {},
     "source": [
      "The `generate_macros` packages contains tools to programtically write AnyBody macros. This simplifies the process of writing complex macros and makes it easier to do parameter studies. \n",
      "\n",
      "The package is imported with the following statement"
     ]
    },
    {
     "cell_type": "code",
     "collapsed": false,
     "input": [
      "from anypytools.generate_macros import MacroGenerator"
     ],
     "language": "python",
     "metadata": {},
     "outputs": [],
     "prompt_number": 11
    },
    {
     "cell_type": "markdown",
     "metadata": {},
     "source": [
      "The `MacroGenerator` class has methods for many of the standard AnyScipt macro commands.\n",
      "\n",
      "- `add_load(mainfile, defines, paths)`: load command\n",
      "- `add_run_operation(var)`: select operation and run  \n",
      "- `add_dump(var)`: classoperation \"Dump\"\n",
      "- `add_load_design(var, filename)`: classoperation \"Load design\" \n",
      "- `add_save_design(var, filename)`: classoperation \"Save design\" \n",
      "- `add_load_values(filename)`: classoperation Main \"Load Values\" \n",
      "- `add_save_values(filename)`: classoperation Main \"Save Values\"\n",
      "- `add_update_values()`: classoperation \"Update Values\"\n",
      "- `add_set_value(var,value)`: classoperation \"Set Value\" \n",
      "- `add_macro(macro)`: Add any macro string"
     ]
    },
    {
     "cell_type": "heading",
     "level": 2,
     "metadata": {},
     "source": [
      "Generate a macro"
     ]
    },
    {
     "cell_type": "markdown",
     "metadata": {},
     "source": [
      "This following example show how to construct a very simple macro:"
     ]
    },
    {
     "cell_type": "code",
     "collapsed": false,
     "input": [
      "mg = MacroGenerator()\n",
      "\n",
      "mg.add_load('Knee.any')\n",
      "mg.add_run_operation('Main.MyStudy.InverseDynamics')\n",
      "mg.add_dump('Main.MyStudy.Output.MaxMuscleActivity')\n",
      "macro  = mg.generate_macros()\n",
      "\n",
      "macro"
     ],
     "language": "python",
     "metadata": {},
     "outputs": [
      {
       "metadata": {},
       "output_type": "pyout",
       "prompt_number": 12,
       "text": [
        "[[u'load \"Knee.any\"',\n",
        "  u'operation Main.MyStudy.InverseDynamics',\n",
        "  u'run',\n",
        "  u'classoperation Main.MyStudy.Output.MaxMuscleActivity \"Dump\"']]"
       ]
      }
     ],
     "prompt_number": 12
    },
    {
     "cell_type": "markdown",
     "metadata": {},
     "source": [
      "We use the AnyPyProcess class to launch the macro"
     ]
    },
    {
     "cell_type": "code",
     "collapsed": false,
     "input": [
      "from anypytools.abcutils import AnyPyProcess \n",
      "app = AnyPyProcess()\n",
      "\n",
      "output = app.start_macro( macro )"
     ],
     "language": "python",
     "metadata": {},
     "outputs": [
      {
       "output_type": "stream",
       "stream": "stdout",
       "text": [
        "\r",
        " [****************100%******************]  1 of 1 complete"
       ]
      },
      {
       "output_type": "stream",
       "stream": "stdout",
       "text": [
        "\n"
       ]
      },
      {
       "html": [
        "Total time: 3 seconds"
       ],
       "metadata": {},
       "output_type": "display_data",
       "text": [
        "<IPython.core.display.HTML at 0xa1fd0f0>"
       ]
      }
     ],
     "prompt_number": 13
    },
    {
     "cell_type": "heading",
     "level": 2,
     "metadata": {},
     "source": [
      "Creating many macros"
     ]
    },
    {
     "cell_type": "markdown",
     "metadata": {},
     "source": [
      "The former macro could easily have been written manually. In some cases we want to create many macros. Then it is an big advantage to generate them programmatically. \n",
      "\n",
      "The `MacroGenerator` class have an argument which specifies how many macros to generate."
     ]
    },
    {
     "cell_type": "code",
     "collapsed": false,
     "input": [
      "mg = MacroGenerator(number_of_macros=5)\n",
      "\n",
      "mg.add_load('Knee.any')\n",
      "mg.add_run_operation('Main.MyStudy.InverseDynamics')\n",
      "macro_list = mg.generate_macros()\n",
      "macro_list"
     ],
     "language": "python",
     "metadata": {},
     "outputs": [
      {
       "metadata": {},
       "output_type": "pyout",
       "prompt_number": 14,
       "text": [
        "[[u'load \"Knee.any\"', u'operation Main.MyStudy.InverseDynamics', u'run'],\n",
        " [u'load \"Knee.any\"', u'operation Main.MyStudy.InverseDynamics', u'run'],\n",
        " [u'load \"Knee.any\"', u'operation Main.MyStudy.InverseDynamics', u'run'],\n",
        " [u'load \"Knee.any\"', u'operation Main.MyStudy.InverseDynamics', u'run'],\n",
        " [u'load \"Knee.any\"', u'operation Main.MyStudy.InverseDynamics', u'run']]"
       ]
      }
     ],
     "prompt_number": 14
    },
    {
     "cell_type": "markdown",
     "metadata": {},
     "source": [
      "This list of macros can also be passed to the 'start_macro' function to executed in parallel. "
     ]
    },
    {
     "cell_type": "code",
     "collapsed": false,
     "input": [
      "output = app.start_macro( macro_list )"
     ],
     "language": "python",
     "metadata": {},
     "outputs": [
      {
       "output_type": "stream",
       "stream": "stdout",
       "text": [
        "\r",
        " [****************100%******************]  5 of 5 complete"
       ]
      },
      {
       "output_type": "stream",
       "stream": "stdout",
       "text": [
        "\n"
       ]
      },
      {
       "html": [
        "Total time: 5 seconds"
       ],
       "metadata": {},
       "output_type": "display_data",
       "text": [
        "<IPython.core.display.HTML at 0xa2e3f98>"
       ]
      }
     ],
     "prompt_number": 15
    },
    {
     "cell_type": "markdown",
     "metadata": {},
     "source": [
      "Naturally, it only makes sense if the macros are different. Some methods, like `add_set_value()`, accepts lists of values which is then distributed across the generated macros. \n",
      "\n",
      "Imagine a list of 5 parameters. We want to create five macros that uses these values:"
     ]
    },
    {
     "cell_type": "code",
     "collapsed": false,
     "input": [
      "parameter_list = [2.2, 2.5, 2.7, 2.9, 3.1]\n",
      "\n",
      "mg = MacroGenerator(number_of_macros=5)\n",
      "mg.add_set_value('Main.MyParameter',parameter_list )\n",
      "mg.generate_macros()"
     ],
     "language": "python",
     "metadata": {},
     "outputs": [
      {
       "metadata": {},
       "output_type": "pyout",
       "prompt_number": 16,
       "text": [
        "[[u'classoperation Main.MyParameter \"Set Value\" --value=\"2.2\"'],\n",
        " [u'classoperation Main.MyParameter \"Set Value\" --value=\"2.5\"'],\n",
        " [u'classoperation Main.MyParameter \"Set Value\" --value=\"2.7\"'],\n",
        " [u'classoperation Main.MyParameter \"Set Value\" --value=\"2.9\"'],\n",
        " [u'classoperation Main.MyParameter \"Set Value\" --value=\"3.1\"']]"
       ]
      }
     ],
     "prompt_number": 16
    },
    {
     "cell_type": "heading",
     "level": 2,
     "metadata": {},
     "source": [
      "A simple parameter study"
     ]
    },
    {
     "cell_type": "markdown",
     "metadata": {},
     "source": [
      "Let us combine the previous to create a parameter study. We will continue with the simplified knee model where we left of in the [previous tutorial](01 - Getting started with anypytools.ipynb#Getting-data-from-the-AnyBody-Model). The parameter study will vary the patella tendon length from 2.0cm to 8.0cm, and observe the effect on maximum muscle activity.\n",
      "\n",
      "First we create a list of patella length parameters. "
     ]
    },
    {
     "cell_type": "code",
     "collapsed": false,
     "input": [
      "patella_tendon_lengths = [0.02+ i*0.01 for i in range(7)]\n",
      "print(patella_tendon_lengths)"
     ],
     "language": "python",
     "metadata": {},
     "outputs": [
      {
       "output_type": "stream",
       "stream": "stdout",
       "text": [
        "[0.02, 0.03, 0.04, 0.05, 0.06, 0.07, 0.08]\n"
       ]
      }
     ],
     "prompt_number": 18
    },
    {
     "cell_type": "markdown",
     "metadata": {},
     "source": [
      "This list of values is addded to the macros with the `add_set_value()` method. "
     ]
    },
    {
     "cell_type": "code",
     "collapsed": false,
     "input": [
      "mg = MacroGenerator( number_of_macros = len(patella_tendon_lengths) )\n",
      "mg.add_load('Knee.any')\n",
      "mg.add_set_value('Main.MyModel.PatellaLigament.DriverPos', patella_tendon_lengths )\n",
      "mg.add_run_operation('Main.MyStudy.InverseDynamics')\n",
      "mg.add_dump('Main.MyStudy.Output.MaxMuscleActivity')"
     ],
     "language": "python",
     "metadata": {},
     "outputs": [],
     "prompt_number": 19
    },
    {
     "cell_type": "markdown",
     "metadata": {},
     "source": [
      "We can now run the model and analyze the resulting maximum muscle activity by plotting the data in the `output` variable:"
     ]
    },
    {
     "cell_type": "code",
     "collapsed": false,
     "input": [
      "output = app.start_macro( mg.generate_macros() )"
     ],
     "language": "python",
     "metadata": {},
     "outputs": [
      {
       "output_type": "stream",
       "stream": "stdout",
       "text": [
        "\r",
        " [****************100%******************]  7 of 7 complete"
       ]
      },
      {
       "output_type": "stream",
       "stream": "stdout",
       "text": [
        "\n"
       ]
      },
      {
       "html": [
        "Total time: 7 seconds"
       ],
       "metadata": {},
       "output_type": "display_data",
       "text": [
        "<IPython.core.display.HTML at 0xa2e3c50>"
       ]
      }
     ],
     "prompt_number": 20
    },
    {
     "cell_type": "code",
     "collapsed": false,
     "input": [
      "%matplotlib inline\n",
      "import matplotlib.pyplot as plt\n",
      "from plotly import plotly\n",
      "\n",
      "for i, result in enumerate( output ):\n",
      "    maxact = result['Main.MyStudy.Output.MaxMuscleActivity']\n",
      "    plt.plot(maxact, label='{:.1f} cm'.format(100*patella_tendon_lengths[i]) )\n",
      "\n",
      "plt.title('Effect of changing patella tendon length')    \n",
      "plt.xlabel('Time steps')\n",
      "plt.ylabel('Max muscle activity')\n",
      "plt.legend(bbox_to_anchor=(1.05, 1), loc=2);"
     ],
     "language": "python",
     "metadata": {},
     "outputs": [
      {
       "metadata": {},
       "output_type": "display_data",
       "png": "[encoded data removed]",
       "text": [
        "<matplotlib.figure.Figure at 0xa1fdb00>"
       ]
      }
     ],
     "prompt_number": 32
    }
   ],
   "metadata": {}
  }
 ]
}