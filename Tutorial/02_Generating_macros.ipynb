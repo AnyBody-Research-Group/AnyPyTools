{
 "cells": [
  {
   "cell_type": "markdown",
   "metadata": {},
   "source": [
    "# Creating AnyScript Macros"
   ]
  },
  {
   "cell_type": "markdown",
   "metadata": {},
   "source": [
    "AnyPyTools can create AnyScript macros automatically. Doing so simplifies the process of writing complex macros and makes it easier to do things like parameter studies, Monte Carlo simulation, etc.  \n",
    "\n",
    "There is a class for every macro command:"
   ]
  },
  {
   "cell_type": "code",
   "execution_count": 1,
   "metadata": {
    "collapsed": false
   },
   "outputs": [],
   "source": [
    "from anypytools.macro_commands import ( MacroCommand, Load, SetValue, SetValue_random,  Dump, SaveDesign,\n",
    "                                        LoadDesign, SaveValues, LoadValues, UpdateValues, OperationRun)"
   ]
  },
  {
   "cell_type": "markdown",
   "metadata": {},
   "source": [
    "### A quick example"
   ]
  },
  {
   "cell_type": "markdown",
   "metadata": {},
   "source": [
    "The following shows how the to generate a simple macro."
   ]
  },
  {
   "cell_type": "code",
   "execution_count": 2,
   "metadata": {
    "collapsed": false
   },
   "outputs": [
    {
     "data": {
      "text/plain": [
       "[load \"Knee.any\" -def SUBJECT=---\"\\\"S02\\\"\" -def TRIAL=---\"\\\"T04\\\"\",\n",
       " operation Main.MyStudy.InverseDynamics\n",
       " run,\n",
       " classoperation Main.MyStudy.Output.MaxMuscleActivity \"Dump\"]"
      ]
     },
     "execution_count": 2,
     "metadata": {},
     "output_type": "execute_result"
    }
   ],
   "source": [
    "macrolist = [ Load('Knee.any', defs = {'SUBJECT':'\"S02\"','TRIAL':'\"T04\"' }),\n",
    "              OperationRun('Main.MyStudy.InverseDynamics'),\n",
    "              Dump('Main.MyStudy.Output.MaxMuscleActivity')] \n",
    "macrolist "
   ]
  },
  {
   "cell_type": "markdown",
   "metadata": {},
   "source": [
    "Each macro object will generate the macro commands with the correct syntax.\n",
    "The macro can be launched using the `start_macro()` method of  the `AnyPyProcess`  object.\n"
   ]
  },
  {
   "cell_type": "code",
   "execution_count": 3,
   "metadata": {
    "collapsed": false
   },
   "outputs": [
    {
     "name": "stdout",
     "output_type": "stream",
     "text": [
      "[****************100%******************]  1 of 1 complete"
     ]
    },
    {
     "data": {
      "text/html": [
       "<pre>Total time: 0.5 seconds</pre>"
      ],
      "text/plain": [
       "<IPython.core.display.HTML object>"
      ]
     },
     "metadata": {},
     "output_type": "display_data"
    }
   ],
   "source": [
    "from anypytools import AnyPyProcess\n",
    "app = AnyPyProcess()\n",
    "app.start_macro(macrolist);"
   ]
  },
  {
   "cell_type": "markdown",
   "metadata": {},
   "source": [
    "### Overview of macro commands\n",
    "The `macro_commands` module have classes for generating many of the standard AnyScipt macro commands.\n",
    "\n",
    "- `Load(mainfile, defines, paths)`: load command\n",
    "- `OperationRun(var)`: select operation and run  \n",
    "- `Dump(var)`: classoperation \"Dump\"\n",
    "- `LoadDesign(var, filename)`: classoperation \"Load design\" \n",
    "- `SaveDesign(var, filename)`: classoperation \"Save design\" \n",
    "- `LoadValues(filename)`: classoperation Main \"Load Values\" \n",
    "- `SaveValues(filename)`: classoperation Main \"Save Values\"\n",
    "- `UpdateValues()`: classoperation \"Update Values\"\n",
    "- `SetValue(var,value)`: classoperation \"Set Value\" \n",
    "- `MacroCommand(macro_string)`: Add abitrary macro string"
   ]
  },
  {
   "cell_type": "markdown",
   "metadata": {},
   "source": [
    "### Creating many macros"
   ]
  },
  {
   "cell_type": "markdown",
   "metadata": {},
   "source": [
    "The macro in the previous example would have been easy to write manually. However, in some cases we want to create many macros. Then it is a big advantage to generate them programmatically. \n",
    "\n",
    "To generate many macros we need an extra class `AnyMacro` to wrap our macro list.\n"
   ]
  },
  {
   "cell_type": "code",
   "execution_count": 4,
   "metadata": {
    "collapsed": false
   },
   "outputs": [
    {
     "data": {
      "text/plain": [
       "[['load \"Knee.any\"', 'operation Main.MyStudy.InverseDynamics', 'run']]"
      ]
     },
     "execution_count": 4,
     "metadata": {},
     "output_type": "execute_result"
    }
   ],
   "source": [
    "from anypytools import AnyMacro\n",
    "\n",
    "macrolist = [ Load('Knee.any' ),\n",
    "              OperationRun('Main.MyStudy.InverseDynamics') ] \n",
    "\n",
    "mg = AnyMacro(macrolist)\n",
    "mg"
   ]
  },
  {
   "cell_type": "markdown",
   "metadata": {},
   "source": [
    "By default `AnyMacro` just behaves as a container for our macro. But has additional attributes that specify how many macros we want. "
   ]
  },
  {
   "cell_type": "code",
   "execution_count": 5,
   "metadata": {
    "collapsed": false
   },
   "outputs": [
    {
     "data": {
      "text/plain": [
       "[['load \"Knee.any\"', 'operation Main.MyStudy.InverseDynamics', 'run'],\n",
       " ['load \"Knee.any\"', 'operation Main.MyStudy.InverseDynamics', 'run'],\n",
       " ['load \"Knee.any\"', 'operation Main.MyStudy.InverseDynamics', 'run'],\n",
       " ['load \"Knee.any\"', 'operation Main.MyStudy.InverseDynamics', 'run'],\n",
       " ['load \"Knee.any\"', 'operation Main.MyStudy.InverseDynamics', 'run']]"
      ]
     },
     "execution_count": 5,
     "metadata": {},
     "output_type": "execute_result"
    }
   ],
   "source": [
    "mg = AnyMacro(macrolist, number_of_macros = 5)\n",
    "mg"
   ]
  },
  {
   "cell_type": "markdown",
   "metadata": {},
   "source": [
    "This can also be overidden when calling its `create_macros()` function"
   ]
  },
  {
   "cell_type": "code",
   "execution_count": 6,
   "metadata": {
    "collapsed": false
   },
   "outputs": [
    {
     "data": {
      "text/plain": [
       "[[u'load \"Knee.any\"', u'operation Main.MyStudy.InverseDynamics', u'run'],\n",
       " [u'load \"Knee.any\"', u'operation Main.MyStudy.InverseDynamics', u'run']]"
      ]
     },
     "execution_count": 6,
     "metadata": {},
     "output_type": "execute_result"
    }
   ],
   "source": [
    "mg.create_macros(2)"
   ]
  },
  {
   "cell_type": "markdown",
   "metadata": {},
   "source": [
    "This list of macros can also be passed to the 'start_macro' function to executed in parallel. "
   ]
  },
  {
   "cell_type": "code",
   "execution_count": 7,
   "metadata": {
    "collapsed": false
   },
   "outputs": [
    {
     "name": "stdout",
     "output_type": "stream",
     "text": [
      "[****************100%******************]  100 of 100 complete"
     ]
    },
    {
     "data": {
      "text/html": [
       "<pre>Total time: 4.6 seconds</pre>"
      ],
      "text/plain": [
       "<IPython.core.display.HTML object>"
      ]
     },
     "metadata": {},
     "output_type": "display_data"
    }
   ],
   "source": [
    "from anypytools import AnyPyProcess\n",
    "app = AnyPyProcess(anybodycon_path=\"C:/Program Files/AnyBody Technology/AnyBody.6.0/anybodycon.exe\")\n",
    "output = app.start_macro( mg.create_macros(100) )"
   ]
  },
  {
   "cell_type": "markdown",
   "metadata": {},
   "source": [
    "Running many macros is only really useful if the macros are different. Some macros classes, like `SetValue()`, accepts lists of values which it distributes across the generated macros. \n",
    "\n",
    "Imagine a list of 5 parameters. We want to create five macros that use these values:"
   ]
  },
  {
   "cell_type": "code",
   "execution_count": 8,
   "metadata": {
    "collapsed": false
   },
   "outputs": [
    {
     "data": {
      "text/plain": [
       "[[u'classoperation Main.MyParameter \"Set Value\" --value=\"2.2\"'],\n",
       " [u'classoperation Main.MyParameter \"Set Value\" --value=\"2.5\"'],\n",
       " [u'classoperation Main.MyParameter \"Set Value\" --value=\"2.7\"'],\n",
       " [u'classoperation Main.MyParameter \"Set Value\" --value=\"2.9\"'],\n",
       " [u'classoperation Main.MyParameter \"Set Value\" --value=\"3.1\"']]"
      ]
     },
     "execution_count": 8,
     "metadata": {},
     "output_type": "execute_result"
    }
   ],
   "source": [
    "parameter_list = [2.2, 2.5, 2.7, 2.9, 3.1]\n",
    "\n",
    "mg = AnyMacro(SetValue('Main.MyParameter', parameter_list ))\n",
    "mg.create_macros(5)"
   ]
  },
  {
   "cell_type": "markdown",
   "metadata": {},
   "source": [
    "## A simple parameter study"
   ]
  },
  {
   "cell_type": "markdown",
   "metadata": {},
   "source": [
    "Let us combine the previous to create a parameter study. We will continue with the simplified knee model where we left off in the [previous tutorial](01 - Getting started with anypytools.ipynb#Getting-data-from-the-AnyBody-Model). The parameter study will vary the patella tendon length from 2.0cm to 8.0cm, and observe the effect on maximum muscle activity.\n",
    "\n",
    "First we create a list of patella length parameters. "
   ]
  },
  {
   "cell_type": "code",
   "execution_count": 9,
   "metadata": {
    "collapsed": false
   },
   "outputs": [
    {
     "name": "stdout",
     "output_type": "stream",
     "text": [
      "[0.02, 0.03, 0.04, 0.05, 0.06, 0.07, 0.08]\n"
     ]
    }
   ],
   "source": [
    "patella_tendon_lengths = [0.02 + i*0.01 for i in range(7)]\n",
    "print(patella_tendon_lengths)"
   ]
  },
  {
   "cell_type": "markdown",
   "metadata": {},
   "source": [
    "This list of values is added to the macros with the `SetValue` class. "
   ]
  },
  {
   "cell_type": "code",
   "execution_count": 10,
   "metadata": {
    "collapsed": false
   },
   "outputs": [],
   "source": [
    "macro = [Load('Knee.any'),\n",
    "         SetValue('Main.MyModel.PatellaLigament.DriverPos', patella_tendon_lengths ),\n",
    "         OperationRun('Main.MyStudy.InverseDynamics'),\n",
    "         Dump('Main.MyStudy.Output.Abscissa.t'),\n",
    "         Dump('Main.MyStudy.Output.MaxMuscleActivity'),\n",
    "         Dump('Main.MyModel.PatellaLigament.DriverPos')]\n",
    "\n",
    "parameter_study_macro = AnyMacro(macro, number_of_macros= len(patella_tendon_lengths) )"
   ]
  },
  {
   "cell_type": "markdown",
   "metadata": {},
   "source": [
    "We can now run the model and analyze the resulting maximum muscle activity by plotting the data in the `output` variable:"
   ]
  },
  {
   "cell_type": "code",
   "execution_count": 11,
   "metadata": {
    "collapsed": false
   },
   "outputs": [
    {
     "name": "stdout",
     "output_type": "stream",
     "text": [
      "[****************100%******************]  7 of 7 complete"
     ]
    },
    {
     "data": {
      "text/html": [
       "<pre>Total time: 0.7 seconds</pre>"
      ],
      "text/plain": [
       "<IPython.core.display.HTML object>"
      ]
     },
     "metadata": {},
     "output_type": "display_data"
    }
   ],
   "source": [
    "output = app.start_macro(parameter_study_macro)"
   ]
  },
  {
   "cell_type": "code",
   "execution_count": 12,
   "metadata": {
    "collapsed": false
   },
   "outputs": [
    {
     "data": {
      "image/png": "[encoded data removed]",
      "text/plain": [
       "<matplotlib.figure.Figure at 0x13bcdb38>"
      ]
     },
     "metadata": {},
     "output_type": "display_data"
    }
   ],
   "source": [
    "%matplotlib inline\n",
    "import matplotlib.pyplot as plt\n",
    "\n",
    "for data in output:\n",
    "    maxact = data['Main.MyStudy.Output.MaxMuscleActivity']\n",
    "    time = data['Main.MyStudy.Output.Abscissa.t']\n",
    "    patella_ligament_length = data['Main.MyModel.PatellaLigament.DriverPos'][0]\n",
    "    plt.plot(time, maxact, label='{:.1f} cm'.format(100* patella_ligament_length) )\n",
    "\n",
    "plt.title('Effect of changing patella tendon length')    \n",
    "plt.xlabel('Time steps')\n",
    "plt.ylabel('Max muscle activity')\n",
    "plt.legend(bbox_to_anchor=(1.05, 1), loc=2);"
   ]
  }
 ],
 "metadata": {
  "kernelspec": {
   "display_name": "Python 2",
   "language": "python",
   "name": "python2"
  },
  "language_info": {
   "codemirror_mode": {
    "name": "ipython",
    "version": 2
   },
   "file_extension": ".py",
   "mimetype": "text/x-python",
   "name": "python",
   "nbconvert_exporter": "python",
   "pygments_lexer": "ipython2",
   "version": "2.7.9"
  }
 },
 "nbformat": 4,
 "nbformat_minor": 0
}
